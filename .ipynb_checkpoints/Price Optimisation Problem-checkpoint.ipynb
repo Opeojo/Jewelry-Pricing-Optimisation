{
 "cells": [
  {
   "cell_type": "markdown",
   "id": "46a0c2c9-a0b2-435d-b19e-17cfefc54118",
   "metadata": {},
   "source": [
    "Jewelry Price Optimization\n",
    "==="
   ]
  },
  {
   "cell_type": "markdown",
   "id": "79d10b8b-a068-4649-a349-ddfa2343f31b",
   "metadata": {},
   "source": [
    "### Import Libraries "
   ]
  },
  {
   "cell_type": "code",
   "execution_count": 1,
   "id": "366a5f10-96c1-4fcf-81c7-574d2dc7c3c6",
   "metadata": {},
   "outputs": [],
   "source": [
    "# Load libraries and packages\n",
    "import pandas as pd\n",
    "import numpy as np\n",
    "\n",
    "from matplotlib import pyplot as plt\n",
    "import seaborn as sns\n",
    "\n",
    "# visualisation settings\n",
    "sns.set(style='whitegrid')\n",
    "# plt.style.use('fivethirtyeight')"
   ]
  },
  {
   "cell_type": "markdown",
   "id": "1367b7a5-41d3-4149-bf72-bbb4b95868a9",
   "metadata": {},
   "source": [
    "### Load Data Set"
   ]
  },
  {
   "cell_type": "code",
   "execution_count": 2,
   "id": "a4024500-1e15-4055-b614-4f4fca0a2871",
   "metadata": {},
   "outputs": [
    {
     "data": {
      "text/html": [
       "<div>\n",
       "<style scoped>\n",
       "    .dataframe tbody tr th:only-of-type {\n",
       "        vertical-align: middle;\n",
       "    }\n",
       "\n",
       "    .dataframe tbody tr th {\n",
       "        vertical-align: top;\n",
       "    }\n",
       "\n",
       "    .dataframe thead th {\n",
       "        text-align: right;\n",
       "    }\n",
       "</style>\n",
       "<table border=\"1\" class=\"dataframe\">\n",
       "  <thead>\n",
       "    <tr style=\"text-align: right;\">\n",
       "      <th></th>\n",
       "      <th>Column name</th>\n",
       "      <th>Column description</th>\n",
       "    </tr>\n",
       "  </thead>\n",
       "  <tbody>\n",
       "    <tr>\n",
       "      <th>0</th>\n",
       "      <td>Order datetime</td>\n",
       "      <td>Date  product was ordered</td>\n",
       "    </tr>\n",
       "    <tr>\n",
       "      <th>1</th>\n",
       "      <td>Order ID</td>\n",
       "      <td>Identifier for order</td>\n",
       "    </tr>\n",
       "    <tr>\n",
       "      <th>2</th>\n",
       "      <td>Purchased product ID</td>\n",
       "      <td>Identifier for product ordered</td>\n",
       "    </tr>\n",
       "    <tr>\n",
       "      <th>3</th>\n",
       "      <td>Quantity of SKU in the order</td>\n",
       "      <td>Amount of stock keeping unit ordered</td>\n",
       "    </tr>\n",
       "    <tr>\n",
       "      <th>4</th>\n",
       "      <td>Category ID</td>\n",
       "      <td>Jewelry category identifier</td>\n",
       "    </tr>\n",
       "    <tr>\n",
       "      <th>5</th>\n",
       "      <td>Category alias</td>\n",
       "      <td>Jewelry category</td>\n",
       "    </tr>\n",
       "    <tr>\n",
       "      <th>6</th>\n",
       "      <td>Brand ID</td>\n",
       "      <td>Brand identifier</td>\n",
       "    </tr>\n",
       "    <tr>\n",
       "      <th>7</th>\n",
       "      <td>Price in USD</td>\n",
       "      <td>Jewelry price</td>\n",
       "    </tr>\n",
       "    <tr>\n",
       "      <th>8</th>\n",
       "      <td>User ID</td>\n",
       "      <td>User identifier</td>\n",
       "    </tr>\n",
       "    <tr>\n",
       "      <th>9</th>\n",
       "      <td>Product gender (for male/female)</td>\n",
       "      <td>Target gender for product</td>\n",
       "    </tr>\n",
       "    <tr>\n",
       "      <th>10</th>\n",
       "      <td>Main Color</td>\n",
       "      <td>Main color of the jewelry piece</td>\n",
       "    </tr>\n",
       "    <tr>\n",
       "      <th>11</th>\n",
       "      <td>Main metal</td>\n",
       "      <td>The main metal used for mounting of the piece</td>\n",
       "    </tr>\n",
       "    <tr>\n",
       "      <th>12</th>\n",
       "      <td>Main gem</td>\n",
       "      <td>What gem type mounted on the jewelry piece</td>\n",
       "    </tr>\n",
       "  </tbody>\n",
       "</table>\n",
       "</div>"
      ],
      "text/plain": [
       "                         Column name  \\\n",
       "0                     Order datetime   \n",
       "1                           Order ID   \n",
       "2               Purchased product ID   \n",
       "3       Quantity of SKU in the order   \n",
       "4                        Category ID   \n",
       "5                     Category alias   \n",
       "6                           Brand ID   \n",
       "7                       Price in USD   \n",
       "8                            User ID   \n",
       "9   Product gender (for male/female)   \n",
       "10                        Main Color   \n",
       "11                        Main metal   \n",
       "12                          Main gem   \n",
       "\n",
       "                               Column description  \n",
       "0                       Date  product was ordered  \n",
       "1                            Identifier for order  \n",
       "2                  Identifier for product ordered  \n",
       "3            Amount of stock keeping unit ordered  \n",
       "4                     Jewelry category identifier  \n",
       "5                                Jewelry category  \n",
       "6                                Brand identifier  \n",
       "7                                   Jewelry price  \n",
       "8                                 User identifier  \n",
       "9                       Target gender for product  \n",
       "10                Main color of the jewelry piece  \n",
       "11  The main metal used for mounting of the piece  \n",
       "12     What gem type mounted on the jewelry piece  "
      ]
     },
     "execution_count": 2,
     "metadata": {},
     "output_type": "execute_result"
    }
   ],
   "source": [
    "# load dataset\n",
    "jewelry_df = pd .read_csv('Jewelry_Dataset.csv')\n",
    "col_headers = pd.read_excel('Jewelry_Data_Dictionary.xlsx')\n",
    "col_headers"
   ]
  },
  {
   "cell_type": "code",
   "execution_count": 3,
   "id": "a05409d5-27d6-41dc-976b-447d6d2f1fa3",
   "metadata": {},
   "outputs": [],
   "source": [
    "# function to format hearders for the dataset\n",
    "\n",
    "# the regular expression module\n",
    "import re\n",
    "\n",
    "def format_header(col_name):\n",
    "    match = re.search(r'^(\\b\\w+\\s?\\b){,3}', col_name)\n",
    "    string_list = match.group().split()\n",
    "    second = string_list[1]\n",
    "    if (len(string_list) == 3 and len(second) > 2):\n",
    "        string_list[1] = second.title()\n",
    "    if len(string_list) == 2 and second.islower():\n",
    "        string_list[1] = second.title()\n",
    "    return (' ').join(string_list).strip()"
   ]
  },
  {
   "cell_type": "code",
   "execution_count": 4,
   "id": "da288355-70a1-4d98-9d5e-b49ab9e48648",
   "metadata": {},
   "outputs": [
    {
     "data": {
      "text/html": [
       "<div>\n",
       "<style scoped>\n",
       "    .dataframe tbody tr th:only-of-type {\n",
       "        vertical-align: middle;\n",
       "    }\n",
       "\n",
       "    .dataframe tbody tr th {\n",
       "        vertical-align: top;\n",
       "    }\n",
       "\n",
       "    .dataframe thead th {\n",
       "        text-align: right;\n",
       "    }\n",
       "</style>\n",
       "<table border=\"1\" class=\"dataframe\">\n",
       "  <thead>\n",
       "    <tr style=\"text-align: right;\">\n",
       "      <th></th>\n",
       "      <th>Order Datetime</th>\n",
       "      <th>Order ID</th>\n",
       "      <th>Purchased Product ID</th>\n",
       "      <th>Quantity of SKU</th>\n",
       "      <th>Category ID</th>\n",
       "      <th>Category Alias</th>\n",
       "      <th>Brand ID</th>\n",
       "      <th>Price in USD</th>\n",
       "      <th>User ID</th>\n",
       "      <th>Product Gender</th>\n",
       "      <th>Main Color</th>\n",
       "      <th>Main Metal</th>\n",
       "      <th>Main Gem</th>\n",
       "    </tr>\n",
       "  </thead>\n",
       "  <tbody>\n",
       "    <tr>\n",
       "      <th>0</th>\n",
       "      <td>2018-12-01 17:38:31 UTC</td>\n",
       "      <td>1924899396621697920</td>\n",
       "      <td>1806829193678291446</td>\n",
       "      <td>1</td>\n",
       "      <td>1.806829e+18</td>\n",
       "      <td>NaN</td>\n",
       "      <td>NaN</td>\n",
       "      <td>212.14</td>\n",
       "      <td>1.515916e+18</td>\n",
       "      <td>NaN</td>\n",
       "      <td>yellow</td>\n",
       "      <td>gold</td>\n",
       "      <td>NaN</td>\n",
       "    </tr>\n",
       "    <tr>\n",
       "      <th>1</th>\n",
       "      <td>2018-12-02 13:53:42 UTC</td>\n",
       "      <td>1925511016616034733</td>\n",
       "      <td>1842214461889315556</td>\n",
       "      <td>1</td>\n",
       "      <td>1.806829e+18</td>\n",
       "      <td>jewelry.pendant</td>\n",
       "      <td>1.0</td>\n",
       "      <td>54.66</td>\n",
       "      <td>1.515916e+18</td>\n",
       "      <td>f</td>\n",
       "      <td>white</td>\n",
       "      <td>gold</td>\n",
       "      <td>sapphire</td>\n",
       "    </tr>\n",
       "    <tr>\n",
       "      <th>2</th>\n",
       "      <td>2018-12-02 17:44:02 UTC</td>\n",
       "      <td>1925626951238681511</td>\n",
       "      <td>1835566849434059453</td>\n",
       "      <td>1</td>\n",
       "      <td>1.806829e+18</td>\n",
       "      <td>jewelry.pendant</td>\n",
       "      <td>0.0</td>\n",
       "      <td>88.90</td>\n",
       "      <td>1.515916e+18</td>\n",
       "      <td>f</td>\n",
       "      <td>red</td>\n",
       "      <td>gold</td>\n",
       "      <td>diamond</td>\n",
       "    </tr>\n",
       "    <tr>\n",
       "      <th>3</th>\n",
       "      <td>2018-12-02 21:30:19 UTC</td>\n",
       "      <td>1925740842841014667</td>\n",
       "      <td>1873936840742928865</td>\n",
       "      <td>1</td>\n",
       "      <td>1.806829e+18</td>\n",
       "      <td>jewelry.necklace</td>\n",
       "      <td>0.0</td>\n",
       "      <td>417.67</td>\n",
       "      <td>1.515916e+18</td>\n",
       "      <td>NaN</td>\n",
       "      <td>red</td>\n",
       "      <td>gold</td>\n",
       "      <td>amethyst</td>\n",
       "    </tr>\n",
       "    <tr>\n",
       "      <th>4</th>\n",
       "      <td>2018-12-02 22:09:34 UTC</td>\n",
       "      <td>1925760595336888995</td>\n",
       "      <td>1835566854827934449</td>\n",
       "      <td>1</td>\n",
       "      <td>1.806829e+18</td>\n",
       "      <td>jewelry.earring</td>\n",
       "      <td>1.0</td>\n",
       "      <td>102.27</td>\n",
       "      <td>1.515916e+18</td>\n",
       "      <td>NaN</td>\n",
       "      <td>red</td>\n",
       "      <td>gold</td>\n",
       "      <td>NaN</td>\n",
       "    </tr>\n",
       "  </tbody>\n",
       "</table>\n",
       "</div>"
      ],
      "text/plain": [
       "            Order Datetime             Order ID  Purchased Product ID  \\\n",
       "0  2018-12-01 17:38:31 UTC  1924899396621697920   1806829193678291446   \n",
       "1  2018-12-02 13:53:42 UTC  1925511016616034733   1842214461889315556   \n",
       "2  2018-12-02 17:44:02 UTC  1925626951238681511   1835566849434059453   \n",
       "3  2018-12-02 21:30:19 UTC  1925740842841014667   1873936840742928865   \n",
       "4  2018-12-02 22:09:34 UTC  1925760595336888995   1835566854827934449   \n",
       "\n",
       "   Quantity of SKU   Category ID    Category Alias  Brand ID  Price in USD  \\\n",
       "0                1  1.806829e+18               NaN       NaN        212.14   \n",
       "1                1  1.806829e+18   jewelry.pendant       1.0         54.66   \n",
       "2                1  1.806829e+18   jewelry.pendant       0.0         88.90   \n",
       "3                1  1.806829e+18  jewelry.necklace       0.0        417.67   \n",
       "4                1  1.806829e+18   jewelry.earring       1.0        102.27   \n",
       "\n",
       "        User ID Product Gender Main Color Main Metal  Main Gem  \n",
       "0  1.515916e+18            NaN     yellow       gold       NaN  \n",
       "1  1.515916e+18              f      white       gold  sapphire  \n",
       "2  1.515916e+18              f        red       gold   diamond  \n",
       "3  1.515916e+18            NaN        red       gold  amethyst  \n",
       "4  1.515916e+18            NaN        red       gold       NaN  "
      ]
     },
     "execution_count": 4,
     "metadata": {},
     "output_type": "execute_result"
    }
   ],
   "source": [
    "jewelry_df.columns = col_headers['Column name'].apply(format_header).to_list()\n",
    "jewelry_df.head()"
   ]
  },
  {
   "cell_type": "code",
   "execution_count": 5,
   "id": "ce8f0acf-d70b-4105-8cde-fdd3c13505f6",
   "metadata": {},
   "outputs": [
    {
     "name": "stdout",
     "output_type": "stream",
     "text": [
      "<class 'pandas.core.frame.DataFrame'>\n",
      "RangeIndex: 95910 entries, 0 to 95909\n",
      "Data columns (total 13 columns):\n",
      " #   Column                Non-Null Count  Dtype  \n",
      "---  ------                --------------  -----  \n",
      " 0   Order Datetime        95910 non-null  object \n",
      " 1   Order ID              95910 non-null  int64  \n",
      " 2   Purchased Product ID  95910 non-null  int64  \n",
      " 3   Quantity of SKU       95910 non-null  int64  \n",
      " 4   Category ID           90558 non-null  float64\n",
      " 5   Category Alias        85977 non-null  object \n",
      " 6   Brand ID              91125 non-null  float64\n",
      " 7   Price in USD          90558 non-null  float64\n",
      " 8   User ID               90558 non-null  float64\n",
      " 9   Product Gender        47743 non-null  object \n",
      " 10  Main Color            88250 non-null  object \n",
      " 11  Main Metal            90448 non-null  object \n",
      " 12  Main Gem              61852 non-null  object \n",
      "dtypes: float64(4), int64(3), object(6)\n",
      "memory usage: 9.5+ MB\n"
     ]
    }
   ],
   "source": [
    "jewelry_df.info()"
   ]
  },
  {
   "cell_type": "markdown",
   "id": "4df190ce-ad65-4841-a05a-431ec9c6b420",
   "metadata": {},
   "source": [
    "### Data Wrangling"
   ]
  },
  {
   "cell_type": "code",
   "execution_count": 6,
   "id": "181bd5fa-8f0c-41c0-b0d8-9f22df72807b",
   "metadata": {},
   "outputs": [
    {
     "data": {
      "text/plain": [
       "Order Datetime              0\n",
       "Order ID                    0\n",
       "Purchased Product ID        0\n",
       "Quantity of SKU             0\n",
       "Category ID              5352\n",
       "Category Alias           9933\n",
       "Brand ID                 4785\n",
       "Price in USD             5352\n",
       "User ID                  5352\n",
       "Product Gender          48167\n",
       "Main Color               7660\n",
       "Main Metal               5462\n",
       "Main Gem                34058\n",
       "dtype: int64"
      ]
     },
     "execution_count": 6,
     "metadata": {},
     "output_type": "execute_result"
    }
   ],
   "source": [
    "jewelry_df.isnull().sum()"
   ]
  },
  {
   "cell_type": "markdown",
   "id": "9230b709-edf1-4931-b7ca-21c56ae45161",
   "metadata": {},
   "source": [
    "_**The number of null values in the feature space is highly significant.**_"
   ]
  },
  {
   "cell_type": "code",
   "execution_count": 7,
   "id": "c35c3f3b-785b-44ef-b537-92364c3a056d",
   "metadata": {},
   "outputs": [
    {
     "data": {
      "text/plain": [
       "Order Datetime          74504\n",
       "Order ID                74759\n",
       "Purchased Product ID     9613\n",
       "Quantity of SKU             1\n",
       "Category ID                25\n",
       "Category Alias            218\n",
       "Brand ID                 2537\n",
       "Price in USD             3166\n",
       "User ID                 31079\n",
       "Product Gender              2\n",
       "Main Color                  5\n",
       "Main Metal                  3\n",
       "Main Gem                   30\n",
       "dtype: int64"
      ]
     },
     "execution_count": 7,
     "metadata": {},
     "output_type": "execute_result"
    }
   ],
   "source": [
    "jewelry_df.nunique()"
   ]
  },
  {
   "cell_type": "code",
   "execution_count": 8,
   "id": "54029df9-14a1-4960-9372-a7b04642a07b",
   "metadata": {},
   "outputs": [
    {
     "name": "stdout",
     "output_type": "stream",
     "text": [
      "1\n",
      "95910\n",
      "95910 \n",
      "\n",
      "Quantity of SKU\n",
      "1                  95910\n",
      "dtype: int64\n"
     ]
    }
   ],
   "source": [
    "print(jewelry_df['Quantity of SKU'].nunique())\n",
    "print(jewelry_df['Quantity of SKU'].count())\n",
    "print(jewelry_df['Quantity of SKU'].size, '\\n')\n",
    "print(jewelry_df[['Quantity of SKU']].value_counts())"
   ]
  },
  {
   "cell_type": "markdown",
   "id": "8efd9631-7125-4120-ba73-3c777caa2e40",
   "metadata": {},
   "source": [
    "#### Feature Invariant Column"
   ]
  },
  {
   "cell_type": "code",
   "execution_count": 9,
   "id": "1a5ad4c0-b131-45e6-af01-37b42ee7d21d",
   "metadata": {},
   "outputs": [],
   "source": [
    "# remove feature invariant column\n",
    "data = jewelry_df.drop('Quantity of SKU', axis=1)"
   ]
  },
  {
   "cell_type": "code",
   "execution_count": 10,
   "id": "7513fb55-b906-4182-aa12-55dafb130bb4",
   "metadata": {},
   "outputs": [
    {
     "data": {
      "text/html": [
       "<div>\n",
       "<style scoped>\n",
       "    .dataframe tbody tr th:only-of-type {\n",
       "        vertical-align: middle;\n",
       "    }\n",
       "\n",
       "    .dataframe tbody tr th {\n",
       "        vertical-align: top;\n",
       "    }\n",
       "\n",
       "    .dataframe thead th {\n",
       "        text-align: right;\n",
       "    }\n",
       "</style>\n",
       "<table border=\"1\" class=\"dataframe\">\n",
       "  <thead>\n",
       "    <tr style=\"text-align: right;\">\n",
       "      <th></th>\n",
       "      <th>Order Datetime</th>\n",
       "      <th>Order ID</th>\n",
       "      <th>Purchased Product ID</th>\n",
       "      <th>Category ID</th>\n",
       "      <th>Category Alias</th>\n",
       "      <th>Brand ID</th>\n",
       "      <th>Price in USD</th>\n",
       "      <th>User ID</th>\n",
       "      <th>Product Gender</th>\n",
       "      <th>Main Color</th>\n",
       "      <th>Main Metal</th>\n",
       "      <th>Main Gem</th>\n",
       "    </tr>\n",
       "  </thead>\n",
       "  <tbody>\n",
       "    <tr>\n",
       "      <th>0</th>\n",
       "      <td>2018-12-01 17:38:31 UTC</td>\n",
       "      <td>1924899396621697920</td>\n",
       "      <td>1806829193678291446</td>\n",
       "      <td>1.806829e+18</td>\n",
       "      <td>NaN</td>\n",
       "      <td>NaN</td>\n",
       "      <td>212.14</td>\n",
       "      <td>1.515916e+18</td>\n",
       "      <td>NaN</td>\n",
       "      <td>yellow</td>\n",
       "      <td>gold</td>\n",
       "      <td>NaN</td>\n",
       "    </tr>\n",
       "    <tr>\n",
       "      <th>1</th>\n",
       "      <td>2018-12-02 13:53:42 UTC</td>\n",
       "      <td>1925511016616034733</td>\n",
       "      <td>1842214461889315556</td>\n",
       "      <td>1.806829e+18</td>\n",
       "      <td>jewelry.pendant</td>\n",
       "      <td>1.0</td>\n",
       "      <td>54.66</td>\n",
       "      <td>1.515916e+18</td>\n",
       "      <td>f</td>\n",
       "      <td>white</td>\n",
       "      <td>gold</td>\n",
       "      <td>sapphire</td>\n",
       "    </tr>\n",
       "    <tr>\n",
       "      <th>2</th>\n",
       "      <td>2018-12-02 17:44:02 UTC</td>\n",
       "      <td>1925626951238681511</td>\n",
       "      <td>1835566849434059453</td>\n",
       "      <td>1.806829e+18</td>\n",
       "      <td>jewelry.pendant</td>\n",
       "      <td>0.0</td>\n",
       "      <td>88.90</td>\n",
       "      <td>1.515916e+18</td>\n",
       "      <td>f</td>\n",
       "      <td>red</td>\n",
       "      <td>gold</td>\n",
       "      <td>diamond</td>\n",
       "    </tr>\n",
       "    <tr>\n",
       "      <th>3</th>\n",
       "      <td>2018-12-02 21:30:19 UTC</td>\n",
       "      <td>1925740842841014667</td>\n",
       "      <td>1873936840742928865</td>\n",
       "      <td>1.806829e+18</td>\n",
       "      <td>jewelry.necklace</td>\n",
       "      <td>0.0</td>\n",
       "      <td>417.67</td>\n",
       "      <td>1.515916e+18</td>\n",
       "      <td>NaN</td>\n",
       "      <td>red</td>\n",
       "      <td>gold</td>\n",
       "      <td>amethyst</td>\n",
       "    </tr>\n",
       "    <tr>\n",
       "      <th>4</th>\n",
       "      <td>2018-12-02 22:09:34 UTC</td>\n",
       "      <td>1925760595336888995</td>\n",
       "      <td>1835566854827934449</td>\n",
       "      <td>1.806829e+18</td>\n",
       "      <td>jewelry.earring</td>\n",
       "      <td>1.0</td>\n",
       "      <td>102.27</td>\n",
       "      <td>1.515916e+18</td>\n",
       "      <td>NaN</td>\n",
       "      <td>red</td>\n",
       "      <td>gold</td>\n",
       "      <td>NaN</td>\n",
       "    </tr>\n",
       "  </tbody>\n",
       "</table>\n",
       "</div>"
      ],
      "text/plain": [
       "            Order Datetime             Order ID  Purchased Product ID  \\\n",
       "0  2018-12-01 17:38:31 UTC  1924899396621697920   1806829193678291446   \n",
       "1  2018-12-02 13:53:42 UTC  1925511016616034733   1842214461889315556   \n",
       "2  2018-12-02 17:44:02 UTC  1925626951238681511   1835566849434059453   \n",
       "3  2018-12-02 21:30:19 UTC  1925740842841014667   1873936840742928865   \n",
       "4  2018-12-02 22:09:34 UTC  1925760595336888995   1835566854827934449   \n",
       "\n",
       "    Category ID    Category Alias  Brand ID  Price in USD       User ID  \\\n",
       "0  1.806829e+18               NaN       NaN        212.14  1.515916e+18   \n",
       "1  1.806829e+18   jewelry.pendant       1.0         54.66  1.515916e+18   \n",
       "2  1.806829e+18   jewelry.pendant       0.0         88.90  1.515916e+18   \n",
       "3  1.806829e+18  jewelry.necklace       0.0        417.67  1.515916e+18   \n",
       "4  1.806829e+18   jewelry.earring       1.0        102.27  1.515916e+18   \n",
       "\n",
       "  Product Gender Main Color Main Metal  Main Gem  \n",
       "0            NaN     yellow       gold       NaN  \n",
       "1              f      white       gold  sapphire  \n",
       "2              f        red       gold   diamond  \n",
       "3            NaN        red       gold  amethyst  \n",
       "4            NaN        red       gold       NaN  "
      ]
     },
     "execution_count": 10,
     "metadata": {},
     "output_type": "execute_result"
    }
   ],
   "source": [
    "data.head()"
   ]
  },
  {
   "cell_type": "code",
   "execution_count": 11,
   "id": "0ffa18fa-4f7f-40ac-b42e-9c1e82d445a1",
   "metadata": {},
   "outputs": [
    {
     "name": "stdout",
     "output_type": "stream",
     "text": [
      "218\n",
      "95910\n",
      "85977\n",
      "jewelry.earring     29051\n",
      "jewelry.ring        28300\n",
      "jewelry.pendant     13088\n",
      "jewelry.bracelet     6188\n",
      "0.00                 4392\n",
      "                    ...  \n",
      "626.58                  1\n",
      "13.42                   1\n",
      "2.88                    1\n",
      "101.23                  1\n",
      "253.77                  1\n",
      "Name: Category Alias, Length: 218, dtype: int64\n"
     ]
    }
   ],
   "source": [
    "# explore the 'Category Alias' column\n",
    "print(data['Category Alias'].nunique())\n",
    "print(data['Category Alias'].size)\n",
    "print(data['Category Alias'].count())\n",
    "\n",
    "\n",
    "print(data['Category Alias'].value_counts())"
   ]
  },
  {
   "cell_type": "markdown",
   "id": "48565809-7d3b-46e5-9bac-8c2f300f06b5",
   "metadata": {},
   "source": [
    "__The 'Category Alias' column has a lot invalid values.__"
   ]
  },
  {
   "cell_type": "code",
   "execution_count": 12,
   "id": "85226bdf-17f5-4511-aaf7-b46e99399bc6",
   "metadata": {},
   "outputs": [
    {
     "data": {
      "text/plain": [
       "Order Datetime           0.000000\n",
       "Order ID                 0.000000\n",
       "Purchased Product ID     0.000000\n",
       "Category ID              5.580231\n",
       "Category Alias          10.356584\n",
       "Brand ID                 4.989052\n",
       "Price in USD             5.580231\n",
       "User ID                  5.580231\n",
       "Product Gender          50.221041\n",
       "Main Color               7.986654\n",
       "Main Metal               5.694922\n",
       "Main Gem                35.510374\n",
       "dtype: float64"
      ]
     },
     "execution_count": 12,
     "metadata": {},
     "output_type": "execute_result"
    }
   ],
   "source": [
    "# percentage of missing data for each feature\n",
    "100 * data.isnull().sum()/len(data)"
   ]
  },
  {
   "cell_type": "code",
   "execution_count": 13,
   "id": "f77c3de8-a390-4479-b8e6-eb8bc68a3af0",
   "metadata": {},
   "outputs": [
    {
     "data": {
      "text/plain": [
       "['jewelry.pendant',\n",
       " 'jewelry.necklace',\n",
       " 'jewelry.earring',\n",
       " 'jewelry.ring',\n",
       " 'jewelry.brooch',\n",
       " 'jewelry.bracelet',\n",
       " 'jewelry.souvenir',\n",
       " 'jewelry.stud']"
      ]
     },
     "execution_count": 13,
     "metadata": {},
     "output_type": "execute_result"
    }
   ],
   "source": [
    "# extract actual categories\n",
    "categories = [c for c in data['Category Alias'].unique() if isinstance(c, str) and 'jewelry' in c]\n",
    "categories"
   ]
  },
  {
   "cell_type": "code",
   "execution_count": 14,
   "id": "94e17d01-398c-41ce-a683-309bfd93aa9e",
   "metadata": {},
   "outputs": [],
   "source": [
    "# remove all the invalid categories\n",
    "data = data[data['Category Alias'].isin(categories)]"
   ]
  },
  {
   "cell_type": "code",
   "execution_count": 15,
   "id": "bd12a345-b0b6-460f-be53-51d4314b60fe",
   "metadata": {},
   "outputs": [
    {
     "data": {
      "text/plain": [
       "(78087, 12)"
      ]
     },
     "execution_count": 15,
     "metadata": {},
     "output_type": "execute_result"
    }
   ],
   "source": [
    "# remove duplicates\n",
    "data.drop_duplicates(inplace=True)\n",
    "data.shape"
   ]
  },
  {
   "cell_type": "code",
   "execution_count": 16,
   "id": "e808c20b-5a13-40d3-ba09-cc7fa2c33367",
   "metadata": {},
   "outputs": [
    {
     "data": {
      "text/plain": [
       "Order Datetime           0.000000\n",
       "Order ID                 0.000000\n",
       "Purchased Product ID     0.000000\n",
       "Category ID              0.000000\n",
       "Category Alias           0.000000\n",
       "Brand ID                 4.313138\n",
       "Price in USD             0.000000\n",
       "User ID                  0.000000\n",
       "Product Gender          44.018851\n",
       "Main Color               2.401168\n",
       "Main Metal               0.110134\n",
       "Main Gem                23.158784\n",
       "dtype: float64"
      ]
     },
     "execution_count": 16,
     "metadata": {},
     "output_type": "execute_result"
    }
   ],
   "source": [
    "# percentage of missing data for each feature after removing invalid category aliases\n",
    "100 * data.isnull().sum()/len(data)"
   ]
  },
  {
   "cell_type": "code",
   "execution_count": 17,
   "id": "201fc849-f213-4332-b3a6-b591d0026699",
   "metadata": {},
   "outputs": [
    {
     "data": {
      "text/html": [
       "<div>\n",
       "<style scoped>\n",
       "    .dataframe tbody tr th:only-of-type {\n",
       "        vertical-align: middle;\n",
       "    }\n",
       "\n",
       "    .dataframe tbody tr th {\n",
       "        vertical-align: top;\n",
       "    }\n",
       "\n",
       "    .dataframe thead th {\n",
       "        text-align: right;\n",
       "    }\n",
       "</style>\n",
       "<table border=\"1\" class=\"dataframe\">\n",
       "  <thead>\n",
       "    <tr style=\"text-align: right;\">\n",
       "      <th></th>\n",
       "      <th>Order Datetime</th>\n",
       "      <th>Order ID</th>\n",
       "      <th>Purchased Product ID</th>\n",
       "      <th>Category ID</th>\n",
       "      <th>Category Alias</th>\n",
       "      <th>Brand ID</th>\n",
       "      <th>Price in USD</th>\n",
       "      <th>User ID</th>\n",
       "      <th>Product Gender</th>\n",
       "      <th>Main Color</th>\n",
       "      <th>Main Metal</th>\n",
       "      <th>Main Gem</th>\n",
       "    </tr>\n",
       "  </thead>\n",
       "  <tbody>\n",
       "    <tr>\n",
       "      <th>34226</th>\n",
       "      <td>2020-12-15 07:24:13 UTC</td>\n",
       "      <td>2464548131233071449</td>\n",
       "      <td>1956663831014933105</td>\n",
       "      <td>1.806829e+18</td>\n",
       "      <td>jewelry.earring</td>\n",
       "      <td>1.0</td>\n",
       "      <td>158.77</td>\n",
       "      <td>1.515916e+18</td>\n",
       "      <td>f</td>\n",
       "      <td>red</td>\n",
       "      <td>gold</td>\n",
       "      <td>fianit</td>\n",
       "    </tr>\n",
       "    <tr>\n",
       "      <th>70995</th>\n",
       "      <td>2021-08-17 05:46:06 UTC</td>\n",
       "      <td>2642068802413527636</td>\n",
       "      <td>1944422271028298685</td>\n",
       "      <td>1.806829e+18</td>\n",
       "      <td>jewelry.ring</td>\n",
       "      <td>1.0</td>\n",
       "      <td>493.01</td>\n",
       "      <td>1.515916e+18</td>\n",
       "      <td>f</td>\n",
       "      <td>white</td>\n",
       "      <td>gold</td>\n",
       "      <td>diamond</td>\n",
       "    </tr>\n",
       "    <tr>\n",
       "      <th>48852</th>\n",
       "      <td>2021-03-14 00:29:10 UTC</td>\n",
       "      <td>2528844267925799809</td>\n",
       "      <td>1897215827636126436</td>\n",
       "      <td>1.806829e+18</td>\n",
       "      <td>jewelry.ring</td>\n",
       "      <td>1.0</td>\n",
       "      <td>198.49</td>\n",
       "      <td>1.515916e+18</td>\n",
       "      <td>f</td>\n",
       "      <td>red</td>\n",
       "      <td>gold</td>\n",
       "      <td>diamond</td>\n",
       "    </tr>\n",
       "    <tr>\n",
       "      <th>72523</th>\n",
       "      <td>2021-08-22 11:56:55 UTC</td>\n",
       "      <td>2645879320534319976</td>\n",
       "      <td>1956663830989767249</td>\n",
       "      <td>1.806829e+18</td>\n",
       "      <td>jewelry.earring</td>\n",
       "      <td>0.0</td>\n",
       "      <td>249.18</td>\n",
       "      <td>1.515916e+18</td>\n",
       "      <td>NaN</td>\n",
       "      <td>red</td>\n",
       "      <td>gold</td>\n",
       "      <td>fianit</td>\n",
       "    </tr>\n",
       "    <tr>\n",
       "      <th>40460</th>\n",
       "      <td>2021-01-09 16:42:34 UTC</td>\n",
       "      <td>2482948549944279368</td>\n",
       "      <td>1956663831216259990</td>\n",
       "      <td>1.806829e+18</td>\n",
       "      <td>jewelry.earring</td>\n",
       "      <td>1.0</td>\n",
       "      <td>98.49</td>\n",
       "      <td>1.515916e+18</td>\n",
       "      <td>NaN</td>\n",
       "      <td>red</td>\n",
       "      <td>gold</td>\n",
       "      <td>NaN</td>\n",
       "    </tr>\n",
       "  </tbody>\n",
       "</table>\n",
       "</div>"
      ],
      "text/plain": [
       "                Order Datetime             Order ID  Purchased Product ID  \\\n",
       "34226  2020-12-15 07:24:13 UTC  2464548131233071449   1956663831014933105   \n",
       "70995  2021-08-17 05:46:06 UTC  2642068802413527636   1944422271028298685   \n",
       "48852  2021-03-14 00:29:10 UTC  2528844267925799809   1897215827636126436   \n",
       "72523  2021-08-22 11:56:55 UTC  2645879320534319976   1956663830989767249   \n",
       "40460  2021-01-09 16:42:34 UTC  2482948549944279368   1956663831216259990   \n",
       "\n",
       "        Category ID   Category Alias  Brand ID  Price in USD       User ID  \\\n",
       "34226  1.806829e+18  jewelry.earring       1.0        158.77  1.515916e+18   \n",
       "70995  1.806829e+18     jewelry.ring       1.0        493.01  1.515916e+18   \n",
       "48852  1.806829e+18     jewelry.ring       1.0        198.49  1.515916e+18   \n",
       "72523  1.806829e+18  jewelry.earring       0.0        249.18  1.515916e+18   \n",
       "40460  1.806829e+18  jewelry.earring       1.0         98.49  1.515916e+18   \n",
       "\n",
       "      Product Gender Main Color Main Metal Main Gem  \n",
       "34226              f        red       gold   fianit  \n",
       "70995              f      white       gold  diamond  \n",
       "48852              f        red       gold  diamond  \n",
       "72523            NaN        red       gold   fianit  \n",
       "40460            NaN        red       gold      NaN  "
      ]
     },
     "execution_count": 17,
     "metadata": {},
     "output_type": "execute_result"
    }
   ],
   "source": [
    "data.sample(5)"
   ]
  },
  {
   "cell_type": "code",
   "execution_count": 18,
   "id": "9e668d8b-70d5-4c11-9820-b5afd665cacd",
   "metadata": {},
   "outputs": [
    {
     "data": {
      "image/png": "[encoded data removed]",
      "text/plain": [
       "<Figure size 1200x800 with 1 Axes>"
      ]
     },
     "metadata": {},
     "output_type": "display_data"
    }
   ],
   "source": [
    "# visualise the category alias\n",
    "pie_data= data['Category Alias'].value_counts()\n",
    "cat, count = pie_data.index.tolist(), pie_data.values.tolist()\n",
    "\n",
    "plt.figure(figsize=(12,8))\n",
    "plt.pie(count, labels=cat)\n",
    "plt.show()"
   ]
  },
  {
   "cell_type": "code",
   "execution_count": 19,
   "id": "55369dfe-353b-4b45-956a-74e5c695779e",
   "metadata": {},
   "outputs": [
    {
     "data": {
      "image/png": "[encoded data removed]",
      "text/plain": [
       "<Figure size 1200x800 with 1 Axes>"
      ]
     },
     "metadata": {},
     "output_type": "display_data"
    }
   ],
   "source": [
    "# Count plot of 'Category Alias' \n",
    "plt.figure(figsize=(12,8))\n",
    "sns.countplot(data=data, x=\"Category Alias\")\n",
    "plt.xlabel('Category of Jewelry')\n",
    "plt.ylabel('Frequency')\n",
    "plt.title('Bar Plot of Jewelry Categories');"
   ]
  },
  {
   "cell_type": "code",
   "execution_count": 20,
   "id": "188cdb6e-2ce6-4b20-a1a6-e4a3056703d4",
   "metadata": {},
   "outputs": [
    {
     "data": {
      "image/png": "[encoded data removed]",
      "text/plain": [
       "<Figure size 1200x800 with 1 Axes>"
      ]
     },
     "metadata": {},
     "output_type": "display_data"
    }
   ],
   "source": [
    "# Count plot of 'Category Alias' with respect to 'Product Gender' \n",
    "plt.figure(figsize=(12,8))\n",
    "sns.countplot(data=data, x=\"Category Alias\", hue='Product Gender')\n",
    "plt.xlabel('Category of Jewelry')\n",
    "plt.ylabel('Frequency')\n",
    "plt.title('Bar Plot of Jewelry Categories');"
   ]
  },
  {
   "cell_type": "markdown",
   "id": "49ccbcb8-6416-46a9-aa1c-67d2c1739c0c",
   "metadata": {},
   "source": [
    "#### Visualise Other Categorical Data"
   ]
  },
  {
   "cell_type": "code",
   "execution_count": 21,
   "id": "c43be270-1804-43e8-9c84-e977afc553cb",
   "metadata": {},
   "outputs": [],
   "source": [
    "# get the column names of the categorical features to visualise\n",
    "columnlist = [col for col in data.columns if data[col].dtypes == 'object']\n",
    "columnlist = columnlist[1:]"
   ]
  },
  {
   "cell_type": "code",
   "execution_count": 22,
   "id": "0379fe0c-2404-4d0f-99f3-28de46acbd0c",
   "metadata": {},
   "outputs": [
    {
     "name": "stderr",
     "output_type": "stream",
     "text": [
      "C:\\Users\\Opeyemi\\AppData\\Local\\Temp\\ipykernel_10624\\3216384419.py:4: FutureWarning: In a future version, `df.iloc[:, i] = newvals` will attempt to set the values inplace instead of always setting a new array. To retain the old behavior, use either `df[df.columns[i]] = newvals` or, if columns are non-unique, `df.isetitem(i, newvals)`\n",
      "  data.loc[:, col] = codes\n"
     ]
    }
   ],
   "source": [
    "# encode the categoricals\n",
    "for i, col in enumerate(columnlist):\n",
    "    codes, uniques = pd.factorize(data[col])\n",
    "    data.loc[:, col] = codes"
   ]
  },
  {
   "cell_type": "code",
   "execution_count": 23,
   "id": "babc888b-f247-4cf0-91bf-a44932016b50",
   "metadata": {},
   "outputs": [
    {
     "data": {
      "text/html": [
       "<div>\n",
       "<style scoped>\n",
       "    .dataframe tbody tr th:only-of-type {\n",
       "        vertical-align: middle;\n",
       "    }\n",
       "\n",
       "    .dataframe tbody tr th {\n",
       "        vertical-align: top;\n",
       "    }\n",
       "\n",
       "    .dataframe thead th {\n",
       "        text-align: right;\n",
       "    }\n",
       "</style>\n",
       "<table border=\"1\" class=\"dataframe\">\n",
       "  <thead>\n",
       "    <tr style=\"text-align: right;\">\n",
       "      <th></th>\n",
       "      <th>Order Datetime</th>\n",
       "      <th>Order ID</th>\n",
       "      <th>Purchased Product ID</th>\n",
       "      <th>Category ID</th>\n",
       "      <th>Category Alias</th>\n",
       "      <th>Brand ID</th>\n",
       "      <th>Price in USD</th>\n",
       "      <th>User ID</th>\n",
       "      <th>Product Gender</th>\n",
       "      <th>Main Color</th>\n",
       "      <th>Main Metal</th>\n",
       "      <th>Main Gem</th>\n",
       "    </tr>\n",
       "  </thead>\n",
       "  <tbody>\n",
       "    <tr>\n",
       "      <th>95900</th>\n",
       "      <td>2021-12-01 09:32:35 UTC</td>\n",
       "      <td>2719009022110859402</td>\n",
       "      <td>1956663836207481431</td>\n",
       "      <td>1.806829e+18</td>\n",
       "      <td>3</td>\n",
       "      <td>0.0</td>\n",
       "      <td>145.62</td>\n",
       "      <td>1.515916e+18</td>\n",
       "      <td>-1</td>\n",
       "      <td>1</td>\n",
       "      <td>0</td>\n",
       "      <td>-1</td>\n",
       "    </tr>\n",
       "    <tr>\n",
       "      <th>95903</th>\n",
       "      <td>2021-12-01 09:37:28 UTC</td>\n",
       "      <td>2719011482355368159</td>\n",
       "      <td>1956663847389495299</td>\n",
       "      <td>1.806829e+18</td>\n",
       "      <td>2</td>\n",
       "      <td>0.0</td>\n",
       "      <td>301.23</td>\n",
       "      <td>1.515916e+18</td>\n",
       "      <td>-1</td>\n",
       "      <td>1</td>\n",
       "      <td>0</td>\n",
       "      <td>2</td>\n",
       "    </tr>\n",
       "    <tr>\n",
       "      <th>95907</th>\n",
       "      <td>2021-12-01 09:52:06 UTC</td>\n",
       "      <td>2719018846999544322</td>\n",
       "      <td>1956663848219968336</td>\n",
       "      <td>1.806829e+18</td>\n",
       "      <td>2</td>\n",
       "      <td>1.0</td>\n",
       "      <td>630.00</td>\n",
       "      <td>1.515916e+18</td>\n",
       "      <td>0</td>\n",
       "      <td>0</td>\n",
       "      <td>0</td>\n",
       "      <td>1</td>\n",
       "    </tr>\n",
       "    <tr>\n",
       "      <th>95908</th>\n",
       "      <td>2021-12-01 09:55:35 UTC</td>\n",
       "      <td>2719020596963836492</td>\n",
       "      <td>1835566854106513435</td>\n",
       "      <td>1.806829e+18</td>\n",
       "      <td>2</td>\n",
       "      <td>0.0</td>\n",
       "      <td>83.42</td>\n",
       "      <td>1.515916e+18</td>\n",
       "      <td>-1</td>\n",
       "      <td>0</td>\n",
       "      <td>0</td>\n",
       "      <td>3</td>\n",
       "    </tr>\n",
       "    <tr>\n",
       "      <th>95909</th>\n",
       "      <td>2021-12-01 09:59:07 UTC</td>\n",
       "      <td>2719022379232658075</td>\n",
       "      <td>1956663846156370429</td>\n",
       "      <td>1.806829e+18</td>\n",
       "      <td>0</td>\n",
       "      <td>1.0</td>\n",
       "      <td>97.12</td>\n",
       "      <td>1.515916e+18</td>\n",
       "      <td>-1</td>\n",
       "      <td>1</td>\n",
       "      <td>0</td>\n",
       "      <td>-1</td>\n",
       "    </tr>\n",
       "  </tbody>\n",
       "</table>\n",
       "</div>"
      ],
      "text/plain": [
       "                Order Datetime             Order ID  Purchased Product ID  \\\n",
       "95900  2021-12-01 09:32:35 UTC  2719009022110859402   1956663836207481431   \n",
       "95903  2021-12-01 09:37:28 UTC  2719011482355368159   1956663847389495299   \n",
       "95907  2021-12-01 09:52:06 UTC  2719018846999544322   1956663848219968336   \n",
       "95908  2021-12-01 09:55:35 UTC  2719020596963836492   1835566854106513435   \n",
       "95909  2021-12-01 09:59:07 UTC  2719022379232658075   1956663846156370429   \n",
       "\n",
       "        Category ID  Category Alias  Brand ID  Price in USD       User ID  \\\n",
       "95900  1.806829e+18               3       0.0        145.62  1.515916e+18   \n",
       "95903  1.806829e+18               2       0.0        301.23  1.515916e+18   \n",
       "95907  1.806829e+18               2       1.0        630.00  1.515916e+18   \n",
       "95908  1.806829e+18               2       0.0         83.42  1.515916e+18   \n",
       "95909  1.806829e+18               0       1.0         97.12  1.515916e+18   \n",
       "\n",
       "       Product Gender  Main Color  Main Metal  Main Gem  \n",
       "95900              -1           1           0        -1  \n",
       "95903              -1           1           0         2  \n",
       "95907               0           0           0         1  \n",
       "95908              -1           0           0         3  \n",
       "95909              -1           1           0        -1  "
      ]
     },
     "execution_count": 23,
     "metadata": {},
     "output_type": "execute_result"
    }
   ],
   "source": [
    "data.tail()"
   ]
  },
  {
   "cell_type": "code",
   "execution_count": 24,
   "id": "e150c7fb-9a8b-4f78-9983-2e1330d2930d",
   "metadata": {},
   "outputs": [
    {
     "data": {
      "text/plain": [
       "['Category Alias', 'Product Gender', 'Main Color', 'Main Metal', 'Main Gem']"
      ]
     },
     "execution_count": 24,
     "metadata": {},
     "output_type": "execute_result"
    }
   ],
   "source": [
    "columnlist"
   ]
  },
  {
   "cell_type": "code",
   "execution_count": 25,
   "id": "1c7adadb-56f4-4279-9071-e2803c8cac19",
   "metadata": {},
   "outputs": [
    {
     "data": {
      "text/plain": [
       "Index(['Order Datetime', 'Order ID', 'Purchased Product ID', 'Category ID',\n",
       "       'Category Alias', 'Brand ID', 'Price in USD', 'User ID',\n",
       "       'Product Gender', 'Main Color', 'Main Metal', 'Main Gem'],\n",
       "      dtype='object')"
      ]
     },
     "execution_count": 25,
     "metadata": {},
     "output_type": "execute_result"
    }
   ],
   "source": [
    "data.columns"
   ]
  },
  {
   "cell_type": "markdown",
   "id": "3541b2be-8ed8-4424-b1ba-009760e1d5be",
   "metadata": {},
   "source": [
    "#### Correlation"
   ]
  },
  {
   "cell_type": "code",
   "execution_count": 26,
   "id": "da891c54-f242-4bbf-9bdb-f56eecc1f68b",
   "metadata": {},
   "outputs": [
    {
     "data": {
      "text/html": [
       "<div>\n",
       "<style scoped>\n",
       "    .dataframe tbody tr th:only-of-type {\n",
       "        vertical-align: middle;\n",
       "    }\n",
       "\n",
       "    .dataframe tbody tr th {\n",
       "        vertical-align: top;\n",
       "    }\n",
       "\n",
       "    .dataframe thead th {\n",
       "        text-align: right;\n",
       "    }\n",
       "</style>\n",
       "<table border=\"1\" class=\"dataframe\">\n",
       "  <thead>\n",
       "    <tr style=\"text-align: right;\">\n",
       "      <th></th>\n",
       "      <th>Category Alias</th>\n",
       "      <th>Product Gender</th>\n",
       "      <th>Main Color</th>\n",
       "      <th>Main Metal</th>\n",
       "      <th>Main Gem</th>\n",
       "      <th>Category ID</th>\n",
       "      <th>Brand ID</th>\n",
       "      <th>Price in USD</th>\n",
       "    </tr>\n",
       "  </thead>\n",
       "  <tbody>\n",
       "    <tr>\n",
       "      <th>Category Alias</th>\n",
       "      <td>1.000000</td>\n",
       "      <td>-0.112309</td>\n",
       "      <td>-0.053113</td>\n",
       "      <td>0.106521</td>\n",
       "      <td>-0.064541</td>\n",
       "      <td>-0.883445</td>\n",
       "      <td>-0.103630</td>\n",
       "      <td>0.274393</td>\n",
       "    </tr>\n",
       "    <tr>\n",
       "      <th>Product Gender</th>\n",
       "      <td>-0.112309</td>\n",
       "      <td>1.000000</td>\n",
       "      <td>0.045873</td>\n",
       "      <td>-0.049423</td>\n",
       "      <td>0.148043</td>\n",
       "      <td>0.092612</td>\n",
       "      <td>0.621894</td>\n",
       "      <td>0.046484</td>\n",
       "    </tr>\n",
       "    <tr>\n",
       "      <th>Main Color</th>\n",
       "      <td>-0.053113</td>\n",
       "      <td>0.045873</td>\n",
       "      <td>1.000000</td>\n",
       "      <td>-0.244682</td>\n",
       "      <td>0.127346</td>\n",
       "      <td>-0.005701</td>\n",
       "      <td>0.093239</td>\n",
       "      <td>0.009921</td>\n",
       "    </tr>\n",
       "    <tr>\n",
       "      <th>Main Metal</th>\n",
       "      <td>0.106521</td>\n",
       "      <td>-0.049423</td>\n",
       "      <td>-0.244682</td>\n",
       "      <td>1.000000</td>\n",
       "      <td>-0.058735</td>\n",
       "      <td>0.159114</td>\n",
       "      <td>0.002909</td>\n",
       "      <td>-0.175966</td>\n",
       "    </tr>\n",
       "    <tr>\n",
       "      <th>Main Gem</th>\n",
       "      <td>-0.064541</td>\n",
       "      <td>0.148043</td>\n",
       "      <td>0.127346</td>\n",
       "      <td>-0.058735</td>\n",
       "      <td>1.000000</td>\n",
       "      <td>0.029780</td>\n",
       "      <td>0.058302</td>\n",
       "      <td>-0.014676</td>\n",
       "    </tr>\n",
       "    <tr>\n",
       "      <th>Category ID</th>\n",
       "      <td>-0.883445</td>\n",
       "      <td>0.092612</td>\n",
       "      <td>-0.005701</td>\n",
       "      <td>0.159114</td>\n",
       "      <td>0.029780</td>\n",
       "      <td>1.000000</td>\n",
       "      <td>0.102341</td>\n",
       "      <td>-0.304429</td>\n",
       "    </tr>\n",
       "    <tr>\n",
       "      <th>Brand ID</th>\n",
       "      <td>-0.103630</td>\n",
       "      <td>0.621894</td>\n",
       "      <td>0.093239</td>\n",
       "      <td>0.002909</td>\n",
       "      <td>0.058302</td>\n",
       "      <td>0.102341</td>\n",
       "      <td>1.000000</td>\n",
       "      <td>-0.024357</td>\n",
       "    </tr>\n",
       "    <tr>\n",
       "      <th>Price in USD</th>\n",
       "      <td>0.274393</td>\n",
       "      <td>0.046484</td>\n",
       "      <td>0.009921</td>\n",
       "      <td>-0.175966</td>\n",
       "      <td>-0.014676</td>\n",
       "      <td>-0.304429</td>\n",
       "      <td>-0.024357</td>\n",
       "      <td>1.000000</td>\n",
       "    </tr>\n",
       "  </tbody>\n",
       "</table>\n",
       "</div>"
      ],
      "text/plain": [
       "                Category Alias  Product Gender  Main Color  Main Metal  \\\n",
       "Category Alias        1.000000       -0.112309   -0.053113    0.106521   \n",
       "Product Gender       -0.112309        1.000000    0.045873   -0.049423   \n",
       "Main Color           -0.053113        0.045873    1.000000   -0.244682   \n",
       "Main Metal            0.106521       -0.049423   -0.244682    1.000000   \n",
       "Main Gem             -0.064541        0.148043    0.127346   -0.058735   \n",
       "Category ID          -0.883445        0.092612   -0.005701    0.159114   \n",
       "Brand ID             -0.103630        0.621894    0.093239    0.002909   \n",
       "Price in USD          0.274393        0.046484    0.009921   -0.175966   \n",
       "\n",
       "                Main Gem  Category ID  Brand ID  Price in USD  \n",
       "Category Alias -0.064541    -0.883445 -0.103630      0.274393  \n",
       "Product Gender  0.148043     0.092612  0.621894      0.046484  \n",
       "Main Color      0.127346    -0.005701  0.093239      0.009921  \n",
       "Main Metal     -0.058735     0.159114  0.002909     -0.175966  \n",
       "Main Gem        1.000000     0.029780  0.058302     -0.014676  \n",
       "Category ID     0.029780     1.000000  0.102341     -0.304429  \n",
       "Brand ID        0.058302     0.102341  1.000000     -0.024357  \n",
       "Price in USD   -0.014676    -0.304429 -0.024357      1.000000  "
      ]
     },
     "execution_count": 26,
     "metadata": {},
     "output_type": "execute_result"
    }
   ],
   "source": [
    "# calculate the correlation matix\n",
    "columnlist.extend(['Category ID', 'Brand ID', 'Price in USD'])\n",
    "corr_matrix = data[columnlist].corr(method='spearman')\n",
    "corr_matrix"
   ]
  },
  {
   "cell_type": "code",
   "execution_count": 27,
   "id": "abd09f79-3c88-4024-bb30-ac8c42121f4b",
   "metadata": {},
   "outputs": [
    {
     "data": {
      "image/png": "[encoded data removed]",
      "text/plain": [
       "<Figure size 1200x800 with 2 Axes>"
      ]
     },
     "metadata": {},
     "output_type": "display_data"
    }
   ],
   "source": [
    "# visualise the corr_matrix\n",
    "plt.figure(figsize=(12,8))\n",
    "s = sns.heatmap(corr_matrix, annot=True, cmap='coolwarm')\n",
    "s.set_yticklabels(s.get_yticklabels(), rotation=0, fontsize=12)\n",
    "s.set_xticklabels(s.get_xticklabels(), rotation=90, fontsize=12)\n",
    "plt.title('Correlation Matix')\n",
    "plt.show()"
   ]
  },
  {
   "cell_type": "code",
   "execution_count": 28,
   "id": "9d45604d-cc56-4219-8a4a-30e69dca224f",
   "metadata": {},
   "outputs": [
    {
     "data": {
      "text/plain": [
       "{'Category Alias': ['Price in USD'],\n",
       " 'Product Gender': ['Brand ID'],\n",
       " 'Main Color': [],\n",
       " 'Main Metal': [],\n",
       " 'Main Gem': [],\n",
       " 'Category ID': [],\n",
       " 'Brand ID': ['Product Gender'],\n",
       " 'Price in USD': ['Category Alias']}"
      ]
     },
     "execution_count": 28,
     "metadata": {},
     "output_type": "execute_result"
    }
   ],
   "source": [
    "# explicitly obtain correlated features\n",
    "\n",
    "lower = .2\n",
    "upper = 1\n",
    "corr_dict = { col: corr_matrix[(corr_matrix[col] > lower) & (corr_matrix[col] < upper)].index.tolist() \n",
    "            for col in corr_matrix.columns}\n",
    "corr_dict"
   ]
  },
  {
   "cell_type": "markdown",
   "id": "ebb58096-defe-4160-977f-725955bd52bb",
   "metadata": {},
   "source": [
    "#### Check the distribution of the numerical features"
   ]
  },
  {
   "cell_type": "code",
   "execution_count": 29,
   "id": "b1b8442d-cb83-4001-ac92-3424bf0dc755",
   "metadata": {},
   "outputs": [
    {
     "data": {
      "image/png": "[encoded data removed]",
      "text/plain": [
       "<Figure size 2000x1500 with 1 Axes>"
      ]
     },
     "metadata": {},
     "output_type": "display_data"
    }
   ],
   "source": [
    "# plot the distribution of the 'Price in USD'\n",
    "plt.figure(figsize=(20,15))\n",
    "sns.kdeplot(data=data, x=\"Price in USD\", fill=True) #, kde=True);\n",
    "plt.xlabel('Prices in dollars')\n",
    "plt.ylabel('Density')\n",
    "plt.title('Price Distribution')\n",
    "plt.tight_layout()\n",
    "plt.show()"
   ]
  },
  {
   "cell_type": "code",
   "execution_count": 30,
   "id": "324f59f9-def3-4612-95cc-46307be07dec",
   "metadata": {},
   "outputs": [
    {
     "data": {
      "text/html": [
       "<div>\n",
       "<style scoped>\n",
       "    .dataframe tbody tr th:only-of-type {\n",
       "        vertical-align: middle;\n",
       "    }\n",
       "\n",
       "    .dataframe tbody tr th {\n",
       "        vertical-align: top;\n",
       "    }\n",
       "\n",
       "    .dataframe thead th {\n",
       "        text-align: right;\n",
       "    }\n",
       "</style>\n",
       "<table border=\"1\" class=\"dataframe\">\n",
       "  <thead>\n",
       "    <tr style=\"text-align: right;\">\n",
       "      <th></th>\n",
       "      <th>Order ID</th>\n",
       "      <th>Purchased Product ID</th>\n",
       "      <th>Category ID</th>\n",
       "      <th>Category Alias</th>\n",
       "      <th>Brand ID</th>\n",
       "      <th>Price in USD</th>\n",
       "      <th>User ID</th>\n",
       "      <th>Product Gender</th>\n",
       "      <th>Main Color</th>\n",
       "      <th>Main Metal</th>\n",
       "      <th>Main Gem</th>\n",
       "    </tr>\n",
       "  </thead>\n",
       "  <tbody>\n",
       "    <tr>\n",
       "      <th>count</th>\n",
       "      <td>7.808700e+04</td>\n",
       "      <td>7.808700e+04</td>\n",
       "      <td>7.808700e+04</td>\n",
       "      <td>78087.000000</td>\n",
       "      <td>74719.000000</td>\n",
       "      <td>78087.000000</td>\n",
       "      <td>7.808700e+04</td>\n",
       "      <td>78087.000000</td>\n",
       "      <td>78087.000000</td>\n",
       "      <td>78087.000000</td>\n",
       "      <td>78087.000000</td>\n",
       "    </tr>\n",
       "    <tr>\n",
       "      <th>mean</th>\n",
       "      <td>2.473234e+18</td>\n",
       "      <td>1.825199e+18</td>\n",
       "      <td>1.806160e+18</td>\n",
       "      <td>2.246174</td>\n",
       "      <td>0.634591</td>\n",
       "      <td>353.715579</td>\n",
       "      <td>1.512538e+18</td>\n",
       "      <td>-0.437077</td>\n",
       "      <td>0.818459</td>\n",
       "      <td>0.014036</td>\n",
       "      <td>2.080385</td>\n",
       "    </tr>\n",
       "    <tr>\n",
       "      <th>std</th>\n",
       "      <td>1.929789e+17</td>\n",
       "      <td>2.114342e+17</td>\n",
       "      <td>1.815732e+16</td>\n",
       "      <td>1.335566</td>\n",
       "      <td>0.690533</td>\n",
       "      <td>444.929898</td>\n",
       "      <td>2.411510e+16</td>\n",
       "      <td>0.502263</td>\n",
       "      <td>0.529518</td>\n",
       "      <td>0.126857</td>\n",
       "      <td>3.315034</td>\n",
       "    </tr>\n",
       "    <tr>\n",
       "      <th>min</th>\n",
       "      <td>1.925511e+18</td>\n",
       "      <td>1.313551e+18</td>\n",
       "      <td>1.313678e+18</td>\n",
       "      <td>0.000000</td>\n",
       "      <td>0.000000</td>\n",
       "      <td>0.990000</td>\n",
       "      <td>1.313554e+18</td>\n",
       "      <td>-1.000000</td>\n",
       "      <td>-1.000000</td>\n",
       "      <td>-1.000000</td>\n",
       "      <td>-1.000000</td>\n",
       "    </tr>\n",
       "    <tr>\n",
       "      <th>25%</th>\n",
       "      <td>2.370276e+18</td>\n",
       "      <td>1.515966e+18</td>\n",
       "      <td>1.806829e+18</td>\n",
       "      <td>2.000000</td>\n",
       "      <td>0.000000</td>\n",
       "      <td>143.700000</td>\n",
       "      <td>1.515916e+18</td>\n",
       "      <td>-1.000000</td>\n",
       "      <td>1.000000</td>\n",
       "      <td>0.000000</td>\n",
       "      <td>0.000000</td>\n",
       "    </tr>\n",
       "    <tr>\n",
       "      <th>50%</th>\n",
       "      <td>2.512252e+18</td>\n",
       "      <td>1.956664e+18</td>\n",
       "      <td>1.806829e+18</td>\n",
       "      <td>2.000000</td>\n",
       "      <td>1.000000</td>\n",
       "      <td>253.290000</td>\n",
       "      <td>1.515916e+18</td>\n",
       "      <td>0.000000</td>\n",
       "      <td>1.000000</td>\n",
       "      <td>0.000000</td>\n",
       "      <td>1.000000</td>\n",
       "    </tr>\n",
       "    <tr>\n",
       "      <th>75%</th>\n",
       "      <td>2.632689e+18</td>\n",
       "      <td>1.956664e+18</td>\n",
       "      <td>1.806829e+18</td>\n",
       "      <td>3.000000</td>\n",
       "      <td>1.000000</td>\n",
       "      <td>417.670000</td>\n",
       "      <td>1.515916e+18</td>\n",
       "      <td>0.000000</td>\n",
       "      <td>1.000000</td>\n",
       "      <td>0.000000</td>\n",
       "      <td>3.000000</td>\n",
       "    </tr>\n",
       "    <tr>\n",
       "      <th>max</th>\n",
       "      <td>2.719022e+18</td>\n",
       "      <td>2.541962e+18</td>\n",
       "      <td>1.806829e+18</td>\n",
       "      <td>7.000000</td>\n",
       "      <td>5.000000</td>\n",
       "      <td>34448.600000</td>\n",
       "      <td>1.554297e+18</td>\n",
       "      <td>1.000000</td>\n",
       "      <td>3.000000</td>\n",
       "      <td>2.000000</td>\n",
       "      <td>29.000000</td>\n",
       "    </tr>\n",
       "  </tbody>\n",
       "</table>\n",
       "</div>"
      ],
      "text/plain": [
       "           Order ID  Purchased Product ID   Category ID  Category Alias  \\\n",
       "count  7.808700e+04          7.808700e+04  7.808700e+04    78087.000000   \n",
       "mean   2.473234e+18          1.825199e+18  1.806160e+18        2.246174   \n",
       "std    1.929789e+17          2.114342e+17  1.815732e+16        1.335566   \n",
       "min    1.925511e+18          1.313551e+18  1.313678e+18        0.000000   \n",
       "25%    2.370276e+18          1.515966e+18  1.806829e+18        2.000000   \n",
       "50%    2.512252e+18          1.956664e+18  1.806829e+18        2.000000   \n",
       "75%    2.632689e+18          1.956664e+18  1.806829e+18        3.000000   \n",
       "max    2.719022e+18          2.541962e+18  1.806829e+18        7.000000   \n",
       "\n",
       "           Brand ID  Price in USD       User ID  Product Gender    Main Color  \\\n",
       "count  74719.000000  78087.000000  7.808700e+04    78087.000000  78087.000000   \n",
       "mean       0.634591    353.715579  1.512538e+18       -0.437077      0.818459   \n",
       "std        0.690533    444.929898  2.411510e+16        0.502263      0.529518   \n",
       "min        0.000000      0.990000  1.313554e+18       -1.000000     -1.000000   \n",
       "25%        0.000000    143.700000  1.515916e+18       -1.000000      1.000000   \n",
       "50%        1.000000    253.290000  1.515916e+18        0.000000      1.000000   \n",
       "75%        1.000000    417.670000  1.515916e+18        0.000000      1.000000   \n",
       "max        5.000000  34448.600000  1.554297e+18        1.000000      3.000000   \n",
       "\n",
       "         Main Metal      Main Gem  \n",
       "count  78087.000000  78087.000000  \n",
       "mean       0.014036      2.080385  \n",
       "std        0.126857      3.315034  \n",
       "min       -1.000000     -1.000000  \n",
       "25%        0.000000      0.000000  \n",
       "50%        0.000000      1.000000  \n",
       "75%        0.000000      3.000000  \n",
       "max        2.000000     29.000000  "
      ]
     },
     "execution_count": 30,
     "metadata": {},
     "output_type": "execute_result"
    }
   ],
   "source": [
    "data.describe()"
   ]
  },
  {
   "cell_type": "code",
   "execution_count": 31,
   "id": "726f03de-76fd-4bb3-91ee-29d816f05369",
   "metadata": {},
   "outputs": [
    {
     "data": {
      "text/plain": [
       "21.352042463299373"
      ]
     },
     "execution_count": 31,
     "metadata": {},
     "output_type": "execute_result"
    }
   ],
   "source": [
    "# calculate the skew of the target feature\n",
    "data['Price in USD'].skew()"
   ]
  },
  {
   "cell_type": "code",
   "execution_count": 32,
   "id": "b8a44107-eae4-471e-b921-b4f032cb25ec",
   "metadata": {},
   "outputs": [
    {
     "name": "stdout",
     "output_type": "stream",
     "text": [
      "Skewness after Quantile Transformation: -0.03316\n",
      "Skewness after Box-Cox Transformation: 0.03335\n"
     ]
    }
   ],
   "source": [
    "# transform skewes target data\n",
    "\n",
    "from scipy.stats import boxcox, yeojohnson\n",
    "from sklearn.preprocessing import QuantileTransformer\n",
    "\n",
    "# Applying Quantile Transformation to follow a normal distribution\n",
    "quantile_transformer = QuantileTransformer(output_distribution='normal', random_state=0)\n",
    "data['quantile'] = quantile_transformer.fit_transform(data['Price in USD'].values.reshape(-1, 1)).flatten()\n",
    "print(f\"Skewness after Quantile Transformation: {data['quantile'].skew():.5f}\")\n",
    "\n",
    "# Applying Box-Cox Transformation after checking all values are positive\n",
    "if (data['Price in USD'] > 0).all():\n",
    "    data['boxcox'], _ = boxcox(data['Price in USD'])\n",
    "else:\n",
    "    # Consider alternative transformations or handling strategies\n",
    "    print(\"Not all Price values are positive. Consider using Yeo-Johnson or handling negative values.\")\n",
    "print(f\"Skewness after Box-Cox Transformation: {data['boxcox'].skew():.5f}\")"
   ]
  },
  {
   "cell_type": "code",
   "execution_count": 33,
   "id": "2e6ea731-0800-4fac-8174-e052417f9483",
   "metadata": {},
   "outputs": [
    {
     "data": {
      "image/png": "[encoded data removed]",
      "text/plain": [
       "<Figure size 1800x1500 with 4 Axes>"
      ]
     },
     "metadata": {},
     "output_type": "display_data"
    }
   ],
   "source": [
    "# Plotting the distributions\n",
    "fig, axes = plt.subplots(2, 2, figsize=(18, 15))  # Adjusted for an additional plot\n",
    " \n",
    "# Flatten the axes array for easier indexing\n",
    "axes = axes.flatten()\n",
    " \n",
    "# Hide unused subplot axes\n",
    "for ax in axes[3:]:\n",
    "    ax.axis('off')\n",
    " \n",
    "# Original Price in USD Distribution\n",
    "sns.kdeplot(data['Price in USD'], color='skyblue', ax=axes[0])\n",
    "axes[0].set_title(f\"Original Price Distribution (Skew: {data['Price in USD'].skew()})\")\n",
    "axes[0].set_xlabel('Price in dollars')\n",
    "axes[0].set_ylabel('Frequency')\n",
    " \n",
    "# Quantile Transformed SalePrice (Normal Distribution)\n",
    "sns.kdeplot(data['quantile'], color='green', ax=axes[1])\n",
    "axes[1].set_title(f\"Quantile Transformed Price (Normal Distn, skew: {data['quantile'].skew():.5f})\")\n",
    "axes[1].set_xlabel('Quantile Transformed Price in dollars')\n",
    "axes[1].set_ylabel('Frequency')\n",
    "\n",
    "# Box-Cox Transformed SalePrice\n",
    "sns.kdeplot(data['boxcox'], color='red', ax=axes[2])\n",
    "axes[2].set_title(f\"Box-Cox Transformed SalePrice (Skew: {data['boxcox'].skew():.5f})\")\n",
    "axes[2].set_xlabel('Box-Cox of Price in dollars')\n",
    "axes[2].set_ylabel('Frequency')\n",
    " \n",
    "plt.tight_layout(pad=4.0)\n",
    "plt.show()"
   ]
  },
  {
   "cell_type": "markdown",
   "id": "57bb27b9-3859-4ccd-ac0e-ccc6e62f71b0",
   "metadata": {},
   "source": [
    "## Data Preparation"
   ]
  },
  {
   "cell_type": "markdown",
   "id": "ceec841c-08e7-48bf-a55f-43818cd2eb4c",
   "metadata": {},
   "source": [
    "> We can use the insight gained from the EDA to prepare our data for the models."
   ]
  },
  {
   "cell_type": "code",
   "execution_count": 34,
   "id": "152e09de-bafa-4ea3-9273-27587acaff1c",
   "metadata": {},
   "outputs": [
    {
     "data": {
      "text/plain": [
       "Index(['Order Datetime', 'Order ID', 'Purchased Product ID', 'Quantity of SKU',\n",
       "       'Category ID', 'Category Alias', 'Brand ID', 'Price in USD', 'User ID',\n",
       "       'Product Gender', 'Main Color', 'Main Metal', 'Main Gem'],\n",
       "      dtype='object')"
      ]
     },
     "execution_count": 34,
     "metadata": {},
     "output_type": "execute_result"
    }
   ],
   "source": [
    "# drop columns that are not fit for prediction\n",
    "jewelry_df.columns"
   ]
  },
  {
   "cell_type": "code",
   "execution_count": 35,
   "id": "ebfaf124-b9e7-4328-8cd0-1d74329292ea",
   "metadata": {},
   "outputs": [],
   "source": [
    "# columns to remove\n",
    "col_eliminate = ['Order Datetime', 'Order ID', 'Purchased Product ID', 'Quantity of SKU',\n",
    "       'Category ID', 'User ID']\n",
    "\n",
    "jewelry_df.drop(labels=col_eliminate, axis=1, inplace=True)"
   ]
  },
  {
   "cell_type": "code",
   "execution_count": 36,
   "id": "26311959-67eb-43d6-a8a5-a9e92cae674a",
   "metadata": {},
   "outputs": [
    {
     "data": {
      "text/html": [
       "<div>\n",
       "<style scoped>\n",
       "    .dataframe tbody tr th:only-of-type {\n",
       "        vertical-align: middle;\n",
       "    }\n",
       "\n",
       "    .dataframe tbody tr th {\n",
       "        vertical-align: top;\n",
       "    }\n",
       "\n",
       "    .dataframe thead th {\n",
       "        text-align: right;\n",
       "    }\n",
       "</style>\n",
       "<table border=\"1\" class=\"dataframe\">\n",
       "  <thead>\n",
       "    <tr style=\"text-align: right;\">\n",
       "      <th></th>\n",
       "      <th>Category Alias</th>\n",
       "      <th>Brand ID</th>\n",
       "      <th>Price in USD</th>\n",
       "      <th>Product Gender</th>\n",
       "      <th>Main Color</th>\n",
       "      <th>Main Metal</th>\n",
       "      <th>Main Gem</th>\n",
       "    </tr>\n",
       "  </thead>\n",
       "  <tbody>\n",
       "    <tr>\n",
       "      <th>566</th>\n",
       "      <td>jewelry.ring</td>\n",
       "      <td>1.000000e+00</td>\n",
       "      <td>109.45</td>\n",
       "      <td>f</td>\n",
       "      <td>red</td>\n",
       "      <td>gold</td>\n",
       "      <td>garnet</td>\n",
       "    </tr>\n",
       "    <tr>\n",
       "      <th>20821</th>\n",
       "      <td>jewelry.earring</td>\n",
       "      <td>0.000000e+00</td>\n",
       "      <td>828.63</td>\n",
       "      <td>NaN</td>\n",
       "      <td>white</td>\n",
       "      <td>gold</td>\n",
       "      <td>diamond</td>\n",
       "    </tr>\n",
       "    <tr>\n",
       "      <th>55396</th>\n",
       "      <td>jewelry.earring</td>\n",
       "      <td>0.000000e+00</td>\n",
       "      <td>335.48</td>\n",
       "      <td>f</td>\n",
       "      <td>red</td>\n",
       "      <td>gold</td>\n",
       "      <td>quartz</td>\n",
       "    </tr>\n",
       "    <tr>\n",
       "      <th>29653</th>\n",
       "      <td>NaN</td>\n",
       "      <td>1.000000e+00</td>\n",
       "      <td>213.05</td>\n",
       "      <td>NaN</td>\n",
       "      <td>red</td>\n",
       "      <td>gold</td>\n",
       "      <td>NaN</td>\n",
       "    </tr>\n",
       "    <tr>\n",
       "      <th>68341</th>\n",
       "      <td>jewelry.brooch</td>\n",
       "      <td>0.000000e+00</td>\n",
       "      <td>10.27</td>\n",
       "      <td>NaN</td>\n",
       "      <td>NaN</td>\n",
       "      <td>silver</td>\n",
       "      <td>NaN</td>\n",
       "    </tr>\n",
       "    <tr>\n",
       "      <th>22599</th>\n",
       "      <td>NaN</td>\n",
       "      <td>1.000000e+00</td>\n",
       "      <td>273.49</td>\n",
       "      <td>NaN</td>\n",
       "      <td>red</td>\n",
       "      <td>gold</td>\n",
       "      <td>NaN</td>\n",
       "    </tr>\n",
       "    <tr>\n",
       "      <th>49815</th>\n",
       "      <td>312.88</td>\n",
       "      <td>1.513260e+18</td>\n",
       "      <td>NaN</td>\n",
       "      <td>NaN</td>\n",
       "      <td>NaN</td>\n",
       "      <td>NaN</td>\n",
       "      <td>NaN</td>\n",
       "    </tr>\n",
       "  </tbody>\n",
       "</table>\n",
       "</div>"
      ],
      "text/plain": [
       "        Category Alias      Brand ID  Price in USD Product Gender Main Color  \\\n",
       "566       jewelry.ring  1.000000e+00        109.45              f        red   \n",
       "20821  jewelry.earring  0.000000e+00        828.63            NaN      white   \n",
       "55396  jewelry.earring  0.000000e+00        335.48              f        red   \n",
       "29653              NaN  1.000000e+00        213.05            NaN        red   \n",
       "68341   jewelry.brooch  0.000000e+00         10.27            NaN        NaN   \n",
       "22599              NaN  1.000000e+00        273.49            NaN        red   \n",
       "49815           312.88  1.513260e+18           NaN            NaN        NaN   \n",
       "\n",
       "      Main Metal Main Gem  \n",
       "566         gold   garnet  \n",
       "20821       gold  diamond  \n",
       "55396       gold   quartz  \n",
       "29653       gold      NaN  \n",
       "68341     silver      NaN  \n",
       "22599       gold      NaN  \n",
       "49815        NaN      NaN  "
      ]
     },
     "execution_count": 36,
     "metadata": {},
     "output_type": "execute_result"
    }
   ],
   "source": [
    "jewelry_df.sample(7)"
   ]
  },
  {
   "cell_type": "code",
   "execution_count": 37,
   "id": "749a002a-ac1e-4109-af2b-a28d815e06c0",
   "metadata": {},
   "outputs": [
    {
     "data": {
      "text/plain": [
       "(95910, 7)"
      ]
     },
     "execution_count": 37,
     "metadata": {},
     "output_type": "execute_result"
    }
   ],
   "source": [
    "jewelry_df.shape"
   ]
  },
  {
   "cell_type": "code",
   "execution_count": 38,
   "id": "5e891160-7a0d-4ff5-918a-d9f73f011a2f",
   "metadata": {},
   "outputs": [
    {
     "data": {
      "text/html": [
       "<div>\n",
       "<style scoped>\n",
       "    .dataframe tbody tr th:only-of-type {\n",
       "        vertical-align: middle;\n",
       "    }\n",
       "\n",
       "    .dataframe tbody tr th {\n",
       "        vertical-align: top;\n",
       "    }\n",
       "\n",
       "    .dataframe thead th {\n",
       "        text-align: right;\n",
       "    }\n",
       "</style>\n",
       "<table border=\"1\" class=\"dataframe\">\n",
       "  <thead>\n",
       "    <tr style=\"text-align: right;\">\n",
       "      <th></th>\n",
       "      <th>Category Alias</th>\n",
       "      <th>Brand ID</th>\n",
       "      <th>Price in USD</th>\n",
       "      <th>Product Gender</th>\n",
       "      <th>Main Color</th>\n",
       "      <th>Main Metal</th>\n",
       "      <th>Main Gem</th>\n",
       "    </tr>\n",
       "  </thead>\n",
       "  <tbody>\n",
       "    <tr>\n",
       "      <th>1</th>\n",
       "      <td>jewelry.pendant</td>\n",
       "      <td>1.0</td>\n",
       "      <td>54.66</td>\n",
       "      <td>f</td>\n",
       "      <td>white</td>\n",
       "      <td>gold</td>\n",
       "      <td>sapphire</td>\n",
       "    </tr>\n",
       "    <tr>\n",
       "      <th>2</th>\n",
       "      <td>jewelry.pendant</td>\n",
       "      <td>0.0</td>\n",
       "      <td>88.90</td>\n",
       "      <td>f</td>\n",
       "      <td>red</td>\n",
       "      <td>gold</td>\n",
       "      <td>diamond</td>\n",
       "    </tr>\n",
       "    <tr>\n",
       "      <th>3</th>\n",
       "      <td>jewelry.necklace</td>\n",
       "      <td>0.0</td>\n",
       "      <td>417.67</td>\n",
       "      <td>NaN</td>\n",
       "      <td>red</td>\n",
       "      <td>gold</td>\n",
       "      <td>amethyst</td>\n",
       "    </tr>\n",
       "    <tr>\n",
       "      <th>4</th>\n",
       "      <td>jewelry.earring</td>\n",
       "      <td>1.0</td>\n",
       "      <td>102.27</td>\n",
       "      <td>NaN</td>\n",
       "      <td>red</td>\n",
       "      <td>gold</td>\n",
       "      <td>NaN</td>\n",
       "    </tr>\n",
       "    <tr>\n",
       "      <th>5</th>\n",
       "      <td>jewelry.earring</td>\n",
       "      <td>0.0</td>\n",
       "      <td>150.55</td>\n",
       "      <td>NaN</td>\n",
       "      <td>red</td>\n",
       "      <td>gold</td>\n",
       "      <td>diamond</td>\n",
       "    </tr>\n",
       "  </tbody>\n",
       "</table>\n",
       "</div>"
      ],
      "text/plain": [
       "     Category Alias  Brand ID  Price in USD Product Gender Main Color  \\\n",
       "1   jewelry.pendant       1.0         54.66              f      white   \n",
       "2   jewelry.pendant       0.0         88.90              f        red   \n",
       "3  jewelry.necklace       0.0        417.67            NaN        red   \n",
       "4   jewelry.earring       1.0        102.27            NaN        red   \n",
       "5   jewelry.earring       0.0        150.55            NaN        red   \n",
       "\n",
       "  Main Metal  Main Gem  \n",
       "1       gold  sapphire  \n",
       "2       gold   diamond  \n",
       "3       gold  amethyst  \n",
       "4       gold       NaN  \n",
       "5       gold   diamond  "
      ]
     },
     "execution_count": 38,
     "metadata": {},
     "output_type": "execute_result"
    }
   ],
   "source": [
    "# remove the invalid datapoints\n",
    "jewelry_df = jewelry_df[jewelry_df['Category Alias'].isin(categories)]\n",
    "jewelry_df.head()"
   ]
  },
  {
   "cell_type": "code",
   "execution_count": 39,
   "id": "13af177f-f229-4919-a264-c9d914f9cb1e",
   "metadata": {},
   "outputs": [
    {
     "data": {
      "text/plain": [
       "(80458, 7)"
      ]
     },
     "execution_count": 39,
     "metadata": {},
     "output_type": "execute_result"
    }
   ],
   "source": [
    "jewelry_df.shape"
   ]
  },
  {
   "cell_type": "markdown",
   "id": "8c6aca04-4ac4-4723-99f2-f57c21e0d9cd",
   "metadata": {},
   "source": [
    "#### Split data into training and test sets"
   ]
  },
  {
   "cell_type": "code",
   "execution_count": 40,
   "id": "6776cffd-a3ed-4d03-a591-5ae2173f51bc",
   "metadata": {},
   "outputs": [],
   "source": [
    "# separate the target variable\n",
    "X = jewelry_df.drop(columns=['Price in USD'])\n",
    "y = jewelry_df['Price in USD']"
   ]
  },
  {
   "cell_type": "code",
   "execution_count": 41,
   "id": "449a3c66-7084-40b3-ab24-94ca29bf0ad2",
   "metadata": {},
   "outputs": [],
   "source": [
    "from sklearn.model_selection import train_test_split\n",
    "\n",
    "# create training and test set\n",
    "X_train, X_test, y_train, y_test = train_test_split(X, y, test_size=0.15, random_state=42)\n"
   ]
  },
  {
   "cell_type": "code",
   "execution_count": 56,
   "id": "230c1d97-ad88-46ec-98c6-fb18848e5190",
   "metadata": {},
   "outputs": [
    {
     "data": {
      "text/plain": [
       "pandas.core.frame.DataFrame"
      ]
     },
     "execution_count": 56,
     "metadata": {},
     "output_type": "execute_result"
    }
   ],
   "source": [
    "type(X_train)"
   ]
  },
  {
   "cell_type": "markdown",
   "id": "a75a152a-2917-4c12-87b4-4577bf111dac",
   "metadata": {},
   "source": [
    "## Modelling"
   ]
  },
  {
   "cell_type": "markdown",
   "id": "2211f838-95fe-49e3-a916-3db98872862b",
   "metadata": {},
   "source": [
    "### Import Libraries"
   ]
  },
  {
   "cell_type": "code",
   "execution_count": 42,
   "id": "921caa5d-27d4-4642-9d90-cf66fb972045",
   "metadata": {},
   "outputs": [],
   "source": [
    "# packages for feature engineering\n",
    "from sklearn.preprocessing import OrdinalEncoder, LabelEncoder, OneHotEncoder\n",
    "from sklearn.compose import TransformedTargetRegressor, ColumnTransformer\n",
    "from sklearn.impute import SimpleImputer\n",
    "from sklearn.pipeline import Pipeline\n",
    "\n",
    "from sklearn.preprocessing import QuantileTransformer, PowerTransformer\n",
    "\n",
    "# packages for models\n",
    "from sklearn.linear_model import LinearRegression\n",
    "from sklearn.ensemble import AdaBoostRegressor, ExtraTreesRegressor\n",
    "from catboost import CatBoostRegressor\n",
    "from lightgbm import LGBMRegressor\n",
    "from xgboost.sklearn import XGBRegressor"
   ]
  },
  {
   "cell_type": "code",
   "execution_count": 93,
   "id": "8f2e6992-1cb2-4cf5-bdb7-71153e29a53b",
   "metadata": {},
   "outputs": [],
   "source": [
    "# create a function to generate pipeline\n",
    "def pipeline_builder(model, all_columns, cat_columns, *, fill_values=True, ordinal_encode=True, one_hot=False):\n",
    "    # filling in missing data\n",
    "    first_transformer = ColumnTransformer([('imputer', SimpleImputer(strategy='most_frequent'), all_columns)\n",
    "                                          ],\n",
    "                                          remainder='passthrough',\n",
    "                                          sparse_threshold=0.0\n",
    "                                         )\n",
    "    \n",
    "    # encode categorical features integer arrays\n",
    "    second_transformer = ColumnTransformer([('ordinal', OrdinalEncoder(), cat_columns)\n",
    "                                          ],\n",
    "                                          remainder='passthrough',\n",
    "                                          sparse_threshold=0.0\n",
    "                                         )\n",
    "    \n",
    "    # Encode categorical features as aone_hot numeric array\n",
    "    third_transformer = ColumnTransformer([('onehot', OneHotEncoder(), cat_columns)\n",
    "                                          ],\n",
    "                                          remainder='passthrough',\n",
    "                                          sparse_threshold=0.0\n",
    "                                         )\n",
    "    \n",
    "    steps = []\n",
    "    \n",
    "    if fill_values:\n",
    "        steps.append(('first', first_transformer))\n",
    "        \n",
    "    if ordinal_encode:\n",
    "        steps.append(('second', second_transformer))\n",
    "        \n",
    "    if one_hot:\n",
    "        steps.append(('third', third_transformer))\n",
    "    \n",
    "    # final estimator of the Pipeline which is our model\n",
    "    steps.append(('model', TransformedTargetRegressor(model, transformer = PowerTransformer(method='box-cox'))))\n",
    "    \n",
    "    # The final Pipeline model\n",
    "    model_pipeline = Pipeline(steps)\n",
    "    \n",
    "    return model_pipeline\n",
    "        "
   ]
  },
  {
   "cell_type": "code",
   "execution_count": 45,
   "id": "0485bb00-ecf5-4c16-bf71-cfbe91275476",
   "metadata": {},
   "outputs": [
    {
     "name": "stdout",
     "output_type": "stream",
     "text": [
      "Column's Indices: [0, 1, 2, 3, 4, 5]\n",
      "Categorical Columns' Indices: [0, 2, 3, 4, 5]\n"
     ]
    }
   ],
   "source": [
    "# get the indices for the columns\n",
    "column_indices = [i for i, _ in enumerate(X.columns)]\n",
    "cat_indices = [i for i, c in enumerate(X.columns) if X[c].dtype == object]\n",
    "\n",
    "print(f\"Column's Indices: {column_indices}\")\n",
    "print(f\"Categorical Columns' Indices: {cat_indices}\")"
   ]
  },
  {
   "cell_type": "markdown",
   "id": "f710a42a-85da-46bb-858a-56e878082c58",
   "metadata": {},
   "source": [
    "### CatBoost Model"
   ]
  },
  {
   "cell_type": "code",
   "execution_count": 46,
   "id": "021cd739-c034-4218-b9b9-5941d8bd32ac",
   "metadata": {},
   "outputs": [],
   "source": [
    "# define parameters grid for the model\n",
    "params_catboost = {\n",
    "    'iterations': np.arange(1000, 2100, 500),\n",
    "    'learning_rate': [0.01, 0.03, 0.05],\n",
    "    'depth': np.arange(4, 11, 2)\n",
    "    }\n"
   ]
  },
  {
   "cell_type": "code",
   "execution_count": 94,
   "id": "f69dc7fc-97ce-4e37-9bc8-99184907a184",
   "metadata": {},
   "outputs": [],
   "source": [
    "# define parameters for models\n",
    "def build_model_parameters(params_dict):\n",
    "    key_list = params_dict.keys()\n",
    "    key_list = ['model__regressor__'+ name for name in key_list]\n",
    "    start_index = len('model__regressor__')\n",
    "    model_dict = {name: params_dict[name[start_index:]] for name in key_list if name[start_index:] in params_dict}\n",
    "    return model_dict"
   ]
  },
  {
   "cell_type": "code",
   "execution_count": 48,
   "id": "6b03f257-33ee-4433-a979-1137ccdbf1f8",
   "metadata": {},
   "outputs": [
    {
     "data": {
      "text/plain": [
       "{'model__regressor__iterations': array([1000, 1500, 2000]),\n",
       " 'model__regressor__learning_rate': [0.01, 0.03, 0.05],\n",
       " 'model__regressor__depth': array([ 4,  6,  8, 10])}"
      ]
     },
     "execution_count": 48,
     "metadata": {},
     "output_type": "execute_result"
    }
   ],
   "source": [
    "# parameter grid for models\n",
    "catboost_params_grid = build_model_parameters(params_dict=params_catboost)\n",
    "catboost_params_grid"
   ]
  },
  {
   "cell_type": "raw",
   "id": "61c0afb1-bbfc-4001-9cd1-b45efe59f224",
   "metadata": {},
   "source": [
    "params = {\n",
    "    'iterations': 1000,\n",
    "    'learning_rate': 0.01,\n",
    "    'loss_function': 'RMSE',\n",
    "    'random_state': 42,\n",
    "    'one_hot_max_size': 2\n",
    "}\n"
   ]
  },
  {
   "cell_type": "raw",
   "id": "1d2067d1-812c-4270-af7c-cccfb46a7e07",
   "metadata": {},
   "source": [
    "catboost_pipe = pipeline_builder(CatBoostRegressor(logging_level='silent'), \n",
    "                  column_indices, \n",
    "                  cat_indices, \n",
    "                  fill_values=False, ordinal_encode=True, one_hot=False)\n",
    "catboost_pipe"
   ]
  },
  {
   "cell_type": "raw",
   "id": "645f24ee-bf15-42c0-b851-9e81c98e9fdf",
   "metadata": {},
   "source": [
    "catboost_pipe.fit(X_train, y_train)"
   ]
  },
  {
   "cell_type": "code",
   "execution_count": 49,
   "id": "96247a8d-1fc3-4d36-9580-c97d612d51e6",
   "metadata": {},
   "outputs": [
    {
     "data": {
      "text/html": [
       "<style>#sk-container-id-1 {color: black;background-color: white;}#sk-container-id-1 pre{padding: 0;}#sk-container-id-1 div.sk-toggleable {background-color: white;}#sk-container-id-1 label.sk-toggleable__label {cursor: pointer;display: block;width: 100%;margin-bottom: 0;padding: 0.3em;box-sizing: border-box;text-align: center;}#sk-container-id-1 label.sk-toggleable__label-arrow:before {content: \"▸\";float: left;margin-right: 0.25em;color: #696969;}#sk-container-id-1 label.sk-toggleable__label-arrow:hover:before {color: black;}#sk-container-id-1 div.sk-estimator:hover label.sk-toggleable__label-arrow:before {color: black;}#sk-container-id-1 div.sk-toggleable__content {max-height: 0;max-width: 0;overflow: hidden;text-align: left;background-color: #f0f8ff;}#sk-container-id-1 div.sk-toggleable__content pre {margin: 0.2em;color: black;border-radius: 0.25em;background-color: #f0f8ff;}#sk-container-id-1 input.sk-toggleable__control:checked~div.sk-toggleable__content {max-height: 200px;max-width: 100%;overflow: auto;}#sk-container-id-1 input.sk-toggleable__control:checked~label.sk-toggleable__label-arrow:before {content: \"▾\";}#sk-container-id-1 div.sk-estimator input.sk-toggleable__control:checked~label.sk-toggleable__label {background-color: #d4ebff;}#sk-container-id-1 div.sk-label input.sk-toggleable__control:checked~label.sk-toggleable__label {background-color: #d4ebff;}#sk-container-id-1 input.sk-hidden--visually {border: 0;clip: rect(1px 1px 1px 1px);clip: rect(1px, 1px, 1px, 1px);height: 1px;margin: -1px;overflow: hidden;padding: 0;position: absolute;width: 1px;}#sk-container-id-1 div.sk-estimator {font-family: monospace;background-color: #f0f8ff;border: 1px dotted black;border-radius: 0.25em;box-sizing: border-box;margin-bottom: 0.5em;}#sk-container-id-1 div.sk-estimator:hover {background-color: #d4ebff;}#sk-container-id-1 div.sk-parallel-item::after {content: \"\";width: 100%;border-bottom: 1px solid gray;flex-grow: 1;}#sk-container-id-1 div.sk-label:hover label.sk-toggleable__label {background-color: #d4ebff;}#sk-container-id-1 div.sk-serial::before {content: \"\";position: absolute;border-left: 1px solid gray;box-sizing: border-box;top: 0;bottom: 0;left: 50%;z-index: 0;}#sk-container-id-1 div.sk-serial {display: flex;flex-direction: column;align-items: center;background-color: white;padding-right: 0.2em;padding-left: 0.2em;position: relative;}#sk-container-id-1 div.sk-item {position: relative;z-index: 1;}#sk-container-id-1 div.sk-parallel {display: flex;align-items: stretch;justify-content: center;background-color: white;position: relative;}#sk-container-id-1 div.sk-item::before, #sk-container-id-1 div.sk-parallel-item::before {content: \"\";position: absolute;border-left: 1px solid gray;box-sizing: border-box;top: 0;bottom: 0;left: 50%;z-index: -1;}#sk-container-id-1 div.sk-parallel-item {display: flex;flex-direction: column;z-index: 1;position: relative;background-color: white;}#sk-container-id-1 div.sk-parallel-item:first-child::after {align-self: flex-end;width: 50%;}#sk-container-id-1 div.sk-parallel-item:last-child::after {align-self: flex-start;width: 50%;}#sk-container-id-1 div.sk-parallel-item:only-child::after {width: 0;}#sk-container-id-1 div.sk-dashed-wrapped {border: 1px dashed gray;margin: 0 0.4em 0.5em 0.4em;box-sizing: border-box;padding-bottom: 0.4em;background-color: white;}#sk-container-id-1 div.sk-label label {font-family: monospace;font-weight: bold;display: inline-block;line-height: 1.2em;}#sk-container-id-1 div.sk-label-container {text-align: center;}#sk-container-id-1 div.sk-container {/* jupyter's `normalize.less` sets `[hidden] { display: none; }` but bootstrap.min.css set `[hidden] { display: none !important; }` so we also need the `!important` here to be able to override the default hidden behavior on the sphinx rendered scikit-learn.org. See: https://github.com/scikit-learn/scikit-learn/issues/21755 */display: inline-block !important;position: relative;}#sk-container-id-1 div.sk-text-repr-fallback {display: none;}</style><div id=\"sk-container-id-1\" class=\"sk-top-container\"><div class=\"sk-text-repr-fallback\"><pre>Pipeline(steps=[(&#x27;second&#x27;,\n",
       "                 ColumnTransformer(remainder=&#x27;passthrough&#x27;,\n",
       "                                   sparse_threshold=0.0,\n",
       "                                   transformers=[(&#x27;ordinal&#x27;, OrdinalEncoder(),\n",
       "                                                  [0, 2, 3, 4, 5])])),\n",
       "                (&#x27;model&#x27;,\n",
       "                 TransformedTargetRegressor(regressor=&lt;catboost.core.CatBoostRegressor object at 0x0000024C9D623BE0&gt;,\n",
       "                                            transformer=PowerTransformer(method=&#x27;box-cox&#x27;)))])</pre><b>In a Jupyter environment, please rerun this cell to show the HTML representation or trust the notebook. <br />On GitHub, the HTML representation is unable to render, please try loading this page with nbviewer.org.</b></div><div class=\"sk-container\" hidden><div class=\"sk-item sk-dashed-wrapped\"><div class=\"sk-label-container\"><div class=\"sk-label sk-toggleable\"><input class=\"sk-toggleable__control sk-hidden--visually\" id=\"sk-estimator-id-1\" type=\"checkbox\" ><label for=\"sk-estimator-id-1\" class=\"sk-toggleable__label sk-toggleable__label-arrow\">Pipeline</label><div class=\"sk-toggleable__content\"><pre>Pipeline(steps=[(&#x27;second&#x27;,\n",
       "                 ColumnTransformer(remainder=&#x27;passthrough&#x27;,\n",
       "                                   sparse_threshold=0.0,\n",
       "                                   transformers=[(&#x27;ordinal&#x27;, OrdinalEncoder(),\n",
       "                                                  [0, 2, 3, 4, 5])])),\n",
       "                (&#x27;model&#x27;,\n",
       "                 TransformedTargetRegressor(regressor=&lt;catboost.core.CatBoostRegressor object at 0x0000024C9D623BE0&gt;,\n",
       "                                            transformer=PowerTransformer(method=&#x27;box-cox&#x27;)))])</pre></div></div></div><div class=\"sk-serial\"><div class=\"sk-item sk-dashed-wrapped\"><div class=\"sk-label-container\"><div class=\"sk-label sk-toggleable\"><input class=\"sk-toggleable__control sk-hidden--visually\" id=\"sk-estimator-id-2\" type=\"checkbox\" ><label for=\"sk-estimator-id-2\" class=\"sk-toggleable__label sk-toggleable__label-arrow\">second: ColumnTransformer</label><div class=\"sk-toggleable__content\"><pre>ColumnTransformer(remainder=&#x27;passthrough&#x27;, sparse_threshold=0.0,\n",
       "                  transformers=[(&#x27;ordinal&#x27;, OrdinalEncoder(), [0, 2, 3, 4, 5])])</pre></div></div></div><div class=\"sk-parallel\"><div class=\"sk-parallel-item\"><div class=\"sk-item\"><div class=\"sk-label-container\"><div class=\"sk-label sk-toggleable\"><input class=\"sk-toggleable__control sk-hidden--visually\" id=\"sk-estimator-id-3\" type=\"checkbox\" ><label for=\"sk-estimator-id-3\" class=\"sk-toggleable__label sk-toggleable__label-arrow\">ordinal</label><div class=\"sk-toggleable__content\"><pre>[0, 2, 3, 4, 5]</pre></div></div></div><div class=\"sk-serial\"><div class=\"sk-item\"><div class=\"sk-estimator sk-toggleable\"><input class=\"sk-toggleable__control sk-hidden--visually\" id=\"sk-estimator-id-4\" type=\"checkbox\" ><label for=\"sk-estimator-id-4\" class=\"sk-toggleable__label sk-toggleable__label-arrow\">OrdinalEncoder</label><div class=\"sk-toggleable__content\"><pre>OrdinalEncoder()</pre></div></div></div></div></div></div><div class=\"sk-parallel-item\"><div class=\"sk-item\"><div class=\"sk-label-container\"><div class=\"sk-label sk-toggleable\"><input class=\"sk-toggleable__control sk-hidden--visually\" id=\"sk-estimator-id-5\" type=\"checkbox\" ><label for=\"sk-estimator-id-5\" class=\"sk-toggleable__label sk-toggleable__label-arrow\">remainder</label><div class=\"sk-toggleable__content\"><pre></pre></div></div></div><div class=\"sk-serial\"><div class=\"sk-item\"><div class=\"sk-estimator sk-toggleable\"><input class=\"sk-toggleable__control sk-hidden--visually\" id=\"sk-estimator-id-6\" type=\"checkbox\" ><label for=\"sk-estimator-id-6\" class=\"sk-toggleable__label sk-toggleable__label-arrow\">passthrough</label><div class=\"sk-toggleable__content\"><pre>passthrough</pre></div></div></div></div></div></div></div></div><div class=\"sk-item sk-dashed-wrapped\"><div class=\"sk-label-container\"><div class=\"sk-label sk-toggleable\"><input class=\"sk-toggleable__control sk-hidden--visually\" id=\"sk-estimator-id-7\" type=\"checkbox\" ><label for=\"sk-estimator-id-7\" class=\"sk-toggleable__label sk-toggleable__label-arrow\">model: TransformedTargetRegressor</label><div class=\"sk-toggleable__content\"><pre>TransformedTargetRegressor(regressor=&lt;catboost.core.CatBoostRegressor object at 0x0000024C9D623BE0&gt;,\n",
       "                           transformer=PowerTransformer(method=&#x27;box-cox&#x27;))</pre></div></div></div><div class=\"sk-parallel\"><div class=\"sk-parallel-item\"><div class=\"sk-item\"><div class=\"sk-label-container\"><div class=\"sk-label sk-toggleable\"><input class=\"sk-toggleable__control sk-hidden--visually\" id=\"sk-estimator-id-8\" type=\"checkbox\" ><label for=\"sk-estimator-id-8\" class=\"sk-toggleable__label sk-toggleable__label-arrow\">regressor: CatBoostRegressor</label><div class=\"sk-toggleable__content\"><pre>&lt;catboost.core.CatBoostRegressor object at 0x0000024C9D623BE0&gt;</pre></div></div></div><div class=\"sk-serial\"><div class=\"sk-item\"><div class=\"sk-estimator sk-toggleable\"><input class=\"sk-toggleable__control sk-hidden--visually\" id=\"sk-estimator-id-9\" type=\"checkbox\" ><label for=\"sk-estimator-id-9\" class=\"sk-toggleable__label sk-toggleable__label-arrow\">CatBoostRegressor</label><div class=\"sk-toggleable__content\"><pre>&lt;catboost.core.CatBoostRegressor object at 0x0000024C9D623BE0&gt;</pre></div></div></div></div></div></div><div class=\"sk-parallel-item\"><div class=\"sk-item\"><div class=\"sk-label-container\"><div class=\"sk-label sk-toggleable\"><input class=\"sk-toggleable__control sk-hidden--visually\" id=\"sk-estimator-id-10\" type=\"checkbox\" ><label for=\"sk-estimator-id-10\" class=\"sk-toggleable__label sk-toggleable__label-arrow\">transformer: PowerTransformer</label><div class=\"sk-toggleable__content\"><pre>PowerTransformer(method=&#x27;box-cox&#x27;)</pre></div></div></div><div class=\"sk-serial\"><div class=\"sk-item\"><div class=\"sk-estimator sk-toggleable\"><input class=\"sk-toggleable__control sk-hidden--visually\" id=\"sk-estimator-id-11\" type=\"checkbox\" ><label for=\"sk-estimator-id-11\" class=\"sk-toggleable__label sk-toggleable__label-arrow\">PowerTransformer</label><div class=\"sk-toggleable__content\"><pre>PowerTransformer(method=&#x27;box-cox&#x27;)</pre></div></div></div></div></div></div></div></div></div></div></div></div>"
      ],
      "text/plain": [
       "Pipeline(steps=[('second',\n",
       "                 ColumnTransformer(remainder='passthrough',\n",
       "                                   sparse_threshold=0.0,\n",
       "                                   transformers=[('ordinal', OrdinalEncoder(),\n",
       "                                                  [0, 2, 3, 4, 5])])),\n",
       "                ('model',\n",
       "                 TransformedTargetRegressor(regressor=<catboost.core.CatBoostRegressor object at 0x0000024C9D623BE0>,\n",
       "                                            transformer=PowerTransformer(method='box-cox')))])"
      ]
     },
     "execution_count": 49,
     "metadata": {},
     "output_type": "execute_result"
    }
   ],
   "source": [
    "catboost_pipe = pipeline_builder(CatBoostRegressor(logging_level='Silent'), \n",
    "                  column_indices, \n",
    "                  cat_indices, \n",
    "                  fill_values=False, ordinal_encode=True, one_hot=False)\n",
    "catboost_pipe"
   ]
  },
  {
   "cell_type": "raw",
   "id": "272efdaa-223f-4894-920e-da71d397398a",
   "metadata": {},
   "source": [
    "\n",
    "from sklearn.preprocessing import PowerTransformer\n",
    "\n",
    "catboost_pipe = TransformedTargetRegressor(regressor = catboost_pipe, transformer = PowerTransformer(method='box-cox'))"
   ]
  },
  {
   "cell_type": "markdown",
   "id": "4f24f7e5-f854-4004-b0c8-d8dc5d55bc11",
   "metadata": {},
   "source": [
    "#### Search for the Best Model and Parameters"
   ]
  },
  {
   "cell_type": "code",
   "execution_count": 50,
   "id": "c6210028-4433-438f-abf0-9fae0662eda3",
   "metadata": {},
   "outputs": [],
   "source": [
    "# import the Scikit-Learn randomised search package.\n",
    "from sklearn.model_selection import RandomizedSearchCV"
   ]
  },
  {
   "cell_type": "code",
   "execution_count": 51,
   "id": "0aef10f3-d24e-44e2-9542-bb195f97e549",
   "metadata": {},
   "outputs": [],
   "source": [
    "catboost_grid_search = RandomizedSearchCV(estimator=catboost_pipe,\n",
    "            param_distributions=catboost_params_grid,\n",
    "            cv=5, \n",
    "            n_iter=5,\n",
    "            scoring = 'r2',\n",
    "            n_jobs = -1, random_state=42)"
   ]
  },
  {
   "cell_type": "code",
   "execution_count": 52,
   "id": "380053df-6da3-4a03-baaf-b5ee1308623d",
   "metadata": {},
   "outputs": [
    {
     "name": "stderr",
     "output_type": "stream",
     "text": [
      "C:\\Users\\Opeyemi\\anaconda3\\envs\\EDA_Tutorial\\lib\\site-packages\\sklearn\\model_selection\\_search.py:953: UserWarning: One or more of the test scores are non-finite: [nan nan nan nan nan]\n",
      "  warnings.warn(\n"
     ]
    },
    {
     "data": {
      "text/html": [
       "<style>#sk-container-id-2 {color: black;background-color: white;}#sk-container-id-2 pre{padding: 0;}#sk-container-id-2 div.sk-toggleable {background-color: white;}#sk-container-id-2 label.sk-toggleable__label {cursor: pointer;display: block;width: 100%;margin-bottom: 0;padding: 0.3em;box-sizing: border-box;text-align: center;}#sk-container-id-2 label.sk-toggleable__label-arrow:before {content: \"▸\";float: left;margin-right: 0.25em;color: #696969;}#sk-container-id-2 label.sk-toggleable__label-arrow:hover:before {color: black;}#sk-container-id-2 div.sk-estimator:hover label.sk-toggleable__label-arrow:before {color: black;}#sk-container-id-2 div.sk-toggleable__content {max-height: 0;max-width: 0;overflow: hidden;text-align: left;background-color: #f0f8ff;}#sk-container-id-2 div.sk-toggleable__content pre {margin: 0.2em;color: black;border-radius: 0.25em;background-color: #f0f8ff;}#sk-container-id-2 input.sk-toggleable__control:checked~div.sk-toggleable__content {max-height: 200px;max-width: 100%;overflow: auto;}#sk-container-id-2 input.sk-toggleable__control:checked~label.sk-toggleable__label-arrow:before {content: \"▾\";}#sk-container-id-2 div.sk-estimator input.sk-toggleable__control:checked~label.sk-toggleable__label {background-color: #d4ebff;}#sk-container-id-2 div.sk-label input.sk-toggleable__control:checked~label.sk-toggleable__label {background-color: #d4ebff;}#sk-container-id-2 input.sk-hidden--visually {border: 0;clip: rect(1px 1px 1px 1px);clip: rect(1px, 1px, 1px, 1px);height: 1px;margin: -1px;overflow: hidden;padding: 0;position: absolute;width: 1px;}#sk-container-id-2 div.sk-estimator {font-family: monospace;background-color: #f0f8ff;border: 1px dotted black;border-radius: 0.25em;box-sizing: border-box;margin-bottom: 0.5em;}#sk-container-id-2 div.sk-estimator:hover {background-color: #d4ebff;}#sk-container-id-2 div.sk-parallel-item::after {content: \"\";width: 100%;border-bottom: 1px solid gray;flex-grow: 1;}#sk-container-id-2 div.sk-label:hover label.sk-toggleable__label {background-color: #d4ebff;}#sk-container-id-2 div.sk-serial::before {content: \"\";position: absolute;border-left: 1px solid gray;box-sizing: border-box;top: 0;bottom: 0;left: 50%;z-index: 0;}#sk-container-id-2 div.sk-serial {display: flex;flex-direction: column;align-items: center;background-color: white;padding-right: 0.2em;padding-left: 0.2em;position: relative;}#sk-container-id-2 div.sk-item {position: relative;z-index: 1;}#sk-container-id-2 div.sk-parallel {display: flex;align-items: stretch;justify-content: center;background-color: white;position: relative;}#sk-container-id-2 div.sk-item::before, #sk-container-id-2 div.sk-parallel-item::before {content: \"\";position: absolute;border-left: 1px solid gray;box-sizing: border-box;top: 0;bottom: 0;left: 50%;z-index: -1;}#sk-container-id-2 div.sk-parallel-item {display: flex;flex-direction: column;z-index: 1;position: relative;background-color: white;}#sk-container-id-2 div.sk-parallel-item:first-child::after {align-self: flex-end;width: 50%;}#sk-container-id-2 div.sk-parallel-item:last-child::after {align-self: flex-start;width: 50%;}#sk-container-id-2 div.sk-parallel-item:only-child::after {width: 0;}#sk-container-id-2 div.sk-dashed-wrapped {border: 1px dashed gray;margin: 0 0.4em 0.5em 0.4em;box-sizing: border-box;padding-bottom: 0.4em;background-color: white;}#sk-container-id-2 div.sk-label label {font-family: monospace;font-weight: bold;display: inline-block;line-height: 1.2em;}#sk-container-id-2 div.sk-label-container {text-align: center;}#sk-container-id-2 div.sk-container {/* jupyter's `normalize.less` sets `[hidden] { display: none; }` but bootstrap.min.css set `[hidden] { display: none !important; }` so we also need the `!important` here to be able to override the default hidden behavior on the sphinx rendered scikit-learn.org. See: https://github.com/scikit-learn/scikit-learn/issues/21755 */display: inline-block !important;position: relative;}#sk-container-id-2 div.sk-text-repr-fallback {display: none;}</style><div id=\"sk-container-id-2\" class=\"sk-top-container\"><div class=\"sk-text-repr-fallback\"><pre>RandomizedSearchCV(cv=3,\n",
       "                   estimator=Pipeline(steps=[(&#x27;second&#x27;,\n",
       "                                              ColumnTransformer(remainder=&#x27;passthrough&#x27;,\n",
       "                                                                sparse_threshold=0.0,\n",
       "                                                                transformers=[(&#x27;ordinal&#x27;,\n",
       "                                                                               OrdinalEncoder(),\n",
       "                                                                               [0,\n",
       "                                                                                2,\n",
       "                                                                                3,\n",
       "                                                                                4,\n",
       "                                                                                5])])),\n",
       "                                             (&#x27;model&#x27;,\n",
       "                                              TransformedTargetRegressor(regressor=&lt;catboost.core.CatBoostRegressor object at 0x0000024C9D623BE0&gt;,\n",
       "                                                                         transformer=PowerTransformer(method=&#x27;box-cox&#x27;)))]),\n",
       "                   n_iter=5, n_jobs=-1,\n",
       "                   param_distributions={&#x27;model__regressor__depth&#x27;: array([ 4,  6,  8, 10]),\n",
       "                                        &#x27;model__regressor__iterations&#x27;: array([1000, 1500, 2000]),\n",
       "                                        &#x27;model__regressor__learning_rate&#x27;: [0.01,\n",
       "                                                                            0.03,\n",
       "                                                                            0.05]},\n",
       "                   random_state=42, scoring=&#x27;r2&#x27;)</pre><b>In a Jupyter environment, please rerun this cell to show the HTML representation or trust the notebook. <br />On GitHub, the HTML representation is unable to render, please try loading this page with nbviewer.org.</b></div><div class=\"sk-container\" hidden><div class=\"sk-item sk-dashed-wrapped\"><div class=\"sk-label-container\"><div class=\"sk-label sk-toggleable\"><input class=\"sk-toggleable__control sk-hidden--visually\" id=\"sk-estimator-id-12\" type=\"checkbox\" ><label for=\"sk-estimator-id-12\" class=\"sk-toggleable__label sk-toggleable__label-arrow\">RandomizedSearchCV</label><div class=\"sk-toggleable__content\"><pre>RandomizedSearchCV(cv=3,\n",
       "                   estimator=Pipeline(steps=[(&#x27;second&#x27;,\n",
       "                                              ColumnTransformer(remainder=&#x27;passthrough&#x27;,\n",
       "                                                                sparse_threshold=0.0,\n",
       "                                                                transformers=[(&#x27;ordinal&#x27;,\n",
       "                                                                               OrdinalEncoder(),\n",
       "                                                                               [0,\n",
       "                                                                                2,\n",
       "                                                                                3,\n",
       "                                                                                4,\n",
       "                                                                                5])])),\n",
       "                                             (&#x27;model&#x27;,\n",
       "                                              TransformedTargetRegressor(regressor=&lt;catboost.core.CatBoostRegressor object at 0x0000024C9D623BE0&gt;,\n",
       "                                                                         transformer=PowerTransformer(method=&#x27;box-cox&#x27;)))]),\n",
       "                   n_iter=5, n_jobs=-1,\n",
       "                   param_distributions={&#x27;model__regressor__depth&#x27;: array([ 4,  6,  8, 10]),\n",
       "                                        &#x27;model__regressor__iterations&#x27;: array([1000, 1500, 2000]),\n",
       "                                        &#x27;model__regressor__learning_rate&#x27;: [0.01,\n",
       "                                                                            0.03,\n",
       "                                                                            0.05]},\n",
       "                   random_state=42, scoring=&#x27;r2&#x27;)</pre></div></div></div><div class=\"sk-parallel\"><div class=\"sk-parallel-item\"><div class=\"sk-item\"><div class=\"sk-label-container\"><div class=\"sk-label sk-toggleable\"><input class=\"sk-toggleable__control sk-hidden--visually\" id=\"sk-estimator-id-13\" type=\"checkbox\" ><label for=\"sk-estimator-id-13\" class=\"sk-toggleable__label sk-toggleable__label-arrow\">estimator: Pipeline</label><div class=\"sk-toggleable__content\"><pre>Pipeline(steps=[(&#x27;second&#x27;,\n",
       "                 ColumnTransformer(remainder=&#x27;passthrough&#x27;,\n",
       "                                   sparse_threshold=0.0,\n",
       "                                   transformers=[(&#x27;ordinal&#x27;, OrdinalEncoder(),\n",
       "                                                  [0, 2, 3, 4, 5])])),\n",
       "                (&#x27;model&#x27;,\n",
       "                 TransformedTargetRegressor(regressor=&lt;catboost.core.CatBoostRegressor object at 0x0000024C9D623BE0&gt;,\n",
       "                                            transformer=PowerTransformer(method=&#x27;box-cox&#x27;)))])</pre></div></div></div><div class=\"sk-serial\"><div class=\"sk-item\"><div class=\"sk-serial\"><div class=\"sk-item sk-dashed-wrapped\"><div class=\"sk-label-container\"><div class=\"sk-label sk-toggleable\"><input class=\"sk-toggleable__control sk-hidden--visually\" id=\"sk-estimator-id-14\" type=\"checkbox\" ><label for=\"sk-estimator-id-14\" class=\"sk-toggleable__label sk-toggleable__label-arrow\">second: ColumnTransformer</label><div class=\"sk-toggleable__content\"><pre>ColumnTransformer(remainder=&#x27;passthrough&#x27;, sparse_threshold=0.0,\n",
       "                  transformers=[(&#x27;ordinal&#x27;, OrdinalEncoder(), [0, 2, 3, 4, 5])])</pre></div></div></div><div class=\"sk-parallel\"><div class=\"sk-parallel-item\"><div class=\"sk-item\"><div class=\"sk-label-container\"><div class=\"sk-label sk-toggleable\"><input class=\"sk-toggleable__control sk-hidden--visually\" id=\"sk-estimator-id-15\" type=\"checkbox\" ><label for=\"sk-estimator-id-15\" class=\"sk-toggleable__label sk-toggleable__label-arrow\">ordinal</label><div class=\"sk-toggleable__content\"><pre>[0, 2, 3, 4, 5]</pre></div></div></div><div class=\"sk-serial\"><div class=\"sk-item\"><div class=\"sk-estimator sk-toggleable\"><input class=\"sk-toggleable__control sk-hidden--visually\" id=\"sk-estimator-id-16\" type=\"checkbox\" ><label for=\"sk-estimator-id-16\" class=\"sk-toggleable__label sk-toggleable__label-arrow\">OrdinalEncoder</label><div class=\"sk-toggleable__content\"><pre>OrdinalEncoder()</pre></div></div></div></div></div></div><div class=\"sk-parallel-item\"><div class=\"sk-item\"><div class=\"sk-label-container\"><div class=\"sk-label sk-toggleable\"><input class=\"sk-toggleable__control sk-hidden--visually\" id=\"sk-estimator-id-17\" type=\"checkbox\" ><label for=\"sk-estimator-id-17\" class=\"sk-toggleable__label sk-toggleable__label-arrow\">remainder</label><div class=\"sk-toggleable__content\"><pre></pre></div></div></div><div class=\"sk-serial\"><div class=\"sk-item\"><div class=\"sk-estimator sk-toggleable\"><input class=\"sk-toggleable__control sk-hidden--visually\" id=\"sk-estimator-id-18\" type=\"checkbox\" ><label for=\"sk-estimator-id-18\" class=\"sk-toggleable__label sk-toggleable__label-arrow\">passthrough</label><div class=\"sk-toggleable__content\"><pre>passthrough</pre></div></div></div></div></div></div></div></div><div class=\"sk-item sk-dashed-wrapped\"><div class=\"sk-label-container\"><div class=\"sk-label sk-toggleable\"><input class=\"sk-toggleable__control sk-hidden--visually\" id=\"sk-estimator-id-19\" type=\"checkbox\" ><label for=\"sk-estimator-id-19\" class=\"sk-toggleable__label sk-toggleable__label-arrow\">model: TransformedTargetRegressor</label><div class=\"sk-toggleable__content\"><pre>TransformedTargetRegressor(regressor=&lt;catboost.core.CatBoostRegressor object at 0x0000024C9D623BE0&gt;,\n",
       "                           transformer=PowerTransformer(method=&#x27;box-cox&#x27;))</pre></div></div></div><div class=\"sk-parallel\"><div class=\"sk-parallel-item\"><div class=\"sk-item\"><div class=\"sk-label-container\"><div class=\"sk-label sk-toggleable\"><input class=\"sk-toggleable__control sk-hidden--visually\" id=\"sk-estimator-id-20\" type=\"checkbox\" ><label for=\"sk-estimator-id-20\" class=\"sk-toggleable__label sk-toggleable__label-arrow\">regressor: CatBoostRegressor</label><div class=\"sk-toggleable__content\"><pre>&lt;catboost.core.CatBoostRegressor object at 0x0000024C9D623BE0&gt;</pre></div></div></div><div class=\"sk-serial\"><div class=\"sk-item\"><div class=\"sk-estimator sk-toggleable\"><input class=\"sk-toggleable__control sk-hidden--visually\" id=\"sk-estimator-id-21\" type=\"checkbox\" ><label for=\"sk-estimator-id-21\" class=\"sk-toggleable__label sk-toggleable__label-arrow\">CatBoostRegressor</label><div class=\"sk-toggleable__content\"><pre>&lt;catboost.core.CatBoostRegressor object at 0x0000024C9D623BE0&gt;</pre></div></div></div></div></div></div><div class=\"sk-parallel-item\"><div class=\"sk-item\"><div class=\"sk-label-container\"><div class=\"sk-label sk-toggleable\"><input class=\"sk-toggleable__control sk-hidden--visually\" id=\"sk-estimator-id-22\" type=\"checkbox\" ><label for=\"sk-estimator-id-22\" class=\"sk-toggleable__label sk-toggleable__label-arrow\">transformer: PowerTransformer</label><div class=\"sk-toggleable__content\"><pre>PowerTransformer(method=&#x27;box-cox&#x27;)</pre></div></div></div><div class=\"sk-serial\"><div class=\"sk-item\"><div class=\"sk-estimator sk-toggleable\"><input class=\"sk-toggleable__control sk-hidden--visually\" id=\"sk-estimator-id-23\" type=\"checkbox\" ><label for=\"sk-estimator-id-23\" class=\"sk-toggleable__label sk-toggleable__label-arrow\">PowerTransformer</label><div class=\"sk-toggleable__content\"><pre>PowerTransformer(method=&#x27;box-cox&#x27;)</pre></div></div></div></div></div></div></div></div></div></div></div></div></div></div></div></div></div>"
      ],
      "text/plain": [
       "RandomizedSearchCV(cv=3,\n",
       "                   estimator=Pipeline(steps=[('second',\n",
       "                                              ColumnTransformer(remainder='passthrough',\n",
       "                                                                sparse_threshold=0.0,\n",
       "                                                                transformers=[('ordinal',\n",
       "                                                                               OrdinalEncoder(),\n",
       "                                                                               [0,\n",
       "                                                                                2,\n",
       "                                                                                3,\n",
       "                                                                                4,\n",
       "                                                                                5])])),\n",
       "                                             ('model',\n",
       "                                              TransformedTargetRegressor(regressor=<catboost.core.CatBoostRegressor object at 0x0000024C9D623BE0>,\n",
       "                                                                         transformer=PowerTransformer(method='box-cox')))]),\n",
       "                   n_iter=5, n_jobs=-1,\n",
       "                   param_distributions={'model__regressor__depth': array([ 4,  6,  8, 10]),\n",
       "                                        'model__regressor__iterations': array([1000, 1500, 2000]),\n",
       "                                        'model__regressor__learning_rate': [0.01,\n",
       "                                                                            0.03,\n",
       "                                                                            0.05]},\n",
       "                   random_state=42, scoring='r2')"
      ]
     },
     "execution_count": 52,
     "metadata": {},
     "output_type": "execute_result"
    }
   ],
   "source": [
    "# fit the model\n",
    "catboost_grid_search.fit(X_train, y_train)"
   ]
  },
  {
   "cell_type": "code",
   "execution_count": 53,
   "id": "76601d01-f3d4-43ff-90d4-b7a9021fa755",
   "metadata": {},
   "outputs": [
    {
     "name": "stdout",
     "output_type": "stream",
     "text": [
      "Best parameters: {'model__regressor__learning_rate': 0.05, 'model__regressor__iterations': 2000, 'model__regressor__depth': 10}\n",
      "Best cross-validated score: nan\n"
     ]
    }
   ],
   "source": [
    "# display the best parameters and score\n",
    "print(f'Best parameters: {catboost_grid_search.best_params_}')\n",
    "print(f'Best cross-validated score: {catboost_grid_search.best_score_:.2f}')\n"
   ]
  },
  {
   "cell_type": "code",
   "execution_count": 58,
   "id": "0df45fc2-c220-46ed-a749-208a2a4b8e90",
   "metadata": {},
   "outputs": [
    {
     "data": {
      "text/html": [
       "<div>\n",
       "<style scoped>\n",
       "    .dataframe tbody tr th:only-of-type {\n",
       "        vertical-align: middle;\n",
       "    }\n",
       "\n",
       "    .dataframe tbody tr th {\n",
       "        vertical-align: top;\n",
       "    }\n",
       "\n",
       "    .dataframe thead th {\n",
       "        text-align: right;\n",
       "    }\n",
       "</style>\n",
       "<table border=\"1\" class=\"dataframe\">\n",
       "  <thead>\n",
       "    <tr style=\"text-align: right;\">\n",
       "      <th></th>\n",
       "      <th>mean_fit_time</th>\n",
       "      <th>std_fit_time</th>\n",
       "      <th>mean_score_time</th>\n",
       "      <th>std_score_time</th>\n",
       "      <th>param_model__regressor__learning_rate</th>\n",
       "      <th>param_model__regressor__iterations</th>\n",
       "      <th>param_model__regressor__depth</th>\n",
       "      <th>params</th>\n",
       "      <th>split0_test_score</th>\n",
       "      <th>split1_test_score</th>\n",
       "      <th>split2_test_score</th>\n",
       "      <th>mean_test_score</th>\n",
       "      <th>std_test_score</th>\n",
       "      <th>rank_test_score</th>\n",
       "    </tr>\n",
       "  </thead>\n",
       "  <tbody>\n",
       "    <tr>\n",
       "      <th>0</th>\n",
       "      <td>160.028387</td>\n",
       "      <td>2.247934</td>\n",
       "      <td>1.199922</td>\n",
       "      <td>0.451813</td>\n",
       "      <td>0.05</td>\n",
       "      <td>2000</td>\n",
       "      <td>10</td>\n",
       "      <td>{'model__regressor__learning_rate': 0.05, 'mod...</td>\n",
       "      <td>0.244933</td>\n",
       "      <td>0.323843</td>\n",
       "      <td>NaN</td>\n",
       "      <td>NaN</td>\n",
       "      <td>NaN</td>\n",
       "      <td>1</td>\n",
       "    </tr>\n",
       "    <tr>\n",
       "      <th>1</th>\n",
       "      <td>78.623173</td>\n",
       "      <td>1.839328</td>\n",
       "      <td>1.072334</td>\n",
       "      <td>0.284106</td>\n",
       "      <td>0.03</td>\n",
       "      <td>1500</td>\n",
       "      <td>6</td>\n",
       "      <td>{'model__regressor__learning_rate': 0.03, 'mod...</td>\n",
       "      <td>0.236544</td>\n",
       "      <td>0.250746</td>\n",
       "      <td>NaN</td>\n",
       "      <td>NaN</td>\n",
       "      <td>NaN</td>\n",
       "      <td>1</td>\n",
       "    </tr>\n",
       "    <tr>\n",
       "      <th>2</th>\n",
       "      <td>133.817845</td>\n",
       "      <td>2.336755</td>\n",
       "      <td>0.556988</td>\n",
       "      <td>0.174830</td>\n",
       "      <td>0.05</td>\n",
       "      <td>2000</td>\n",
       "      <td>8</td>\n",
       "      <td>{'model__regressor__learning_rate': 0.05, 'mod...</td>\n",
       "      <td>0.243342</td>\n",
       "      <td>0.321063</td>\n",
       "      <td>NaN</td>\n",
       "      <td>NaN</td>\n",
       "      <td>NaN</td>\n",
       "      <td>1</td>\n",
       "    </tr>\n",
       "    <tr>\n",
       "      <th>3</th>\n",
       "      <td>106.957610</td>\n",
       "      <td>15.193413</td>\n",
       "      <td>0.573311</td>\n",
       "      <td>0.265373</td>\n",
       "      <td>0.01</td>\n",
       "      <td>1500</td>\n",
       "      <td>10</td>\n",
       "      <td>{'model__regressor__learning_rate': 0.01, 'mod...</td>\n",
       "      <td>0.240569</td>\n",
       "      <td>0.267923</td>\n",
       "      <td>NaN</td>\n",
       "      <td>NaN</td>\n",
       "      <td>NaN</td>\n",
       "      <td>1</td>\n",
       "    </tr>\n",
       "    <tr>\n",
       "      <th>4</th>\n",
       "      <td>73.693076</td>\n",
       "      <td>7.806082</td>\n",
       "      <td>0.307143</td>\n",
       "      <td>0.117295</td>\n",
       "      <td>0.03</td>\n",
       "      <td>2000</td>\n",
       "      <td>6</td>\n",
       "      <td>{'model__regressor__learning_rate': 0.03, 'mod...</td>\n",
       "      <td>0.239446</td>\n",
       "      <td>0.272406</td>\n",
       "      <td>NaN</td>\n",
       "      <td>NaN</td>\n",
       "      <td>NaN</td>\n",
       "      <td>1</td>\n",
       "    </tr>\n",
       "  </tbody>\n",
       "</table>\n",
       "</div>"
      ],
      "text/plain": [
       "   mean_fit_time  std_fit_time  mean_score_time  std_score_time  \\\n",
       "0     160.028387      2.247934         1.199922        0.451813   \n",
       "1      78.623173      1.839328         1.072334        0.284106   \n",
       "2     133.817845      2.336755         0.556988        0.174830   \n",
       "3     106.957610     15.193413         0.573311        0.265373   \n",
       "4      73.693076      7.806082         0.307143        0.117295   \n",
       "\n",
       "  param_model__regressor__learning_rate param_model__regressor__iterations  \\\n",
       "0                                  0.05                               2000   \n",
       "1                                  0.03                               1500   \n",
       "2                                  0.05                               2000   \n",
       "3                                  0.01                               1500   \n",
       "4                                  0.03                               2000   \n",
       "\n",
       "  param_model__regressor__depth  \\\n",
       "0                            10   \n",
       "1                             6   \n",
       "2                             8   \n",
       "3                            10   \n",
       "4                             6   \n",
       "\n",
       "                                              params  split0_test_score  \\\n",
       "0  {'model__regressor__learning_rate': 0.05, 'mod...           0.244933   \n",
       "1  {'model__regressor__learning_rate': 0.03, 'mod...           0.236544   \n",
       "2  {'model__regressor__learning_rate': 0.05, 'mod...           0.243342   \n",
       "3  {'model__regressor__learning_rate': 0.01, 'mod...           0.240569   \n",
       "4  {'model__regressor__learning_rate': 0.03, 'mod...           0.239446   \n",
       "\n",
       "   split1_test_score  split2_test_score  mean_test_score  std_test_score  \\\n",
       "0           0.323843                NaN              NaN             NaN   \n",
       "1           0.250746                NaN              NaN             NaN   \n",
       "2           0.321063                NaN              NaN             NaN   \n",
       "3           0.267923                NaN              NaN             NaN   \n",
       "4           0.272406                NaN              NaN             NaN   \n",
       "\n",
       "   rank_test_score  \n",
       "0                1  \n",
       "1                1  \n",
       "2                1  \n",
       "3                1  \n",
       "4                1  "
      ]
     },
     "execution_count": 58,
     "metadata": {},
     "output_type": "execute_result"
    }
   ],
   "source": [
    "pd.DataFrame(catboost_grid_search.cv_results_)"
   ]
  },
  {
   "cell_type": "code",
   "execution_count": null,
   "id": "8f94649c-46df-431b-b8b3-f0d2d084dfa6",
   "metadata": {},
   "outputs": [],
   "source": []
  },
  {
   "cell_type": "code",
   "execution_count": null,
   "id": "13b21303-e2a6-4568-9b84-c8e6ac07f5bd",
   "metadata": {},
   "outputs": [],
   "source": []
  },
  {
   "cell_type": "code",
   "execution_count": null,
   "id": "4d1c7069-260a-4438-a6d7-bf022a5fc6f4",
   "metadata": {},
   "outputs": [],
   "source": []
  },
  {
   "cell_type": "markdown",
   "id": "bb157f28-aced-4a8a-8835-316b15bcee46",
   "metadata": {},
   "source": [
    "### LinearRegression"
   ]
  },
  {
   "cell_type": "code",
   "execution_count": 95,
   "id": "2a8f3ddf-d437-4396-9740-dff9b0b9b2c1",
   "metadata": {},
   "outputs": [],
   "source": [
    "# define parameters grid for the model\n",
    "params_linregressor ={'copy_X': [True,False], \n",
    "               'fit_intercept': [True,False], \n",
    "               'n_jobs': [1,5,10,15,None], \n",
    "               'positive': [True,False]}\n"
   ]
  },
  {
   "cell_type": "code",
   "execution_count": 96,
   "id": "fb299b25-bcb7-417b-89bd-b68c909794cd",
   "metadata": {},
   "outputs": [
    {
     "data": {
      "text/plain": [
       "{'model__regressor__copy_X': [True, False],\n",
       " 'model__regressor__fit_intercept': [True, False],\n",
       " 'model__regressor__n_jobs': [1, 5, 10, 15, None],\n",
       " 'model__regressor__positive': [True, False]}"
      ]
     },
     "execution_count": 96,
     "metadata": {},
     "output_type": "execute_result"
    }
   ],
   "source": [
    "# parameter grid for models\n",
    "linregressor_params_grid = build_model_parameters(params_dict=params_linregressor)\n",
    "linregressor_params_grid"
   ]
  },
  {
   "cell_type": "code",
   "execution_count": 97,
   "id": "0f22b482-ea4c-4b2e-850b-4e4e74e29137",
   "metadata": {},
   "outputs": [
    {
     "data": {
      "text/html": [
       "<style>#sk-container-id-11 {color: black;background-color: white;}#sk-container-id-11 pre{padding: 0;}#sk-container-id-11 div.sk-toggleable {background-color: white;}#sk-container-id-11 label.sk-toggleable__label {cursor: pointer;display: block;width: 100%;margin-bottom: 0;padding: 0.3em;box-sizing: border-box;text-align: center;}#sk-container-id-11 label.sk-toggleable__label-arrow:before {content: \"▸\";float: left;margin-right: 0.25em;color: #696969;}#sk-container-id-11 label.sk-toggleable__label-arrow:hover:before {color: black;}#sk-container-id-11 div.sk-estimator:hover label.sk-toggleable__label-arrow:before {color: black;}#sk-container-id-11 div.sk-toggleable__content {max-height: 0;max-width: 0;overflow: hidden;text-align: left;background-color: #f0f8ff;}#sk-container-id-11 div.sk-toggleable__content pre {margin: 0.2em;color: black;border-radius: 0.25em;background-color: #f0f8ff;}#sk-container-id-11 input.sk-toggleable__control:checked~div.sk-toggleable__content {max-height: 200px;max-width: 100%;overflow: auto;}#sk-container-id-11 input.sk-toggleable__control:checked~label.sk-toggleable__label-arrow:before {content: \"▾\";}#sk-container-id-11 div.sk-estimator input.sk-toggleable__control:checked~label.sk-toggleable__label {background-color: #d4ebff;}#sk-container-id-11 div.sk-label input.sk-toggleable__control:checked~label.sk-toggleable__label {background-color: #d4ebff;}#sk-container-id-11 input.sk-hidden--visually {border: 0;clip: rect(1px 1px 1px 1px);clip: rect(1px, 1px, 1px, 1px);height: 1px;margin: -1px;overflow: hidden;padding: 0;position: absolute;width: 1px;}#sk-container-id-11 div.sk-estimator {font-family: monospace;background-color: #f0f8ff;border: 1px dotted black;border-radius: 0.25em;box-sizing: border-box;margin-bottom: 0.5em;}#sk-container-id-11 div.sk-estimator:hover {background-color: #d4ebff;}#sk-container-id-11 div.sk-parallel-item::after {content: \"\";width: 100%;border-bottom: 1px solid gray;flex-grow: 1;}#sk-container-id-11 div.sk-label:hover label.sk-toggleable__label {background-color: #d4ebff;}#sk-container-id-11 div.sk-serial::before {content: \"\";position: absolute;border-left: 1px solid gray;box-sizing: border-box;top: 0;bottom: 0;left: 50%;z-index: 0;}#sk-container-id-11 div.sk-serial {display: flex;flex-direction: column;align-items: center;background-color: white;padding-right: 0.2em;padding-left: 0.2em;position: relative;}#sk-container-id-11 div.sk-item {position: relative;z-index: 1;}#sk-container-id-11 div.sk-parallel {display: flex;align-items: stretch;justify-content: center;background-color: white;position: relative;}#sk-container-id-11 div.sk-item::before, #sk-container-id-11 div.sk-parallel-item::before {content: \"\";position: absolute;border-left: 1px solid gray;box-sizing: border-box;top: 0;bottom: 0;left: 50%;z-index: -1;}#sk-container-id-11 div.sk-parallel-item {display: flex;flex-direction: column;z-index: 1;position: relative;background-color: white;}#sk-container-id-11 div.sk-parallel-item:first-child::after {align-self: flex-end;width: 50%;}#sk-container-id-11 div.sk-parallel-item:last-child::after {align-self: flex-start;width: 50%;}#sk-container-id-11 div.sk-parallel-item:only-child::after {width: 0;}#sk-container-id-11 div.sk-dashed-wrapped {border: 1px dashed gray;margin: 0 0.4em 0.5em 0.4em;box-sizing: border-box;padding-bottom: 0.4em;background-color: white;}#sk-container-id-11 div.sk-label label {font-family: monospace;font-weight: bold;display: inline-block;line-height: 1.2em;}#sk-container-id-11 div.sk-label-container {text-align: center;}#sk-container-id-11 div.sk-container {/* jupyter's `normalize.less` sets `[hidden] { display: none; }` but bootstrap.min.css set `[hidden] { display: none !important; }` so we also need the `!important` here to be able to override the default hidden behavior on the sphinx rendered scikit-learn.org. See: https://github.com/scikit-learn/scikit-learn/issues/21755 */display: inline-block !important;position: relative;}#sk-container-id-11 div.sk-text-repr-fallback {display: none;}</style><div id=\"sk-container-id-11\" class=\"sk-top-container\"><div class=\"sk-text-repr-fallback\"><pre>Pipeline(steps=[(&#x27;first&#x27;,\n",
       "                 ColumnTransformer(remainder=&#x27;passthrough&#x27;,\n",
       "                                   sparse_threshold=0.0,\n",
       "                                   transformers=[(&#x27;imputer&#x27;,\n",
       "                                                  SimpleImputer(strategy=&#x27;most_frequent&#x27;),\n",
       "                                                  [0, 1, 2, 3, 4, 5])])),\n",
       "                (&#x27;third&#x27;,\n",
       "                 ColumnTransformer(remainder=&#x27;passthrough&#x27;,\n",
       "                                   sparse_threshold=0.0,\n",
       "                                   transformers=[(&#x27;onehot&#x27;, OneHotEncoder(),\n",
       "                                                  [0, 2, 3, 4, 5])])),\n",
       "                (&#x27;model&#x27;,\n",
       "                 TransformedTargetRegressor(regressor=LinearRegression(),\n",
       "                                            transformer=PowerTransformer(method=&#x27;box-cox&#x27;)))])</pre><b>In a Jupyter environment, please rerun this cell to show the HTML representation or trust the notebook. <br />On GitHub, the HTML representation is unable to render, please try loading this page with nbviewer.org.</b></div><div class=\"sk-container\" hidden><div class=\"sk-item sk-dashed-wrapped\"><div class=\"sk-label-container\"><div class=\"sk-label sk-toggleable\"><input class=\"sk-toggleable__control sk-hidden--visually\" id=\"sk-estimator-id-143\" type=\"checkbox\" ><label for=\"sk-estimator-id-143\" class=\"sk-toggleable__label sk-toggleable__label-arrow\">Pipeline</label><div class=\"sk-toggleable__content\"><pre>Pipeline(steps=[(&#x27;first&#x27;,\n",
       "                 ColumnTransformer(remainder=&#x27;passthrough&#x27;,\n",
       "                                   sparse_threshold=0.0,\n",
       "                                   transformers=[(&#x27;imputer&#x27;,\n",
       "                                                  SimpleImputer(strategy=&#x27;most_frequent&#x27;),\n",
       "                                                  [0, 1, 2, 3, 4, 5])])),\n",
       "                (&#x27;third&#x27;,\n",
       "                 ColumnTransformer(remainder=&#x27;passthrough&#x27;,\n",
       "                                   sparse_threshold=0.0,\n",
       "                                   transformers=[(&#x27;onehot&#x27;, OneHotEncoder(),\n",
       "                                                  [0, 2, 3, 4, 5])])),\n",
       "                (&#x27;model&#x27;,\n",
       "                 TransformedTargetRegressor(regressor=LinearRegression(),\n",
       "                                            transformer=PowerTransformer(method=&#x27;box-cox&#x27;)))])</pre></div></div></div><div class=\"sk-serial\"><div class=\"sk-item sk-dashed-wrapped\"><div class=\"sk-label-container\"><div class=\"sk-label sk-toggleable\"><input class=\"sk-toggleable__control sk-hidden--visually\" id=\"sk-estimator-id-144\" type=\"checkbox\" ><label for=\"sk-estimator-id-144\" class=\"sk-toggleable__label sk-toggleable__label-arrow\">first: ColumnTransformer</label><div class=\"sk-toggleable__content\"><pre>ColumnTransformer(remainder=&#x27;passthrough&#x27;, sparse_threshold=0.0,\n",
       "                  transformers=[(&#x27;imputer&#x27;,\n",
       "                                 SimpleImputer(strategy=&#x27;most_frequent&#x27;),\n",
       "                                 [0, 1, 2, 3, 4, 5])])</pre></div></div></div><div class=\"sk-parallel\"><div class=\"sk-parallel-item\"><div class=\"sk-item\"><div class=\"sk-label-container\"><div class=\"sk-label sk-toggleable\"><input class=\"sk-toggleable__control sk-hidden--visually\" id=\"sk-estimator-id-145\" type=\"checkbox\" ><label for=\"sk-estimator-id-145\" class=\"sk-toggleable__label sk-toggleable__label-arrow\">imputer</label><div class=\"sk-toggleable__content\"><pre>[0, 1, 2, 3, 4, 5]</pre></div></div></div><div class=\"sk-serial\"><div class=\"sk-item\"><div class=\"sk-estimator sk-toggleable\"><input class=\"sk-toggleable__control sk-hidden--visually\" id=\"sk-estimator-id-146\" type=\"checkbox\" ><label for=\"sk-estimator-id-146\" class=\"sk-toggleable__label sk-toggleable__label-arrow\">SimpleImputer</label><div class=\"sk-toggleable__content\"><pre>SimpleImputer(strategy=&#x27;most_frequent&#x27;)</pre></div></div></div></div></div></div><div class=\"sk-parallel-item\"><div class=\"sk-item\"><div class=\"sk-label-container\"><div class=\"sk-label sk-toggleable\"><input class=\"sk-toggleable__control sk-hidden--visually\" id=\"sk-estimator-id-147\" type=\"checkbox\" ><label for=\"sk-estimator-id-147\" class=\"sk-toggleable__label sk-toggleable__label-arrow\">remainder</label><div class=\"sk-toggleable__content\"><pre></pre></div></div></div><div class=\"sk-serial\"><div class=\"sk-item\"><div class=\"sk-estimator sk-toggleable\"><input class=\"sk-toggleable__control sk-hidden--visually\" id=\"sk-estimator-id-148\" type=\"checkbox\" ><label for=\"sk-estimator-id-148\" class=\"sk-toggleable__label sk-toggleable__label-arrow\">passthrough</label><div class=\"sk-toggleable__content\"><pre>passthrough</pre></div></div></div></div></div></div></div></div><div class=\"sk-item sk-dashed-wrapped\"><div class=\"sk-label-container\"><div class=\"sk-label sk-toggleable\"><input class=\"sk-toggleable__control sk-hidden--visually\" id=\"sk-estimator-id-149\" type=\"checkbox\" ><label for=\"sk-estimator-id-149\" class=\"sk-toggleable__label sk-toggleable__label-arrow\">third: ColumnTransformer</label><div class=\"sk-toggleable__content\"><pre>ColumnTransformer(remainder=&#x27;passthrough&#x27;, sparse_threshold=0.0,\n",
       "                  transformers=[(&#x27;onehot&#x27;, OneHotEncoder(), [0, 2, 3, 4, 5])])</pre></div></div></div><div class=\"sk-parallel\"><div class=\"sk-parallel-item\"><div class=\"sk-item\"><div class=\"sk-label-container\"><div class=\"sk-label sk-toggleable\"><input class=\"sk-toggleable__control sk-hidden--visually\" id=\"sk-estimator-id-150\" type=\"checkbox\" ><label for=\"sk-estimator-id-150\" class=\"sk-toggleable__label sk-toggleable__label-arrow\">onehot</label><div class=\"sk-toggleable__content\"><pre>[0, 2, 3, 4, 5]</pre></div></div></div><div class=\"sk-serial\"><div class=\"sk-item\"><div class=\"sk-estimator sk-toggleable\"><input class=\"sk-toggleable__control sk-hidden--visually\" id=\"sk-estimator-id-151\" type=\"checkbox\" ><label for=\"sk-estimator-id-151\" class=\"sk-toggleable__label sk-toggleable__label-arrow\">OneHotEncoder</label><div class=\"sk-toggleable__content\"><pre>OneHotEncoder()</pre></div></div></div></div></div></div><div class=\"sk-parallel-item\"><div class=\"sk-item\"><div class=\"sk-label-container\"><div class=\"sk-label sk-toggleable\"><input class=\"sk-toggleable__control sk-hidden--visually\" id=\"sk-estimator-id-152\" type=\"checkbox\" ><label for=\"sk-estimator-id-152\" class=\"sk-toggleable__label sk-toggleable__label-arrow\">remainder</label><div class=\"sk-toggleable__content\"><pre></pre></div></div></div><div class=\"sk-serial\"><div class=\"sk-item\"><div class=\"sk-estimator sk-toggleable\"><input class=\"sk-toggleable__control sk-hidden--visually\" id=\"sk-estimator-id-153\" type=\"checkbox\" ><label for=\"sk-estimator-id-153\" class=\"sk-toggleable__label sk-toggleable__label-arrow\">passthrough</label><div class=\"sk-toggleable__content\"><pre>passthrough</pre></div></div></div></div></div></div></div></div><div class=\"sk-item sk-dashed-wrapped\"><div class=\"sk-label-container\"><div class=\"sk-label sk-toggleable\"><input class=\"sk-toggleable__control sk-hidden--visually\" id=\"sk-estimator-id-154\" type=\"checkbox\" ><label for=\"sk-estimator-id-154\" class=\"sk-toggleable__label sk-toggleable__label-arrow\">model: TransformedTargetRegressor</label><div class=\"sk-toggleable__content\"><pre>TransformedTargetRegressor(regressor=LinearRegression(),\n",
       "                           transformer=PowerTransformer(method=&#x27;box-cox&#x27;))</pre></div></div></div><div class=\"sk-parallel\"><div class=\"sk-parallel-item\"><div class=\"sk-item\"><div class=\"sk-label-container\"><div class=\"sk-label sk-toggleable\"><input class=\"sk-toggleable__control sk-hidden--visually\" id=\"sk-estimator-id-155\" type=\"checkbox\" ><label for=\"sk-estimator-id-155\" class=\"sk-toggleable__label sk-toggleable__label-arrow\">regressor: LinearRegression</label><div class=\"sk-toggleable__content\"><pre>LinearRegression()</pre></div></div></div><div class=\"sk-serial\"><div class=\"sk-item\"><div class=\"sk-estimator sk-toggleable\"><input class=\"sk-toggleable__control sk-hidden--visually\" id=\"sk-estimator-id-156\" type=\"checkbox\" ><label for=\"sk-estimator-id-156\" class=\"sk-toggleable__label sk-toggleable__label-arrow\">LinearRegression</label><div class=\"sk-toggleable__content\"><pre>LinearRegression()</pre></div></div></div></div></div></div><div class=\"sk-parallel-item\"><div class=\"sk-item\"><div class=\"sk-label-container\"><div class=\"sk-label sk-toggleable\"><input class=\"sk-toggleable__control sk-hidden--visually\" id=\"sk-estimator-id-157\" type=\"checkbox\" ><label for=\"sk-estimator-id-157\" class=\"sk-toggleable__label sk-toggleable__label-arrow\">transformer: PowerTransformer</label><div class=\"sk-toggleable__content\"><pre>PowerTransformer(method=&#x27;box-cox&#x27;)</pre></div></div></div><div class=\"sk-serial\"><div class=\"sk-item\"><div class=\"sk-estimator sk-toggleable\"><input class=\"sk-toggleable__control sk-hidden--visually\" id=\"sk-estimator-id-158\" type=\"checkbox\" ><label for=\"sk-estimator-id-158\" class=\"sk-toggleable__label sk-toggleable__label-arrow\">PowerTransformer</label><div class=\"sk-toggleable__content\"><pre>PowerTransformer(method=&#x27;box-cox&#x27;)</pre></div></div></div></div></div></div></div></div></div></div></div></div>"
      ],
      "text/plain": [
       "Pipeline(steps=[('first',\n",
       "                 ColumnTransformer(remainder='passthrough',\n",
       "                                   sparse_threshold=0.0,\n",
       "                                   transformers=[('imputer',\n",
       "                                                  SimpleImputer(strategy='most_frequent'),\n",
       "                                                  [0, 1, 2, 3, 4, 5])])),\n",
       "                ('third',\n",
       "                 ColumnTransformer(remainder='passthrough',\n",
       "                                   sparse_threshold=0.0,\n",
       "                                   transformers=[('onehot', OneHotEncoder(),\n",
       "                                                  [0, 2, 3, 4, 5])])),\n",
       "                ('model',\n",
       "                 TransformedTargetRegressor(regressor=LinearRegression(),\n",
       "                                            transformer=PowerTransformer(method='box-cox')))])"
      ]
     },
     "execution_count": 97,
     "metadata": {},
     "output_type": "execute_result"
    }
   ],
   "source": [
    "linregressor_pipe = pipeline_builder(LinearRegression(), \n",
    "                  column_indices, \n",
    "                  cat_indices, \n",
    "                  fill_values=True, ordinal_encode=False, one_hot=True)\n",
    "\n",
    "linregressor_pipe"
   ]
  },
  {
   "cell_type": "code",
   "execution_count": 98,
   "id": "0ee17d88-36e1-435b-a3d8-053a9000d8f2",
   "metadata": {},
   "outputs": [],
   "source": [
    "linregressor_grid_search = RandomizedSearchCV(estimator=linregressor_pipe,\n",
    "            param_distributions=linregressor_params_grid,\n",
    "            cv=5, \n",
    "            n_iter=5,\n",
    "            n_jobs = -1, random_state=42)"
   ]
  },
  {
   "cell_type": "code",
   "execution_count": 99,
   "id": "85543bbd-f6a3-42b5-8616-f331fbc55b95",
   "metadata": {},
   "outputs": [
    {
     "name": "stderr",
     "output_type": "stream",
     "text": [
      "C:\\Users\\Opeyemi\\anaconda3\\envs\\EDA_Tutorial\\lib\\site-packages\\sklearn\\model_selection\\_search.py:953: UserWarning: One or more of the test scores are non-finite: [nan nan nan nan nan]\n",
      "  warnings.warn(\n"
     ]
    },
    {
     "data": {
      "text/html": [
       "<style>#sk-container-id-12 {color: black;background-color: white;}#sk-container-id-12 pre{padding: 0;}#sk-container-id-12 div.sk-toggleable {background-color: white;}#sk-container-id-12 label.sk-toggleable__label {cursor: pointer;display: block;width: 100%;margin-bottom: 0;padding: 0.3em;box-sizing: border-box;text-align: center;}#sk-container-id-12 label.sk-toggleable__label-arrow:before {content: \"▸\";float: left;margin-right: 0.25em;color: #696969;}#sk-container-id-12 label.sk-toggleable__label-arrow:hover:before {color: black;}#sk-container-id-12 div.sk-estimator:hover label.sk-toggleable__label-arrow:before {color: black;}#sk-container-id-12 div.sk-toggleable__content {max-height: 0;max-width: 0;overflow: hidden;text-align: left;background-color: #f0f8ff;}#sk-container-id-12 div.sk-toggleable__content pre {margin: 0.2em;color: black;border-radius: 0.25em;background-color: #f0f8ff;}#sk-container-id-12 input.sk-toggleable__control:checked~div.sk-toggleable__content {max-height: 200px;max-width: 100%;overflow: auto;}#sk-container-id-12 input.sk-toggleable__control:checked~label.sk-toggleable__label-arrow:before {content: \"▾\";}#sk-container-id-12 div.sk-estimator input.sk-toggleable__control:checked~label.sk-toggleable__label {background-color: #d4ebff;}#sk-container-id-12 div.sk-label input.sk-toggleable__control:checked~label.sk-toggleable__label {background-color: #d4ebff;}#sk-container-id-12 input.sk-hidden--visually {border: 0;clip: rect(1px 1px 1px 1px);clip: rect(1px, 1px, 1px, 1px);height: 1px;margin: -1px;overflow: hidden;padding: 0;position: absolute;width: 1px;}#sk-container-id-12 div.sk-estimator {font-family: monospace;background-color: #f0f8ff;border: 1px dotted black;border-radius: 0.25em;box-sizing: border-box;margin-bottom: 0.5em;}#sk-container-id-12 div.sk-estimator:hover {background-color: #d4ebff;}#sk-container-id-12 div.sk-parallel-item::after {content: \"\";width: 100%;border-bottom: 1px solid gray;flex-grow: 1;}#sk-container-id-12 div.sk-label:hover label.sk-toggleable__label {background-color: #d4ebff;}#sk-container-id-12 div.sk-serial::before {content: \"\";position: absolute;border-left: 1px solid gray;box-sizing: border-box;top: 0;bottom: 0;left: 50%;z-index: 0;}#sk-container-id-12 div.sk-serial {display: flex;flex-direction: column;align-items: center;background-color: white;padding-right: 0.2em;padding-left: 0.2em;position: relative;}#sk-container-id-12 div.sk-item {position: relative;z-index: 1;}#sk-container-id-12 div.sk-parallel {display: flex;align-items: stretch;justify-content: center;background-color: white;position: relative;}#sk-container-id-12 div.sk-item::before, #sk-container-id-12 div.sk-parallel-item::before {content: \"\";position: absolute;border-left: 1px solid gray;box-sizing: border-box;top: 0;bottom: 0;left: 50%;z-index: -1;}#sk-container-id-12 div.sk-parallel-item {display: flex;flex-direction: column;z-index: 1;position: relative;background-color: white;}#sk-container-id-12 div.sk-parallel-item:first-child::after {align-self: flex-end;width: 50%;}#sk-container-id-12 div.sk-parallel-item:last-child::after {align-self: flex-start;width: 50%;}#sk-container-id-12 div.sk-parallel-item:only-child::after {width: 0;}#sk-container-id-12 div.sk-dashed-wrapped {border: 1px dashed gray;margin: 0 0.4em 0.5em 0.4em;box-sizing: border-box;padding-bottom: 0.4em;background-color: white;}#sk-container-id-12 div.sk-label label {font-family: monospace;font-weight: bold;display: inline-block;line-height: 1.2em;}#sk-container-id-12 div.sk-label-container {text-align: center;}#sk-container-id-12 div.sk-container {/* jupyter's `normalize.less` sets `[hidden] { display: none; }` but bootstrap.min.css set `[hidden] { display: none !important; }` so we also need the `!important` here to be able to override the default hidden behavior on the sphinx rendered scikit-learn.org. See: https://github.com/scikit-learn/scikit-learn/issues/21755 */display: inline-block !important;position: relative;}#sk-container-id-12 div.sk-text-repr-fallback {display: none;}</style><div id=\"sk-container-id-12\" class=\"sk-top-container\"><div class=\"sk-text-repr-fallback\"><pre>RandomizedSearchCV(cv=5,\n",
       "                   estimator=Pipeline(steps=[(&#x27;first&#x27;,\n",
       "                                              ColumnTransformer(remainder=&#x27;passthrough&#x27;,\n",
       "                                                                sparse_threshold=0.0,\n",
       "                                                                transformers=[(&#x27;imputer&#x27;,\n",
       "                                                                               SimpleImputer(strategy=&#x27;most_frequent&#x27;),\n",
       "                                                                               [0,\n",
       "                                                                                1,\n",
       "                                                                                2,\n",
       "                                                                                3,\n",
       "                                                                                4,\n",
       "                                                                                5])])),\n",
       "                                             (&#x27;third&#x27;,\n",
       "                                              ColumnTransformer(remainder=&#x27;passthrough&#x27;,\n",
       "                                                                sparse_threshold=0.0,\n",
       "                                                                transformers=[(&#x27;onehot&#x27;,\n",
       "                                                                               OneHotEncoder(),\n",
       "                                                                               [0,\n",
       "                                                                                2,\n",
       "                                                                                3,\n",
       "                                                                                4,\n",
       "                                                                                5])])),\n",
       "                                             (&#x27;model&#x27;,\n",
       "                                              TransformedTargetRegressor(regressor=LinearRegression(),\n",
       "                                                                         transformer=PowerTransformer(method=&#x27;box-cox&#x27;)))]),\n",
       "                   n_iter=5, n_jobs=-1,\n",
       "                   param_distributions={&#x27;model__regressor__copy_X&#x27;: [True,\n",
       "                                                                     False],\n",
       "                                        &#x27;model__regressor__fit_intercept&#x27;: [True,\n",
       "                                                                            False],\n",
       "                                        &#x27;model__regressor__n_jobs&#x27;: [1, 5, 10,\n",
       "                                                                     15, None],\n",
       "                                        &#x27;model__regressor__positive&#x27;: [True,\n",
       "                                                                       False]},\n",
       "                   random_state=42)</pre><b>In a Jupyter environment, please rerun this cell to show the HTML representation or trust the notebook. <br />On GitHub, the HTML representation is unable to render, please try loading this page with nbviewer.org.</b></div><div class=\"sk-container\" hidden><div class=\"sk-item sk-dashed-wrapped\"><div class=\"sk-label-container\"><div class=\"sk-label sk-toggleable\"><input class=\"sk-toggleable__control sk-hidden--visually\" id=\"sk-estimator-id-159\" type=\"checkbox\" ><label for=\"sk-estimator-id-159\" class=\"sk-toggleable__label sk-toggleable__label-arrow\">RandomizedSearchCV</label><div class=\"sk-toggleable__content\"><pre>RandomizedSearchCV(cv=5,\n",
       "                   estimator=Pipeline(steps=[(&#x27;first&#x27;,\n",
       "                                              ColumnTransformer(remainder=&#x27;passthrough&#x27;,\n",
       "                                                                sparse_threshold=0.0,\n",
       "                                                                transformers=[(&#x27;imputer&#x27;,\n",
       "                                                                               SimpleImputer(strategy=&#x27;most_frequent&#x27;),\n",
       "                                                                               [0,\n",
       "                                                                                1,\n",
       "                                                                                2,\n",
       "                                                                                3,\n",
       "                                                                                4,\n",
       "                                                                                5])])),\n",
       "                                             (&#x27;third&#x27;,\n",
       "                                              ColumnTransformer(remainder=&#x27;passthrough&#x27;,\n",
       "                                                                sparse_threshold=0.0,\n",
       "                                                                transformers=[(&#x27;onehot&#x27;,\n",
       "                                                                               OneHotEncoder(),\n",
       "                                                                               [0,\n",
       "                                                                                2,\n",
       "                                                                                3,\n",
       "                                                                                4,\n",
       "                                                                                5])])),\n",
       "                                             (&#x27;model&#x27;,\n",
       "                                              TransformedTargetRegressor(regressor=LinearRegression(),\n",
       "                                                                         transformer=PowerTransformer(method=&#x27;box-cox&#x27;)))]),\n",
       "                   n_iter=5, n_jobs=-1,\n",
       "                   param_distributions={&#x27;model__regressor__copy_X&#x27;: [True,\n",
       "                                                                     False],\n",
       "                                        &#x27;model__regressor__fit_intercept&#x27;: [True,\n",
       "                                                                            False],\n",
       "                                        &#x27;model__regressor__n_jobs&#x27;: [1, 5, 10,\n",
       "                                                                     15, None],\n",
       "                                        &#x27;model__regressor__positive&#x27;: [True,\n",
       "                                                                       False]},\n",
       "                   random_state=42)</pre></div></div></div><div class=\"sk-parallel\"><div class=\"sk-parallel-item\"><div class=\"sk-item\"><div class=\"sk-label-container\"><div class=\"sk-label sk-toggleable\"><input class=\"sk-toggleable__control sk-hidden--visually\" id=\"sk-estimator-id-160\" type=\"checkbox\" ><label for=\"sk-estimator-id-160\" class=\"sk-toggleable__label sk-toggleable__label-arrow\">estimator: Pipeline</label><div class=\"sk-toggleable__content\"><pre>Pipeline(steps=[(&#x27;first&#x27;,\n",
       "                 ColumnTransformer(remainder=&#x27;passthrough&#x27;,\n",
       "                                   sparse_threshold=0.0,\n",
       "                                   transformers=[(&#x27;imputer&#x27;,\n",
       "                                                  SimpleImputer(strategy=&#x27;most_frequent&#x27;),\n",
       "                                                  [0, 1, 2, 3, 4, 5])])),\n",
       "                (&#x27;third&#x27;,\n",
       "                 ColumnTransformer(remainder=&#x27;passthrough&#x27;,\n",
       "                                   sparse_threshold=0.0,\n",
       "                                   transformers=[(&#x27;onehot&#x27;, OneHotEncoder(),\n",
       "                                                  [0, 2, 3, 4, 5])])),\n",
       "                (&#x27;model&#x27;,\n",
       "                 TransformedTargetRegressor(regressor=LinearRegression(),\n",
       "                                            transformer=PowerTransformer(method=&#x27;box-cox&#x27;)))])</pre></div></div></div><div class=\"sk-serial\"><div class=\"sk-item\"><div class=\"sk-serial\"><div class=\"sk-item sk-dashed-wrapped\"><div class=\"sk-label-container\"><div class=\"sk-label sk-toggleable\"><input class=\"sk-toggleable__control sk-hidden--visually\" id=\"sk-estimator-id-161\" type=\"checkbox\" ><label for=\"sk-estimator-id-161\" class=\"sk-toggleable__label sk-toggleable__label-arrow\">first: ColumnTransformer</label><div class=\"sk-toggleable__content\"><pre>ColumnTransformer(remainder=&#x27;passthrough&#x27;, sparse_threshold=0.0,\n",
       "                  transformers=[(&#x27;imputer&#x27;,\n",
       "                                 SimpleImputer(strategy=&#x27;most_frequent&#x27;),\n",
       "                                 [0, 1, 2, 3, 4, 5])])</pre></div></div></div><div class=\"sk-parallel\"><div class=\"sk-parallel-item\"><div class=\"sk-item\"><div class=\"sk-label-container\"><div class=\"sk-label sk-toggleable\"><input class=\"sk-toggleable__control sk-hidden--visually\" id=\"sk-estimator-id-162\" type=\"checkbox\" ><label for=\"sk-estimator-id-162\" class=\"sk-toggleable__label sk-toggleable__label-arrow\">imputer</label><div class=\"sk-toggleable__content\"><pre>[0, 1, 2, 3, 4, 5]</pre></div></div></div><div class=\"sk-serial\"><div class=\"sk-item\"><div class=\"sk-estimator sk-toggleable\"><input class=\"sk-toggleable__control sk-hidden--visually\" id=\"sk-estimator-id-163\" type=\"checkbox\" ><label for=\"sk-estimator-id-163\" class=\"sk-toggleable__label sk-toggleable__label-arrow\">SimpleImputer</label><div class=\"sk-toggleable__content\"><pre>SimpleImputer(strategy=&#x27;most_frequent&#x27;)</pre></div></div></div></div></div></div><div class=\"sk-parallel-item\"><div class=\"sk-item\"><div class=\"sk-label-container\"><div class=\"sk-label sk-toggleable\"><input class=\"sk-toggleable__control sk-hidden--visually\" id=\"sk-estimator-id-164\" type=\"checkbox\" ><label for=\"sk-estimator-id-164\" class=\"sk-toggleable__label sk-toggleable__label-arrow\">remainder</label><div class=\"sk-toggleable__content\"><pre></pre></div></div></div><div class=\"sk-serial\"><div class=\"sk-item\"><div class=\"sk-estimator sk-toggleable\"><input class=\"sk-toggleable__control sk-hidden--visually\" id=\"sk-estimator-id-165\" type=\"checkbox\" ><label for=\"sk-estimator-id-165\" class=\"sk-toggleable__label sk-toggleable__label-arrow\">passthrough</label><div class=\"sk-toggleable__content\"><pre>passthrough</pre></div></div></div></div></div></div></div></div><div class=\"sk-item sk-dashed-wrapped\"><div class=\"sk-label-container\"><div class=\"sk-label sk-toggleable\"><input class=\"sk-toggleable__control sk-hidden--visually\" id=\"sk-estimator-id-166\" type=\"checkbox\" ><label for=\"sk-estimator-id-166\" class=\"sk-toggleable__label sk-toggleable__label-arrow\">third: ColumnTransformer</label><div class=\"sk-toggleable__content\"><pre>ColumnTransformer(remainder=&#x27;passthrough&#x27;, sparse_threshold=0.0,\n",
       "                  transformers=[(&#x27;onehot&#x27;, OneHotEncoder(), [0, 2, 3, 4, 5])])</pre></div></div></div><div class=\"sk-parallel\"><div class=\"sk-parallel-item\"><div class=\"sk-item\"><div class=\"sk-label-container\"><div class=\"sk-label sk-toggleable\"><input class=\"sk-toggleable__control sk-hidden--visually\" id=\"sk-estimator-id-167\" type=\"checkbox\" ><label for=\"sk-estimator-id-167\" class=\"sk-toggleable__label sk-toggleable__label-arrow\">onehot</label><div class=\"sk-toggleable__content\"><pre>[0, 2, 3, 4, 5]</pre></div></div></div><div class=\"sk-serial\"><div class=\"sk-item\"><div class=\"sk-estimator sk-toggleable\"><input class=\"sk-toggleable__control sk-hidden--visually\" id=\"sk-estimator-id-168\" type=\"checkbox\" ><label for=\"sk-estimator-id-168\" class=\"sk-toggleable__label sk-toggleable__label-arrow\">OneHotEncoder</label><div class=\"sk-toggleable__content\"><pre>OneHotEncoder()</pre></div></div></div></div></div></div><div class=\"sk-parallel-item\"><div class=\"sk-item\"><div class=\"sk-label-container\"><div class=\"sk-label sk-toggleable\"><input class=\"sk-toggleable__control sk-hidden--visually\" id=\"sk-estimator-id-169\" type=\"checkbox\" ><label for=\"sk-estimator-id-169\" class=\"sk-toggleable__label sk-toggleable__label-arrow\">remainder</label><div class=\"sk-toggleable__content\"><pre></pre></div></div></div><div class=\"sk-serial\"><div class=\"sk-item\"><div class=\"sk-estimator sk-toggleable\"><input class=\"sk-toggleable__control sk-hidden--visually\" id=\"sk-estimator-id-170\" type=\"checkbox\" ><label for=\"sk-estimator-id-170\" class=\"sk-toggleable__label sk-toggleable__label-arrow\">passthrough</label><div class=\"sk-toggleable__content\"><pre>passthrough</pre></div></div></div></div></div></div></div></div><div class=\"sk-item sk-dashed-wrapped\"><div class=\"sk-label-container\"><div class=\"sk-label sk-toggleable\"><input class=\"sk-toggleable__control sk-hidden--visually\" id=\"sk-estimator-id-171\" type=\"checkbox\" ><label for=\"sk-estimator-id-171\" class=\"sk-toggleable__label sk-toggleable__label-arrow\">model: TransformedTargetRegressor</label><div class=\"sk-toggleable__content\"><pre>TransformedTargetRegressor(regressor=LinearRegression(),\n",
       "                           transformer=PowerTransformer(method=&#x27;box-cox&#x27;))</pre></div></div></div><div class=\"sk-parallel\"><div class=\"sk-parallel-item\"><div class=\"sk-item\"><div class=\"sk-label-container\"><div class=\"sk-label sk-toggleable\"><input class=\"sk-toggleable__control sk-hidden--visually\" id=\"sk-estimator-id-172\" type=\"checkbox\" ><label for=\"sk-estimator-id-172\" class=\"sk-toggleable__label sk-toggleable__label-arrow\">regressor: LinearRegression</label><div class=\"sk-toggleable__content\"><pre>LinearRegression()</pre></div></div></div><div class=\"sk-serial\"><div class=\"sk-item\"><div class=\"sk-estimator sk-toggleable\"><input class=\"sk-toggleable__control sk-hidden--visually\" id=\"sk-estimator-id-173\" type=\"checkbox\" ><label for=\"sk-estimator-id-173\" class=\"sk-toggleable__label sk-toggleable__label-arrow\">LinearRegression</label><div class=\"sk-toggleable__content\"><pre>LinearRegression()</pre></div></div></div></div></div></div><div class=\"sk-parallel-item\"><div class=\"sk-item\"><div class=\"sk-label-container\"><div class=\"sk-label sk-toggleable\"><input class=\"sk-toggleable__control sk-hidden--visually\" id=\"sk-estimator-id-174\" type=\"checkbox\" ><label for=\"sk-estimator-id-174\" class=\"sk-toggleable__label sk-toggleable__label-arrow\">transformer: PowerTransformer</label><div class=\"sk-toggleable__content\"><pre>PowerTransformer(method=&#x27;box-cox&#x27;)</pre></div></div></div><div class=\"sk-serial\"><div class=\"sk-item\"><div class=\"sk-estimator sk-toggleable\"><input class=\"sk-toggleable__control sk-hidden--visually\" id=\"sk-estimator-id-175\" type=\"checkbox\" ><label for=\"sk-estimator-id-175\" class=\"sk-toggleable__label sk-toggleable__label-arrow\">PowerTransformer</label><div class=\"sk-toggleable__content\"><pre>PowerTransformer(method=&#x27;box-cox&#x27;)</pre></div></div></div></div></div></div></div></div></div></div></div></div></div></div></div></div></div>"
      ],
      "text/plain": [
       "RandomizedSearchCV(cv=5,\n",
       "                   estimator=Pipeline(steps=[('first',\n",
       "                                              ColumnTransformer(remainder='passthrough',\n",
       "                                                                sparse_threshold=0.0,\n",
       "                                                                transformers=[('imputer',\n",
       "                                                                               SimpleImputer(strategy='most_frequent'),\n",
       "                                                                               [0,\n",
       "                                                                                1,\n",
       "                                                                                2,\n",
       "                                                                                3,\n",
       "                                                                                4,\n",
       "                                                                                5])])),\n",
       "                                             ('third',\n",
       "                                              ColumnTransformer(remainder='passthrough',\n",
       "                                                                sparse_threshold=0.0,\n",
       "                                                                transformers=[('onehot',\n",
       "                                                                               OneHotEncoder(),\n",
       "                                                                               [0,\n",
       "                                                                                2,\n",
       "                                                                                3,\n",
       "                                                                                4,\n",
       "                                                                                5])])),\n",
       "                                             ('model',\n",
       "                                              TransformedTargetRegressor(regressor=LinearRegression(),\n",
       "                                                                         transformer=PowerTransformer(method='box-cox')))]),\n",
       "                   n_iter=5, n_jobs=-1,\n",
       "                   param_distributions={'model__regressor__copy_X': [True,\n",
       "                                                                     False],\n",
       "                                        'model__regressor__fit_intercept': [True,\n",
       "                                                                            False],\n",
       "                                        'model__regressor__n_jobs': [1, 5, 10,\n",
       "                                                                     15, None],\n",
       "                                        'model__regressor__positive': [True,\n",
       "                                                                       False]},\n",
       "                   random_state=42)"
      ]
     },
     "execution_count": 99,
     "metadata": {},
     "output_type": "execute_result"
    }
   ],
   "source": [
    "# fit the model\n",
    "linregressor_grid_search.fit(X_train, y_train)"
   ]
  },
  {
   "cell_type": "code",
   "execution_count": 100,
   "id": "1dfbcc92-e50b-4f9b-a874-a01a22a3a440",
   "metadata": {},
   "outputs": [
    {
     "name": "stdout",
     "output_type": "stream",
     "text": [
      "Best parameters: {'model__regressor__positive': False, 'model__regressor__n_jobs': None, 'model__regressor__fit_intercept': False, 'model__regressor__copy_X': True}\n",
      "Best cross-validated score: nan\n"
     ]
    }
   ],
   "source": [
    "# display the best parameters and score\n",
    "print(f'Best parameters: {linregressor_grid_search.best_params_}')\n",
    "print(f'Best cross-validated score: {linregressor_grid_search.best_score_:.2f}')\n"
   ]
  },
  {
   "cell_type": "code",
   "execution_count": 101,
   "id": "357679c2-e9fb-4dee-a5d0-5eade8ec698e",
   "metadata": {},
   "outputs": [
    {
     "data": {
      "text/html": [
       "<div>\n",
       "<style scoped>\n",
       "    .dataframe tbody tr th:only-of-type {\n",
       "        vertical-align: middle;\n",
       "    }\n",
       "\n",
       "    .dataframe tbody tr th {\n",
       "        vertical-align: top;\n",
       "    }\n",
       "\n",
       "    .dataframe thead th {\n",
       "        text-align: right;\n",
       "    }\n",
       "</style>\n",
       "<table border=\"1\" class=\"dataframe\">\n",
       "  <thead>\n",
       "    <tr style=\"text-align: right;\">\n",
       "      <th></th>\n",
       "      <th>mean_fit_time</th>\n",
       "      <th>std_fit_time</th>\n",
       "      <th>mean_score_time</th>\n",
       "      <th>std_score_time</th>\n",
       "      <th>param_model__regressor__positive</th>\n",
       "      <th>param_model__regressor__n_jobs</th>\n",
       "      <th>param_model__regressor__fit_intercept</th>\n",
       "      <th>param_model__regressor__copy_X</th>\n",
       "      <th>params</th>\n",
       "      <th>split0_test_score</th>\n",
       "      <th>split1_test_score</th>\n",
       "      <th>split2_test_score</th>\n",
       "      <th>split3_test_score</th>\n",
       "      <th>split4_test_score</th>\n",
       "      <th>mean_test_score</th>\n",
       "      <th>std_test_score</th>\n",
       "      <th>rank_test_score</th>\n",
       "    </tr>\n",
       "  </thead>\n",
       "  <tbody>\n",
       "    <tr>\n",
       "      <th>0</th>\n",
       "      <td>1.696551</td>\n",
       "      <td>0.079130</td>\n",
       "      <td>0.230654</td>\n",
       "      <td>0.064826</td>\n",
       "      <td>False</td>\n",
       "      <td>None</td>\n",
       "      <td>False</td>\n",
       "      <td>True</td>\n",
       "      <td>{'model__regressor__positive': False, 'model__...</td>\n",
       "      <td>0.068921</td>\n",
       "      <td>0.099507</td>\n",
       "      <td>0.075624</td>\n",
       "      <td>0.041925</td>\n",
       "      <td>NaN</td>\n",
       "      <td>NaN</td>\n",
       "      <td>NaN</td>\n",
       "      <td>1</td>\n",
       "    </tr>\n",
       "    <tr>\n",
       "      <th>1</th>\n",
       "      <td>1.836859</td>\n",
       "      <td>0.188023</td>\n",
       "      <td>0.185685</td>\n",
       "      <td>0.042555</td>\n",
       "      <td>True</td>\n",
       "      <td>15</td>\n",
       "      <td>False</td>\n",
       "      <td>True</td>\n",
       "      <td>{'model__regressor__positive': True, 'model__r...</td>\n",
       "      <td>0.020364</td>\n",
       "      <td>0.024643</td>\n",
       "      <td>0.018914</td>\n",
       "      <td>0.007958</td>\n",
       "      <td>NaN</td>\n",
       "      <td>NaN</td>\n",
       "      <td>NaN</td>\n",
       "      <td>1</td>\n",
       "    </tr>\n",
       "    <tr>\n",
       "      <th>2</th>\n",
       "      <td>1.723532</td>\n",
       "      <td>0.110022</td>\n",
       "      <td>0.182084</td>\n",
       "      <td>0.043907</td>\n",
       "      <td>False</td>\n",
       "      <td>10</td>\n",
       "      <td>False</td>\n",
       "      <td>True</td>\n",
       "      <td>{'model__regressor__positive': False, 'model__...</td>\n",
       "      <td>0.068921</td>\n",
       "      <td>0.099503</td>\n",
       "      <td>0.075623</td>\n",
       "      <td>0.041928</td>\n",
       "      <td>NaN</td>\n",
       "      <td>NaN</td>\n",
       "      <td>NaN</td>\n",
       "      <td>1</td>\n",
       "    </tr>\n",
       "    <tr>\n",
       "      <th>3</th>\n",
       "      <td>2.078910</td>\n",
       "      <td>0.092345</td>\n",
       "      <td>0.225658</td>\n",
       "      <td>0.036460</td>\n",
       "      <td>True</td>\n",
       "      <td>15</td>\n",
       "      <td>True</td>\n",
       "      <td>False</td>\n",
       "      <td>{'model__regressor__positive': True, 'model__r...</td>\n",
       "      <td>0.069364</td>\n",
       "      <td>0.099328</td>\n",
       "      <td>0.074796</td>\n",
       "      <td>0.041482</td>\n",
       "      <td>NaN</td>\n",
       "      <td>NaN</td>\n",
       "      <td>NaN</td>\n",
       "      <td>1</td>\n",
       "    </tr>\n",
       "    <tr>\n",
       "      <th>4</th>\n",
       "      <td>1.954784</td>\n",
       "      <td>0.370851</td>\n",
       "      <td>0.125522</td>\n",
       "      <td>0.051098</td>\n",
       "      <td>True</td>\n",
       "      <td>10</td>\n",
       "      <td>True</td>\n",
       "      <td>True</td>\n",
       "      <td>{'model__regressor__positive': True, 'model__r...</td>\n",
       "      <td>0.069364</td>\n",
       "      <td>0.099328</td>\n",
       "      <td>0.074796</td>\n",
       "      <td>0.041482</td>\n",
       "      <td>NaN</td>\n",
       "      <td>NaN</td>\n",
       "      <td>NaN</td>\n",
       "      <td>1</td>\n",
       "    </tr>\n",
       "  </tbody>\n",
       "</table>\n",
       "</div>"
      ],
      "text/plain": [
       "   mean_fit_time  std_fit_time  mean_score_time  std_score_time  \\\n",
       "0       1.696551      0.079130         0.230654        0.064826   \n",
       "1       1.836859      0.188023         0.185685        0.042555   \n",
       "2       1.723532      0.110022         0.182084        0.043907   \n",
       "3       2.078910      0.092345         0.225658        0.036460   \n",
       "4       1.954784      0.370851         0.125522        0.051098   \n",
       "\n",
       "  param_model__regressor__positive param_model__regressor__n_jobs  \\\n",
       "0                            False                           None   \n",
       "1                             True                             15   \n",
       "2                            False                             10   \n",
       "3                             True                             15   \n",
       "4                             True                             10   \n",
       "\n",
       "  param_model__regressor__fit_intercept param_model__regressor__copy_X  \\\n",
       "0                                 False                           True   \n",
       "1                                 False                           True   \n",
       "2                                 False                           True   \n",
       "3                                  True                          False   \n",
       "4                                  True                           True   \n",
       "\n",
       "                                              params  split0_test_score  \\\n",
       "0  {'model__regressor__positive': False, 'model__...           0.068921   \n",
       "1  {'model__regressor__positive': True, 'model__r...           0.020364   \n",
       "2  {'model__regressor__positive': False, 'model__...           0.068921   \n",
       "3  {'model__regressor__positive': True, 'model__r...           0.069364   \n",
       "4  {'model__regressor__positive': True, 'model__r...           0.069364   \n",
       "\n",
       "   split1_test_score  split2_test_score  split3_test_score  split4_test_score  \\\n",
       "0           0.099507           0.075624           0.041925                NaN   \n",
       "1           0.024643           0.018914           0.007958                NaN   \n",
       "2           0.099503           0.075623           0.041928                NaN   \n",
       "3           0.099328           0.074796           0.041482                NaN   \n",
       "4           0.099328           0.074796           0.041482                NaN   \n",
       "\n",
       "   mean_test_score  std_test_score  rank_test_score  \n",
       "0              NaN             NaN                1  \n",
       "1              NaN             NaN                1  \n",
       "2              NaN             NaN                1  \n",
       "3              NaN             NaN                1  \n",
       "4              NaN             NaN                1  "
      ]
     },
     "execution_count": 101,
     "metadata": {},
     "output_type": "execute_result"
    }
   ],
   "source": [
    "pd.DataFrame(linregressor_grid_search.cv_results_)"
   ]
  },
  {
   "cell_type": "code",
   "execution_count": 103,
   "id": "0a7b64dd-8d49-463f-9bf2-205b52a0d3ff",
   "metadata": {},
   "outputs": [],
   "source": [
    "reg = linregressor_pipe.fit(X_train, y_train)"
   ]
  },
  {
   "cell_type": "code",
   "execution_count": 104,
   "id": "81f82b87-90e2-46c9-9921-f0a27448bf03",
   "metadata": {},
   "outputs": [
    {
     "data": {
      "text/plain": [
       "0.07023938028757537"
      ]
     },
     "execution_count": 104,
     "metadata": {},
     "output_type": "execute_result"
    }
   ],
   "source": [
    "reg.score(X_train, y_train)"
   ]
  },
  {
   "cell_type": "code",
   "execution_count": 105,
   "id": "52088ab9-040b-43cf-97ee-1889f53f6da6",
   "metadata": {},
   "outputs": [],
   "source": [
    "creg = catboost_pipe.fit(X_train, y_train)"
   ]
  },
  {
   "cell_type": "code",
   "execution_count": 106,
   "id": "91032e9a-4d0f-4535-a01b-cab558d1b705",
   "metadata": {},
   "outputs": [
    {
     "data": {
      "text/plain": [
       "0.29428678793241847"
      ]
     },
     "execution_count": 106,
     "metadata": {},
     "output_type": "execute_result"
    }
   ],
   "source": [
    "creg.score(X_train, y_train)"
   ]
  },
  {
   "cell_type": "code",
   "execution_count": null,
   "id": "9e030401-1b2a-4487-83b2-be573a142371",
   "metadata": {},
   "outputs": [],
   "source": []
  },
  {
   "cell_type": "markdown",
   "id": "42e4f992-e3f3-44ba-b95d-7b67ccf7eb06",
   "metadata": {},
   "source": [
    "###  AdaBoostRegressor"
   ]
  },
  {
   "cell_type": "code",
   "execution_count": 108,
   "id": "9ccb6657-b630-45cf-bff6-2991246cde46",
   "metadata": {},
   "outputs": [],
   "source": [
    "# define parameters grid for the model\n",
    "params_adaregressor = {'n_estimators': [20, 50, 80, 100], \n",
    "               'learning_rate': [0.03, 0.06, 1.0, 1.05], \n",
    "               'loss': ['linear', 'square', 'exponential']\n",
    "               }\n"
   ]
  },
  {
   "cell_type": "code",
   "execution_count": 109,
   "id": "78aa366c-2f7c-42c2-a9fe-c13fc58c22f3",
   "metadata": {},
   "outputs": [
    {
     "data": {
      "text/plain": [
       "{'model__regressor__n_estimators': [20, 50, 80, 100],\n",
       " 'model__regressor__learning_rate': [0.03, 0.06, 1.0, 1.05],\n",
       " 'model__regressor__loss': ['linear', 'square', 'exponential']}"
      ]
     },
     "execution_count": 109,
     "metadata": {},
     "output_type": "execute_result"
    }
   ],
   "source": [
    "# parameter grid for models\n",
    "adaregressor_params_grid = build_model_parameters(params_dict=params_adaregressor)\n",
    "adaregressor_params_grid"
   ]
  },
  {
   "cell_type": "code",
   "execution_count": 110,
   "id": "69a03f03-903e-427b-8f24-29da53b65dfc",
   "metadata": {},
   "outputs": [
    {
     "data": {
      "text/html": [
       "<style>#sk-container-id-13 {color: black;background-color: white;}#sk-container-id-13 pre{padding: 0;}#sk-container-id-13 div.sk-toggleable {background-color: white;}#sk-container-id-13 label.sk-toggleable__label {cursor: pointer;display: block;width: 100%;margin-bottom: 0;padding: 0.3em;box-sizing: border-box;text-align: center;}#sk-container-id-13 label.sk-toggleable__label-arrow:before {content: \"▸\";float: left;margin-right: 0.25em;color: #696969;}#sk-container-id-13 label.sk-toggleable__label-arrow:hover:before {color: black;}#sk-container-id-13 div.sk-estimator:hover label.sk-toggleable__label-arrow:before {color: black;}#sk-container-id-13 div.sk-toggleable__content {max-height: 0;max-width: 0;overflow: hidden;text-align: left;background-color: #f0f8ff;}#sk-container-id-13 div.sk-toggleable__content pre {margin: 0.2em;color: black;border-radius: 0.25em;background-color: #f0f8ff;}#sk-container-id-13 input.sk-toggleable__control:checked~div.sk-toggleable__content {max-height: 200px;max-width: 100%;overflow: auto;}#sk-container-id-13 input.sk-toggleable__control:checked~label.sk-toggleable__label-arrow:before {content: \"▾\";}#sk-container-id-13 div.sk-estimator input.sk-toggleable__control:checked~label.sk-toggleable__label {background-color: #d4ebff;}#sk-container-id-13 div.sk-label input.sk-toggleable__control:checked~label.sk-toggleable__label {background-color: #d4ebff;}#sk-container-id-13 input.sk-hidden--visually {border: 0;clip: rect(1px 1px 1px 1px);clip: rect(1px, 1px, 1px, 1px);height: 1px;margin: -1px;overflow: hidden;padding: 0;position: absolute;width: 1px;}#sk-container-id-13 div.sk-estimator {font-family: monospace;background-color: #f0f8ff;border: 1px dotted black;border-radius: 0.25em;box-sizing: border-box;margin-bottom: 0.5em;}#sk-container-id-13 div.sk-estimator:hover {background-color: #d4ebff;}#sk-container-id-13 div.sk-parallel-item::after {content: \"\";width: 100%;border-bottom: 1px solid gray;flex-grow: 1;}#sk-container-id-13 div.sk-label:hover label.sk-toggleable__label {background-color: #d4ebff;}#sk-container-id-13 div.sk-serial::before {content: \"\";position: absolute;border-left: 1px solid gray;box-sizing: border-box;top: 0;bottom: 0;left: 50%;z-index: 0;}#sk-container-id-13 div.sk-serial {display: flex;flex-direction: column;align-items: center;background-color: white;padding-right: 0.2em;padding-left: 0.2em;position: relative;}#sk-container-id-13 div.sk-item {position: relative;z-index: 1;}#sk-container-id-13 div.sk-parallel {display: flex;align-items: stretch;justify-content: center;background-color: white;position: relative;}#sk-container-id-13 div.sk-item::before, #sk-container-id-13 div.sk-parallel-item::before {content: \"\";position: absolute;border-left: 1px solid gray;box-sizing: border-box;top: 0;bottom: 0;left: 50%;z-index: -1;}#sk-container-id-13 div.sk-parallel-item {display: flex;flex-direction: column;z-index: 1;position: relative;background-color: white;}#sk-container-id-13 div.sk-parallel-item:first-child::after {align-self: flex-end;width: 50%;}#sk-container-id-13 div.sk-parallel-item:last-child::after {align-self: flex-start;width: 50%;}#sk-container-id-13 div.sk-parallel-item:only-child::after {width: 0;}#sk-container-id-13 div.sk-dashed-wrapped {border: 1px dashed gray;margin: 0 0.4em 0.5em 0.4em;box-sizing: border-box;padding-bottom: 0.4em;background-color: white;}#sk-container-id-13 div.sk-label label {font-family: monospace;font-weight: bold;display: inline-block;line-height: 1.2em;}#sk-container-id-13 div.sk-label-container {text-align: center;}#sk-container-id-13 div.sk-container {/* jupyter's `normalize.less` sets `[hidden] { display: none; }` but bootstrap.min.css set `[hidden] { display: none !important; }` so we also need the `!important` here to be able to override the default hidden behavior on the sphinx rendered scikit-learn.org. See: https://github.com/scikit-learn/scikit-learn/issues/21755 */display: inline-block !important;position: relative;}#sk-container-id-13 div.sk-text-repr-fallback {display: none;}</style><div id=\"sk-container-id-13\" class=\"sk-top-container\"><div class=\"sk-text-repr-fallback\"><pre>Pipeline(steps=[(&#x27;first&#x27;,\n",
       "                 ColumnTransformer(remainder=&#x27;passthrough&#x27;,\n",
       "                                   sparse_threshold=0.0,\n",
       "                                   transformers=[(&#x27;imputer&#x27;,\n",
       "                                                  SimpleImputer(strategy=&#x27;most_frequent&#x27;),\n",
       "                                                  [0, 1, 2, 3, 4, 5])])),\n",
       "                (&#x27;third&#x27;,\n",
       "                 ColumnTransformer(remainder=&#x27;passthrough&#x27;,\n",
       "                                   sparse_threshold=0.0,\n",
       "                                   transformers=[(&#x27;onehot&#x27;, OneHotEncoder(),\n",
       "                                                  [0, 2, 3, 4, 5])])),\n",
       "                (&#x27;model&#x27;,\n",
       "                 TransformedTargetRegressor(regressor=AdaBoostRegressor(),\n",
       "                                            transformer=PowerTransformer(method=&#x27;box-cox&#x27;)))])</pre><b>In a Jupyter environment, please rerun this cell to show the HTML representation or trust the notebook. <br />On GitHub, the HTML representation is unable to render, please try loading this page with nbviewer.org.</b></div><div class=\"sk-container\" hidden><div class=\"sk-item sk-dashed-wrapped\"><div class=\"sk-label-container\"><div class=\"sk-label sk-toggleable\"><input class=\"sk-toggleable__control sk-hidden--visually\" id=\"sk-estimator-id-176\" type=\"checkbox\" ><label for=\"sk-estimator-id-176\" class=\"sk-toggleable__label sk-toggleable__label-arrow\">Pipeline</label><div class=\"sk-toggleable__content\"><pre>Pipeline(steps=[(&#x27;first&#x27;,\n",
       "                 ColumnTransformer(remainder=&#x27;passthrough&#x27;,\n",
       "                                   sparse_threshold=0.0,\n",
       "                                   transformers=[(&#x27;imputer&#x27;,\n",
       "                                                  SimpleImputer(strategy=&#x27;most_frequent&#x27;),\n",
       "                                                  [0, 1, 2, 3, 4, 5])])),\n",
       "                (&#x27;third&#x27;,\n",
       "                 ColumnTransformer(remainder=&#x27;passthrough&#x27;,\n",
       "                                   sparse_threshold=0.0,\n",
       "                                   transformers=[(&#x27;onehot&#x27;, OneHotEncoder(),\n",
       "                                                  [0, 2, 3, 4, 5])])),\n",
       "                (&#x27;model&#x27;,\n",
       "                 TransformedTargetRegressor(regressor=AdaBoostRegressor(),\n",
       "                                            transformer=PowerTransformer(method=&#x27;box-cox&#x27;)))])</pre></div></div></div><div class=\"sk-serial\"><div class=\"sk-item sk-dashed-wrapped\"><div class=\"sk-label-container\"><div class=\"sk-label sk-toggleable\"><input class=\"sk-toggleable__control sk-hidden--visually\" id=\"sk-estimator-id-177\" type=\"checkbox\" ><label for=\"sk-estimator-id-177\" class=\"sk-toggleable__label sk-toggleable__label-arrow\">first: ColumnTransformer</label><div class=\"sk-toggleable__content\"><pre>ColumnTransformer(remainder=&#x27;passthrough&#x27;, sparse_threshold=0.0,\n",
       "                  transformers=[(&#x27;imputer&#x27;,\n",
       "                                 SimpleImputer(strategy=&#x27;most_frequent&#x27;),\n",
       "                                 [0, 1, 2, 3, 4, 5])])</pre></div></div></div><div class=\"sk-parallel\"><div class=\"sk-parallel-item\"><div class=\"sk-item\"><div class=\"sk-label-container\"><div class=\"sk-label sk-toggleable\"><input class=\"sk-toggleable__control sk-hidden--visually\" id=\"sk-estimator-id-178\" type=\"checkbox\" ><label for=\"sk-estimator-id-178\" class=\"sk-toggleable__label sk-toggleable__label-arrow\">imputer</label><div class=\"sk-toggleable__content\"><pre>[0, 1, 2, 3, 4, 5]</pre></div></div></div><div class=\"sk-serial\"><div class=\"sk-item\"><div class=\"sk-estimator sk-toggleable\"><input class=\"sk-toggleable__control sk-hidden--visually\" id=\"sk-estimator-id-179\" type=\"checkbox\" ><label for=\"sk-estimator-id-179\" class=\"sk-toggleable__label sk-toggleable__label-arrow\">SimpleImputer</label><div class=\"sk-toggleable__content\"><pre>SimpleImputer(strategy=&#x27;most_frequent&#x27;)</pre></div></div></div></div></div></div><div class=\"sk-parallel-item\"><div class=\"sk-item\"><div class=\"sk-label-container\"><div class=\"sk-label sk-toggleable\"><input class=\"sk-toggleable__control sk-hidden--visually\" id=\"sk-estimator-id-180\" type=\"checkbox\" ><label for=\"sk-estimator-id-180\" class=\"sk-toggleable__label sk-toggleable__label-arrow\">remainder</label><div class=\"sk-toggleable__content\"><pre></pre></div></div></div><div class=\"sk-serial\"><div class=\"sk-item\"><div class=\"sk-estimator sk-toggleable\"><input class=\"sk-toggleable__control sk-hidden--visually\" id=\"sk-estimator-id-181\" type=\"checkbox\" ><label for=\"sk-estimator-id-181\" class=\"sk-toggleable__label sk-toggleable__label-arrow\">passthrough</label><div class=\"sk-toggleable__content\"><pre>passthrough</pre></div></div></div></div></div></div></div></div><div class=\"sk-item sk-dashed-wrapped\"><div class=\"sk-label-container\"><div class=\"sk-label sk-toggleable\"><input class=\"sk-toggleable__control sk-hidden--visually\" id=\"sk-estimator-id-182\" type=\"checkbox\" ><label for=\"sk-estimator-id-182\" class=\"sk-toggleable__label sk-toggleable__label-arrow\">third: ColumnTransformer</label><div class=\"sk-toggleable__content\"><pre>ColumnTransformer(remainder=&#x27;passthrough&#x27;, sparse_threshold=0.0,\n",
       "                  transformers=[(&#x27;onehot&#x27;, OneHotEncoder(), [0, 2, 3, 4, 5])])</pre></div></div></div><div class=\"sk-parallel\"><div class=\"sk-parallel-item\"><div class=\"sk-item\"><div class=\"sk-label-container\"><div class=\"sk-label sk-toggleable\"><input class=\"sk-toggleable__control sk-hidden--visually\" id=\"sk-estimator-id-183\" type=\"checkbox\" ><label for=\"sk-estimator-id-183\" class=\"sk-toggleable__label sk-toggleable__label-arrow\">onehot</label><div class=\"sk-toggleable__content\"><pre>[0, 2, 3, 4, 5]</pre></div></div></div><div class=\"sk-serial\"><div class=\"sk-item\"><div class=\"sk-estimator sk-toggleable\"><input class=\"sk-toggleable__control sk-hidden--visually\" id=\"sk-estimator-id-184\" type=\"checkbox\" ><label for=\"sk-estimator-id-184\" class=\"sk-toggleable__label sk-toggleable__label-arrow\">OneHotEncoder</label><div class=\"sk-toggleable__content\"><pre>OneHotEncoder()</pre></div></div></div></div></div></div><div class=\"sk-parallel-item\"><div class=\"sk-item\"><div class=\"sk-label-container\"><div class=\"sk-label sk-toggleable\"><input class=\"sk-toggleable__control sk-hidden--visually\" id=\"sk-estimator-id-185\" type=\"checkbox\" ><label for=\"sk-estimator-id-185\" class=\"sk-toggleable__label sk-toggleable__label-arrow\">remainder</label><div class=\"sk-toggleable__content\"><pre></pre></div></div></div><div class=\"sk-serial\"><div class=\"sk-item\"><div class=\"sk-estimator sk-toggleable\"><input class=\"sk-toggleable__control sk-hidden--visually\" id=\"sk-estimator-id-186\" type=\"checkbox\" ><label for=\"sk-estimator-id-186\" class=\"sk-toggleable__label sk-toggleable__label-arrow\">passthrough</label><div class=\"sk-toggleable__content\"><pre>passthrough</pre></div></div></div></div></div></div></div></div><div class=\"sk-item sk-dashed-wrapped\"><div class=\"sk-label-container\"><div class=\"sk-label sk-toggleable\"><input class=\"sk-toggleable__control sk-hidden--visually\" id=\"sk-estimator-id-187\" type=\"checkbox\" ><label for=\"sk-estimator-id-187\" class=\"sk-toggleable__label sk-toggleable__label-arrow\">model: TransformedTargetRegressor</label><div class=\"sk-toggleable__content\"><pre>TransformedTargetRegressor(regressor=AdaBoostRegressor(),\n",
       "                           transformer=PowerTransformer(method=&#x27;box-cox&#x27;))</pre></div></div></div><div class=\"sk-parallel\"><div class=\"sk-parallel-item\"><div class=\"sk-item\"><div class=\"sk-label-container\"><div class=\"sk-label sk-toggleable\"><input class=\"sk-toggleable__control sk-hidden--visually\" id=\"sk-estimator-id-188\" type=\"checkbox\" ><label for=\"sk-estimator-id-188\" class=\"sk-toggleable__label sk-toggleable__label-arrow\">regressor: AdaBoostRegressor</label><div class=\"sk-toggleable__content\"><pre>AdaBoostRegressor()</pre></div></div></div><div class=\"sk-serial\"><div class=\"sk-item\"><div class=\"sk-estimator sk-toggleable\"><input class=\"sk-toggleable__control sk-hidden--visually\" id=\"sk-estimator-id-189\" type=\"checkbox\" ><label for=\"sk-estimator-id-189\" class=\"sk-toggleable__label sk-toggleable__label-arrow\">AdaBoostRegressor</label><div class=\"sk-toggleable__content\"><pre>AdaBoostRegressor()</pre></div></div></div></div></div></div><div class=\"sk-parallel-item\"><div class=\"sk-item\"><div class=\"sk-label-container\"><div class=\"sk-label sk-toggleable\"><input class=\"sk-toggleable__control sk-hidden--visually\" id=\"sk-estimator-id-190\" type=\"checkbox\" ><label for=\"sk-estimator-id-190\" class=\"sk-toggleable__label sk-toggleable__label-arrow\">transformer: PowerTransformer</label><div class=\"sk-toggleable__content\"><pre>PowerTransformer(method=&#x27;box-cox&#x27;)</pre></div></div></div><div class=\"sk-serial\"><div class=\"sk-item\"><div class=\"sk-estimator sk-toggleable\"><input class=\"sk-toggleable__control sk-hidden--visually\" id=\"sk-estimator-id-191\" type=\"checkbox\" ><label for=\"sk-estimator-id-191\" class=\"sk-toggleable__label sk-toggleable__label-arrow\">PowerTransformer</label><div class=\"sk-toggleable__content\"><pre>PowerTransformer(method=&#x27;box-cox&#x27;)</pre></div></div></div></div></div></div></div></div></div></div></div></div>"
      ],
      "text/plain": [
       "Pipeline(steps=[('first',\n",
       "                 ColumnTransformer(remainder='passthrough',\n",
       "                                   sparse_threshold=0.0,\n",
       "                                   transformers=[('imputer',\n",
       "                                                  SimpleImputer(strategy='most_frequent'),\n",
       "                                                  [0, 1, 2, 3, 4, 5])])),\n",
       "                ('third',\n",
       "                 ColumnTransformer(remainder='passthrough',\n",
       "                                   sparse_threshold=0.0,\n",
       "                                   transformers=[('onehot', OneHotEncoder(),\n",
       "                                                  [0, 2, 3, 4, 5])])),\n",
       "                ('model',\n",
       "                 TransformedTargetRegressor(regressor=AdaBoostRegressor(),\n",
       "                                            transformer=PowerTransformer(method='box-cox')))])"
      ]
     },
     "execution_count": 110,
     "metadata": {},
     "output_type": "execute_result"
    }
   ],
   "source": [
    "adaregressor_pipe = pipeline_builder(AdaBoostRegressor(), \n",
    "                  column_indices, \n",
    "                  cat_indices, \n",
    "                  fill_values=True, ordinal_encode=False, one_hot=True)\n",
    "\n",
    "adaregressor_pipe"
   ]
  },
  {
   "cell_type": "code",
   "execution_count": 111,
   "id": "aa2709d3-590e-4620-ae22-1fbefb07a8ed",
   "metadata": {},
   "outputs": [],
   "source": [
    "adaregressor_grid_search = RandomizedSearchCV(estimator=adaregressor_pipe,\n",
    "            param_distributions=adaregressor_params_grid,\n",
    "            cv=5, \n",
    "            n_iter=5,\n",
    "            n_jobs = -1, random_state=42)"
   ]
  },
  {
   "cell_type": "code",
   "execution_count": 112,
   "id": "1db04596-3d5c-4bd6-b9f2-859e1a1d99f9",
   "metadata": {},
   "outputs": [
    {
     "name": "stderr",
     "output_type": "stream",
     "text": [
      "C:\\Users\\Opeyemi\\anaconda3\\envs\\EDA_Tutorial\\lib\\site-packages\\sklearn\\model_selection\\_search.py:953: UserWarning: One or more of the test scores are non-finite: [nan nan nan nan nan]\n",
      "  warnings.warn(\n"
     ]
    },
    {
     "data": {
      "text/html": [
       "<style>#sk-container-id-14 {color: black;background-color: white;}#sk-container-id-14 pre{padding: 0;}#sk-container-id-14 div.sk-toggleable {background-color: white;}#sk-container-id-14 label.sk-toggleable__label {cursor: pointer;display: block;width: 100%;margin-bottom: 0;padding: 0.3em;box-sizing: border-box;text-align: center;}#sk-container-id-14 label.sk-toggleable__label-arrow:before {content: \"▸\";float: left;margin-right: 0.25em;color: #696969;}#sk-container-id-14 label.sk-toggleable__label-arrow:hover:before {color: black;}#sk-container-id-14 div.sk-estimator:hover label.sk-toggleable__label-arrow:before {color: black;}#sk-container-id-14 div.sk-toggleable__content {max-height: 0;max-width: 0;overflow: hidden;text-align: left;background-color: #f0f8ff;}#sk-container-id-14 div.sk-toggleable__content pre {margin: 0.2em;color: black;border-radius: 0.25em;background-color: #f0f8ff;}#sk-container-id-14 input.sk-toggleable__control:checked~div.sk-toggleable__content {max-height: 200px;max-width: 100%;overflow: auto;}#sk-container-id-14 input.sk-toggleable__control:checked~label.sk-toggleable__label-arrow:before {content: \"▾\";}#sk-container-id-14 div.sk-estimator input.sk-toggleable__control:checked~label.sk-toggleable__label {background-color: #d4ebff;}#sk-container-id-14 div.sk-label input.sk-toggleable__control:checked~label.sk-toggleable__label {background-color: #d4ebff;}#sk-container-id-14 input.sk-hidden--visually {border: 0;clip: rect(1px 1px 1px 1px);clip: rect(1px, 1px, 1px, 1px);height: 1px;margin: -1px;overflow: hidden;padding: 0;position: absolute;width: 1px;}#sk-container-id-14 div.sk-estimator {font-family: monospace;background-color: #f0f8ff;border: 1px dotted black;border-radius: 0.25em;box-sizing: border-box;margin-bottom: 0.5em;}#sk-container-id-14 div.sk-estimator:hover {background-color: #d4ebff;}#sk-container-id-14 div.sk-parallel-item::after {content: \"\";width: 100%;border-bottom: 1px solid gray;flex-grow: 1;}#sk-container-id-14 div.sk-label:hover label.sk-toggleable__label {background-color: #d4ebff;}#sk-container-id-14 div.sk-serial::before {content: \"\";position: absolute;border-left: 1px solid gray;box-sizing: border-box;top: 0;bottom: 0;left: 50%;z-index: 0;}#sk-container-id-14 div.sk-serial {display: flex;flex-direction: column;align-items: center;background-color: white;padding-right: 0.2em;padding-left: 0.2em;position: relative;}#sk-container-id-14 div.sk-item {position: relative;z-index: 1;}#sk-container-id-14 div.sk-parallel {display: flex;align-items: stretch;justify-content: center;background-color: white;position: relative;}#sk-container-id-14 div.sk-item::before, #sk-container-id-14 div.sk-parallel-item::before {content: \"\";position: absolute;border-left: 1px solid gray;box-sizing: border-box;top: 0;bottom: 0;left: 50%;z-index: -1;}#sk-container-id-14 div.sk-parallel-item {display: flex;flex-direction: column;z-index: 1;position: relative;background-color: white;}#sk-container-id-14 div.sk-parallel-item:first-child::after {align-self: flex-end;width: 50%;}#sk-container-id-14 div.sk-parallel-item:last-child::after {align-self: flex-start;width: 50%;}#sk-container-id-14 div.sk-parallel-item:only-child::after {width: 0;}#sk-container-id-14 div.sk-dashed-wrapped {border: 1px dashed gray;margin: 0 0.4em 0.5em 0.4em;box-sizing: border-box;padding-bottom: 0.4em;background-color: white;}#sk-container-id-14 div.sk-label label {font-family: monospace;font-weight: bold;display: inline-block;line-height: 1.2em;}#sk-container-id-14 div.sk-label-container {text-align: center;}#sk-container-id-14 div.sk-container {/* jupyter's `normalize.less` sets `[hidden] { display: none; }` but bootstrap.min.css set `[hidden] { display: none !important; }` so we also need the `!important` here to be able to override the default hidden behavior on the sphinx rendered scikit-learn.org. See: https://github.com/scikit-learn/scikit-learn/issues/21755 */display: inline-block !important;position: relative;}#sk-container-id-14 div.sk-text-repr-fallback {display: none;}</style><div id=\"sk-container-id-14\" class=\"sk-top-container\"><div class=\"sk-text-repr-fallback\"><pre>RandomizedSearchCV(cv=5,\n",
       "                   estimator=Pipeline(steps=[(&#x27;first&#x27;,\n",
       "                                              ColumnTransformer(remainder=&#x27;passthrough&#x27;,\n",
       "                                                                sparse_threshold=0.0,\n",
       "                                                                transformers=[(&#x27;imputer&#x27;,\n",
       "                                                                               SimpleImputer(strategy=&#x27;most_frequent&#x27;),\n",
       "                                                                               [0,\n",
       "                                                                                1,\n",
       "                                                                                2,\n",
       "                                                                                3,\n",
       "                                                                                4,\n",
       "                                                                                5])])),\n",
       "                                             (&#x27;third&#x27;,\n",
       "                                              ColumnTransformer(remainder=&#x27;passthrough&#x27;,\n",
       "                                                                sparse_threshold=0.0,\n",
       "                                                                transformers=[(&#x27;onehot&#x27;,\n",
       "                                                                               OneHotEncoder(),\n",
       "                                                                               [0,\n",
       "                                                                                2,\n",
       "                                                                                3,\n",
       "                                                                                4,\n",
       "                                                                                5])])),\n",
       "                                             (&#x27;model&#x27;,\n",
       "                                              TransformedTargetRegressor(regressor=AdaBoostRegressor(),\n",
       "                                                                         transformer=PowerTransformer(method=&#x27;box-cox&#x27;)))]),\n",
       "                   n_iter=5, n_jobs=-1,\n",
       "                   param_distributions={&#x27;model__regressor__learning_rate&#x27;: [0.03,\n",
       "                                                                            0.06,\n",
       "                                                                            1.0,\n",
       "                                                                            1.05],\n",
       "                                        &#x27;model__regressor__loss&#x27;: [&#x27;linear&#x27;,\n",
       "                                                                   &#x27;square&#x27;,\n",
       "                                                                   &#x27;exponential&#x27;],\n",
       "                                        &#x27;model__regressor__n_estimators&#x27;: [20,\n",
       "                                                                           50,\n",
       "                                                                           80,\n",
       "                                                                           100]},\n",
       "                   random_state=42)</pre><b>In a Jupyter environment, please rerun this cell to show the HTML representation or trust the notebook. <br />On GitHub, the HTML representation is unable to render, please try loading this page with nbviewer.org.</b></div><div class=\"sk-container\" hidden><div class=\"sk-item sk-dashed-wrapped\"><div class=\"sk-label-container\"><div class=\"sk-label sk-toggleable\"><input class=\"sk-toggleable__control sk-hidden--visually\" id=\"sk-estimator-id-192\" type=\"checkbox\" ><label for=\"sk-estimator-id-192\" class=\"sk-toggleable__label sk-toggleable__label-arrow\">RandomizedSearchCV</label><div class=\"sk-toggleable__content\"><pre>RandomizedSearchCV(cv=5,\n",
       "                   estimator=Pipeline(steps=[(&#x27;first&#x27;,\n",
       "                                              ColumnTransformer(remainder=&#x27;passthrough&#x27;,\n",
       "                                                                sparse_threshold=0.0,\n",
       "                                                                transformers=[(&#x27;imputer&#x27;,\n",
       "                                                                               SimpleImputer(strategy=&#x27;most_frequent&#x27;),\n",
       "                                                                               [0,\n",
       "                                                                                1,\n",
       "                                                                                2,\n",
       "                                                                                3,\n",
       "                                                                                4,\n",
       "                                                                                5])])),\n",
       "                                             (&#x27;third&#x27;,\n",
       "                                              ColumnTransformer(remainder=&#x27;passthrough&#x27;,\n",
       "                                                                sparse_threshold=0.0,\n",
       "                                                                transformers=[(&#x27;onehot&#x27;,\n",
       "                                                                               OneHotEncoder(),\n",
       "                                                                               [0,\n",
       "                                                                                2,\n",
       "                                                                                3,\n",
       "                                                                                4,\n",
       "                                                                                5])])),\n",
       "                                             (&#x27;model&#x27;,\n",
       "                                              TransformedTargetRegressor(regressor=AdaBoostRegressor(),\n",
       "                                                                         transformer=PowerTransformer(method=&#x27;box-cox&#x27;)))]),\n",
       "                   n_iter=5, n_jobs=-1,\n",
       "                   param_distributions={&#x27;model__regressor__learning_rate&#x27;: [0.03,\n",
       "                                                                            0.06,\n",
       "                                                                            1.0,\n",
       "                                                                            1.05],\n",
       "                                        &#x27;model__regressor__loss&#x27;: [&#x27;linear&#x27;,\n",
       "                                                                   &#x27;square&#x27;,\n",
       "                                                                   &#x27;exponential&#x27;],\n",
       "                                        &#x27;model__regressor__n_estimators&#x27;: [20,\n",
       "                                                                           50,\n",
       "                                                                           80,\n",
       "                                                                           100]},\n",
       "                   random_state=42)</pre></div></div></div><div class=\"sk-parallel\"><div class=\"sk-parallel-item\"><div class=\"sk-item\"><div class=\"sk-label-container\"><div class=\"sk-label sk-toggleable\"><input class=\"sk-toggleable__control sk-hidden--visually\" id=\"sk-estimator-id-193\" type=\"checkbox\" ><label for=\"sk-estimator-id-193\" class=\"sk-toggleable__label sk-toggleable__label-arrow\">estimator: Pipeline</label><div class=\"sk-toggleable__content\"><pre>Pipeline(steps=[(&#x27;first&#x27;,\n",
       "                 ColumnTransformer(remainder=&#x27;passthrough&#x27;,\n",
       "                                   sparse_threshold=0.0,\n",
       "                                   transformers=[(&#x27;imputer&#x27;,\n",
       "                                                  SimpleImputer(strategy=&#x27;most_frequent&#x27;),\n",
       "                                                  [0, 1, 2, 3, 4, 5])])),\n",
       "                (&#x27;third&#x27;,\n",
       "                 ColumnTransformer(remainder=&#x27;passthrough&#x27;,\n",
       "                                   sparse_threshold=0.0,\n",
       "                                   transformers=[(&#x27;onehot&#x27;, OneHotEncoder(),\n",
       "                                                  [0, 2, 3, 4, 5])])),\n",
       "                (&#x27;model&#x27;,\n",
       "                 TransformedTargetRegressor(regressor=AdaBoostRegressor(),\n",
       "                                            transformer=PowerTransformer(method=&#x27;box-cox&#x27;)))])</pre></div></div></div><div class=\"sk-serial\"><div class=\"sk-item\"><div class=\"sk-serial\"><div class=\"sk-item sk-dashed-wrapped\"><div class=\"sk-label-container\"><div class=\"sk-label sk-toggleable\"><input class=\"sk-toggleable__control sk-hidden--visually\" id=\"sk-estimator-id-194\" type=\"checkbox\" ><label for=\"sk-estimator-id-194\" class=\"sk-toggleable__label sk-toggleable__label-arrow\">first: ColumnTransformer</label><div class=\"sk-toggleable__content\"><pre>ColumnTransformer(remainder=&#x27;passthrough&#x27;, sparse_threshold=0.0,\n",
       "                  transformers=[(&#x27;imputer&#x27;,\n",
       "                                 SimpleImputer(strategy=&#x27;most_frequent&#x27;),\n",
       "                                 [0, 1, 2, 3, 4, 5])])</pre></div></div></div><div class=\"sk-parallel\"><div class=\"sk-parallel-item\"><div class=\"sk-item\"><div class=\"sk-label-container\"><div class=\"sk-label sk-toggleable\"><input class=\"sk-toggleable__control sk-hidden--visually\" id=\"sk-estimator-id-195\" type=\"checkbox\" ><label for=\"sk-estimator-id-195\" class=\"sk-toggleable__label sk-toggleable__label-arrow\">imputer</label><div class=\"sk-toggleable__content\"><pre>[0, 1, 2, 3, 4, 5]</pre></div></div></div><div class=\"sk-serial\"><div class=\"sk-item\"><div class=\"sk-estimator sk-toggleable\"><input class=\"sk-toggleable__control sk-hidden--visually\" id=\"sk-estimator-id-196\" type=\"checkbox\" ><label for=\"sk-estimator-id-196\" class=\"sk-toggleable__label sk-toggleable__label-arrow\">SimpleImputer</label><div class=\"sk-toggleable__content\"><pre>SimpleImputer(strategy=&#x27;most_frequent&#x27;)</pre></div></div></div></div></div></div><div class=\"sk-parallel-item\"><div class=\"sk-item\"><div class=\"sk-label-container\"><div class=\"sk-label sk-toggleable\"><input class=\"sk-toggleable__control sk-hidden--visually\" id=\"sk-estimator-id-197\" type=\"checkbox\" ><label for=\"sk-estimator-id-197\" class=\"sk-toggleable__label sk-toggleable__label-arrow\">remainder</label><div class=\"sk-toggleable__content\"><pre></pre></div></div></div><div class=\"sk-serial\"><div class=\"sk-item\"><div class=\"sk-estimator sk-toggleable\"><input class=\"sk-toggleable__control sk-hidden--visually\" id=\"sk-estimator-id-198\" type=\"checkbox\" ><label for=\"sk-estimator-id-198\" class=\"sk-toggleable__label sk-toggleable__label-arrow\">passthrough</label><div class=\"sk-toggleable__content\"><pre>passthrough</pre></div></div></div></div></div></div></div></div><div class=\"sk-item sk-dashed-wrapped\"><div class=\"sk-label-container\"><div class=\"sk-label sk-toggleable\"><input class=\"sk-toggleable__control sk-hidden--visually\" id=\"sk-estimator-id-199\" type=\"checkbox\" ><label for=\"sk-estimator-id-199\" class=\"sk-toggleable__label sk-toggleable__label-arrow\">third: ColumnTransformer</label><div class=\"sk-toggleable__content\"><pre>ColumnTransformer(remainder=&#x27;passthrough&#x27;, sparse_threshold=0.0,\n",
       "                  transformers=[(&#x27;onehot&#x27;, OneHotEncoder(), [0, 2, 3, 4, 5])])</pre></div></div></div><div class=\"sk-parallel\"><div class=\"sk-parallel-item\"><div class=\"sk-item\"><div class=\"sk-label-container\"><div class=\"sk-label sk-toggleable\"><input class=\"sk-toggleable__control sk-hidden--visually\" id=\"sk-estimator-id-200\" type=\"checkbox\" ><label for=\"sk-estimator-id-200\" class=\"sk-toggleable__label sk-toggleable__label-arrow\">onehot</label><div class=\"sk-toggleable__content\"><pre>[0, 2, 3, 4, 5]</pre></div></div></div><div class=\"sk-serial\"><div class=\"sk-item\"><div class=\"sk-estimator sk-toggleable\"><input class=\"sk-toggleable__control sk-hidden--visually\" id=\"sk-estimator-id-201\" type=\"checkbox\" ><label for=\"sk-estimator-id-201\" class=\"sk-toggleable__label sk-toggleable__label-arrow\">OneHotEncoder</label><div class=\"sk-toggleable__content\"><pre>OneHotEncoder()</pre></div></div></div></div></div></div><div class=\"sk-parallel-item\"><div class=\"sk-item\"><div class=\"sk-label-container\"><div class=\"sk-label sk-toggleable\"><input class=\"sk-toggleable__control sk-hidden--visually\" id=\"sk-estimator-id-202\" type=\"checkbox\" ><label for=\"sk-estimator-id-202\" class=\"sk-toggleable__label sk-toggleable__label-arrow\">remainder</label><div class=\"sk-toggleable__content\"><pre></pre></div></div></div><div class=\"sk-serial\"><div class=\"sk-item\"><div class=\"sk-estimator sk-toggleable\"><input class=\"sk-toggleable__control sk-hidden--visually\" id=\"sk-estimator-id-203\" type=\"checkbox\" ><label for=\"sk-estimator-id-203\" class=\"sk-toggleable__label sk-toggleable__label-arrow\">passthrough</label><div class=\"sk-toggleable__content\"><pre>passthrough</pre></div></div></div></div></div></div></div></div><div class=\"sk-item sk-dashed-wrapped\"><div class=\"sk-label-container\"><div class=\"sk-label sk-toggleable\"><input class=\"sk-toggleable__control sk-hidden--visually\" id=\"sk-estimator-id-204\" type=\"checkbox\" ><label for=\"sk-estimator-id-204\" class=\"sk-toggleable__label sk-toggleable__label-arrow\">model: TransformedTargetRegressor</label><div class=\"sk-toggleable__content\"><pre>TransformedTargetRegressor(regressor=AdaBoostRegressor(),\n",
       "                           transformer=PowerTransformer(method=&#x27;box-cox&#x27;))</pre></div></div></div><div class=\"sk-parallel\"><div class=\"sk-parallel-item\"><div class=\"sk-item\"><div class=\"sk-label-container\"><div class=\"sk-label sk-toggleable\"><input class=\"sk-toggleable__control sk-hidden--visually\" id=\"sk-estimator-id-205\" type=\"checkbox\" ><label for=\"sk-estimator-id-205\" class=\"sk-toggleable__label sk-toggleable__label-arrow\">regressor: AdaBoostRegressor</label><div class=\"sk-toggleable__content\"><pre>AdaBoostRegressor()</pre></div></div></div><div class=\"sk-serial\"><div class=\"sk-item\"><div class=\"sk-estimator sk-toggleable\"><input class=\"sk-toggleable__control sk-hidden--visually\" id=\"sk-estimator-id-206\" type=\"checkbox\" ><label for=\"sk-estimator-id-206\" class=\"sk-toggleable__label sk-toggleable__label-arrow\">AdaBoostRegressor</label><div class=\"sk-toggleable__content\"><pre>AdaBoostRegressor()</pre></div></div></div></div></div></div><div class=\"sk-parallel-item\"><div class=\"sk-item\"><div class=\"sk-label-container\"><div class=\"sk-label sk-toggleable\"><input class=\"sk-toggleable__control sk-hidden--visually\" id=\"sk-estimator-id-207\" type=\"checkbox\" ><label for=\"sk-estimator-id-207\" class=\"sk-toggleable__label sk-toggleable__label-arrow\">transformer: PowerTransformer</label><div class=\"sk-toggleable__content\"><pre>PowerTransformer(method=&#x27;box-cox&#x27;)</pre></div></div></div><div class=\"sk-serial\"><div class=\"sk-item\"><div class=\"sk-estimator sk-toggleable\"><input class=\"sk-toggleable__control sk-hidden--visually\" id=\"sk-estimator-id-208\" type=\"checkbox\" ><label for=\"sk-estimator-id-208\" class=\"sk-toggleable__label sk-toggleable__label-arrow\">PowerTransformer</label><div class=\"sk-toggleable__content\"><pre>PowerTransformer(method=&#x27;box-cox&#x27;)</pre></div></div></div></div></div></div></div></div></div></div></div></div></div></div></div></div></div>"
      ],
      "text/plain": [
       "RandomizedSearchCV(cv=5,\n",
       "                   estimator=Pipeline(steps=[('first',\n",
       "                                              ColumnTransformer(remainder='passthrough',\n",
       "                                                                sparse_threshold=0.0,\n",
       "                                                                transformers=[('imputer',\n",
       "                                                                               SimpleImputer(strategy='most_frequent'),\n",
       "                                                                               [0,\n",
       "                                                                                1,\n",
       "                                                                                2,\n",
       "                                                                                3,\n",
       "                                                                                4,\n",
       "                                                                                5])])),\n",
       "                                             ('third',\n",
       "                                              ColumnTransformer(remainder='passthrough',\n",
       "                                                                sparse_threshold=0.0,\n",
       "                                                                transformers=[('onehot',\n",
       "                                                                               OneHotEncoder(),\n",
       "                                                                               [0,\n",
       "                                                                                2,\n",
       "                                                                                3,\n",
       "                                                                                4,\n",
       "                                                                                5])])),\n",
       "                                             ('model',\n",
       "                                              TransformedTargetRegressor(regressor=AdaBoostRegressor(),\n",
       "                                                                         transformer=PowerTransformer(method='box-cox')))]),\n",
       "                   n_iter=5, n_jobs=-1,\n",
       "                   param_distributions={'model__regressor__learning_rate': [0.03,\n",
       "                                                                            0.06,\n",
       "                                                                            1.0,\n",
       "                                                                            1.05],\n",
       "                                        'model__regressor__loss': ['linear',\n",
       "                                                                   'square',\n",
       "                                                                   'exponential'],\n",
       "                                        'model__regressor__n_estimators': [20,\n",
       "                                                                           50,\n",
       "                                                                           80,\n",
       "                                                                           100]},\n",
       "                   random_state=42)"
      ]
     },
     "execution_count": 112,
     "metadata": {},
     "output_type": "execute_result"
    }
   ],
   "source": [
    "# fit the model\n",
    "adaregressor_grid_search.fit(X_train, y_train)"
   ]
  },
  {
   "cell_type": "code",
   "execution_count": 113,
   "id": "bc3e8bf4-d757-4ba9-b1de-86a381b9ed4b",
   "metadata": {},
   "outputs": [
    {
     "name": "stdout",
     "output_type": "stream",
     "text": [
      "Best parameters: {'model__regressor__n_estimators': 100, 'model__regressor__loss': 'linear', 'model__regressor__learning_rate': 1.0}\n",
      "Best cross-validated score: nan\n"
     ]
    }
   ],
   "source": [
    "# display the best parameters and score\n",
    "print(f'Best parameters: {adaregressor_grid_search.best_params_}')\n",
    "print(f'Best cross-validated score: {adaregressor_grid_search.best_score_:.2f}')\n"
   ]
  },
  {
   "cell_type": "code",
   "execution_count": 114,
   "id": "284a98d7-ed0e-4880-add4-c9a5ec22cf4a",
   "metadata": {},
   "outputs": [
    {
     "data": {
      "text/html": [
       "<div>\n",
       "<style scoped>\n",
       "    .dataframe tbody tr th:only-of-type {\n",
       "        vertical-align: middle;\n",
       "    }\n",
       "\n",
       "    .dataframe tbody tr th {\n",
       "        vertical-align: top;\n",
       "    }\n",
       "\n",
       "    .dataframe thead th {\n",
       "        text-align: right;\n",
       "    }\n",
       "</style>\n",
       "<table border=\"1\" class=\"dataframe\">\n",
       "  <thead>\n",
       "    <tr style=\"text-align: right;\">\n",
       "      <th></th>\n",
       "      <th>mean_fit_time</th>\n",
       "      <th>std_fit_time</th>\n",
       "      <th>mean_score_time</th>\n",
       "      <th>std_score_time</th>\n",
       "      <th>param_model__regressor__n_estimators</th>\n",
       "      <th>param_model__regressor__loss</th>\n",
       "      <th>param_model__regressor__learning_rate</th>\n",
       "      <th>params</th>\n",
       "      <th>split0_test_score</th>\n",
       "      <th>split1_test_score</th>\n",
       "      <th>split2_test_score</th>\n",
       "      <th>split3_test_score</th>\n",
       "      <th>split4_test_score</th>\n",
       "      <th>mean_test_score</th>\n",
       "      <th>std_test_score</th>\n",
       "      <th>rank_test_score</th>\n",
       "    </tr>\n",
       "  </thead>\n",
       "  <tbody>\n",
       "    <tr>\n",
       "      <th>0</th>\n",
       "      <td>21.752080</td>\n",
       "      <td>4.148045</td>\n",
       "      <td>1.243742</td>\n",
       "      <td>0.595639</td>\n",
       "      <td>100</td>\n",
       "      <td>linear</td>\n",
       "      <td>1.0</td>\n",
       "      <td>{'model__regressor__n_estimators': 100, 'model...</td>\n",
       "      <td>0.034949</td>\n",
       "      <td>0.085089</td>\n",
       "      <td>0.114154</td>\n",
       "      <td>0.047487</td>\n",
       "      <td>NaN</td>\n",
       "      <td>NaN</td>\n",
       "      <td>NaN</td>\n",
       "      <td>1</td>\n",
       "    </tr>\n",
       "    <tr>\n",
       "      <th>1</th>\n",
       "      <td>17.918303</td>\n",
       "      <td>1.674310</td>\n",
       "      <td>1.215245</td>\n",
       "      <td>0.590623</td>\n",
       "      <td>20</td>\n",
       "      <td>square</td>\n",
       "      <td>1.05</td>\n",
       "      <td>{'model__regressor__n_estimators': 20, 'model_...</td>\n",
       "      <td>0.001629</td>\n",
       "      <td>-1.366346</td>\n",
       "      <td>-1.034853</td>\n",
       "      <td>-0.387110</td>\n",
       "      <td>NaN</td>\n",
       "      <td>NaN</td>\n",
       "      <td>NaN</td>\n",
       "      <td>1</td>\n",
       "    </tr>\n",
       "    <tr>\n",
       "      <th>2</th>\n",
       "      <td>21.283902</td>\n",
       "      <td>2.273202</td>\n",
       "      <td>1.108109</td>\n",
       "      <td>0.432332</td>\n",
       "      <td>80</td>\n",
       "      <td>linear</td>\n",
       "      <td>1.0</td>\n",
       "      <td>{'model__regressor__n_estimators': 80, 'model_...</td>\n",
       "      <td>0.050678</td>\n",
       "      <td>0.080531</td>\n",
       "      <td>0.163980</td>\n",
       "      <td>0.255096</td>\n",
       "      <td>NaN</td>\n",
       "      <td>NaN</td>\n",
       "      <td>NaN</td>\n",
       "      <td>1</td>\n",
       "    </tr>\n",
       "    <tr>\n",
       "      <th>3</th>\n",
       "      <td>21.100709</td>\n",
       "      <td>2.836984</td>\n",
       "      <td>1.483685</td>\n",
       "      <td>0.351562</td>\n",
       "      <td>100</td>\n",
       "      <td>square</td>\n",
       "      <td>1.05</td>\n",
       "      <td>{'model__regressor__n_estimators': 100, 'model...</td>\n",
       "      <td>0.017413</td>\n",
       "      <td>-1.352292</td>\n",
       "      <td>-0.999657</td>\n",
       "      <td>-0.551001</td>\n",
       "      <td>NaN</td>\n",
       "      <td>NaN</td>\n",
       "      <td>NaN</td>\n",
       "      <td>1</td>\n",
       "    </tr>\n",
       "    <tr>\n",
       "      <th>4</th>\n",
       "      <td>17.051579</td>\n",
       "      <td>3.011755</td>\n",
       "      <td>0.714352</td>\n",
       "      <td>0.380192</td>\n",
       "      <td>20</td>\n",
       "      <td>linear</td>\n",
       "      <td>1.0</td>\n",
       "      <td>{'model__regressor__n_estimators': 20, 'model_...</td>\n",
       "      <td>0.055116</td>\n",
       "      <td>0.083451</td>\n",
       "      <td>0.067007</td>\n",
       "      <td>0.251973</td>\n",
       "      <td>NaN</td>\n",
       "      <td>NaN</td>\n",
       "      <td>NaN</td>\n",
       "      <td>1</td>\n",
       "    </tr>\n",
       "  </tbody>\n",
       "</table>\n",
       "</div>"
      ],
      "text/plain": [
       "   mean_fit_time  std_fit_time  mean_score_time  std_score_time  \\\n",
       "0      21.752080      4.148045         1.243742        0.595639   \n",
       "1      17.918303      1.674310         1.215245        0.590623   \n",
       "2      21.283902      2.273202         1.108109        0.432332   \n",
       "3      21.100709      2.836984         1.483685        0.351562   \n",
       "4      17.051579      3.011755         0.714352        0.380192   \n",
       "\n",
       "  param_model__regressor__n_estimators param_model__regressor__loss  \\\n",
       "0                                  100                       linear   \n",
       "1                                   20                       square   \n",
       "2                                   80                       linear   \n",
       "3                                  100                       square   \n",
       "4                                   20                       linear   \n",
       "\n",
       "  param_model__regressor__learning_rate  \\\n",
       "0                                   1.0   \n",
       "1                                  1.05   \n",
       "2                                   1.0   \n",
       "3                                  1.05   \n",
       "4                                   1.0   \n",
       "\n",
       "                                              params  split0_test_score  \\\n",
       "0  {'model__regressor__n_estimators': 100, 'model...           0.034949   \n",
       "1  {'model__regressor__n_estimators': 20, 'model_...           0.001629   \n",
       "2  {'model__regressor__n_estimators': 80, 'model_...           0.050678   \n",
       "3  {'model__regressor__n_estimators': 100, 'model...           0.017413   \n",
       "4  {'model__regressor__n_estimators': 20, 'model_...           0.055116   \n",
       "\n",
       "   split1_test_score  split2_test_score  split3_test_score  split4_test_score  \\\n",
       "0           0.085089           0.114154           0.047487                NaN   \n",
       "1          -1.366346          -1.034853          -0.387110                NaN   \n",
       "2           0.080531           0.163980           0.255096                NaN   \n",
       "3          -1.352292          -0.999657          -0.551001                NaN   \n",
       "4           0.083451           0.067007           0.251973                NaN   \n",
       "\n",
       "   mean_test_score  std_test_score  rank_test_score  \n",
       "0              NaN             NaN                1  \n",
       "1              NaN             NaN                1  \n",
       "2              NaN             NaN                1  \n",
       "3              NaN             NaN                1  \n",
       "4              NaN             NaN                1  "
      ]
     },
     "execution_count": 114,
     "metadata": {},
     "output_type": "execute_result"
    }
   ],
   "source": [
    "pd.DataFrame(adaregressor_grid_search.cv_results_)"
   ]
  },
  {
   "cell_type": "code",
   "execution_count": null,
   "id": "da5b09ca-44dc-4933-8e72-ba93bf9770c5",
   "metadata": {},
   "outputs": [],
   "source": []
  },
  {
   "cell_type": "code",
   "execution_count": null,
   "id": "0df04a35-8cff-4645-9cce-70821e2a7676",
   "metadata": {},
   "outputs": [],
   "source": []
  },
  {
   "cell_type": "code",
   "execution_count": null,
   "id": "de961536-661a-4de1-ae15-2283226972be",
   "metadata": {},
   "outputs": [],
   "source": []
  },
  {
   "cell_type": "code",
   "execution_count": null,
   "id": "a4ab62bb-9682-4bad-8fe2-e06e9cba4c22",
   "metadata": {},
   "outputs": [],
   "source": []
  },
  {
   "cell_type": "code",
   "execution_count": null,
   "id": "f2fff07d-4bb8-47f9-a46a-7435143c6053",
   "metadata": {},
   "outputs": [],
   "source": []
  }
 ],
 "metadata": {
  "kernelspec": {
   "display_name": "EDA_Tutorial",
   "language": "python",
   "name": "eda_tutorial"
  },
  "language_info": {
   "codemirror_mode": {
    "name": "ipython",
    "version": 3
   },
   "file_extension": ".py",
   "mimetype": "text/x-python",
   "name": "python",
   "nbconvert_exporter": "python",
   "pygments_lexer": "ipython3",
   "version": "3.10.12"
  }
 },
 "nbformat": 4,
 "nbformat_minor": 5
}
